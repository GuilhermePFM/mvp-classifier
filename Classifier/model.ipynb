{
 "cells": [
  {
   "cell_type": "markdown",
   "id": "2d7b70e9",
   "metadata": {},
   "source": [
    "# Classifier model for personal spendings\n",
    "Guilherme Machado"
   ]
  },
  {
   "cell_type": "code",
   "execution_count": 1,
   "id": "7726ae93",
   "metadata": {},
   "outputs": [
    {
     "name": "stderr",
     "output_type": "stream",
     "text": [
      "c:\\Users\\guilh\\Code\\ControleFinanceiro\\mvp-classifier\\.venv\\lib\\site-packages\\tqdm\\auto.py:21: TqdmWarning: IProgress not found. Please update jupyter and ipywidgets. See https://ipywidgets.readthedocs.io/en/stable/user_install.html\n",
      "  from .autonotebook import tqdm as notebook_tqdm\n"
     ]
    }
   ],
   "source": [
    "# plotting libs\n",
    "import seaborn as sns\n",
    "import matplotlib.pyplot as plt\n",
    "\n",
    "# machine learning\n",
    "from sklearn.preprocessing import LabelEncoder\n",
    "from sklearn.preprocessing import Normalizer\n",
    "\n",
    "from sklearn.pipeline import Pipeline\n",
    "\n",
    "from sklearn.linear_model import RidgeClassifier, LogisticRegression\n",
    "from sklearn.naive_bayes import CategoricalNB, GaussianNB\n",
    "from sklearn.svm import LinearSVC\n",
    "from sklearn.neighbors import KNeighborsClassifier\n",
    "from sklearn.ensemble import GradientBoostingClassifier\n",
    "from sklearn.ensemble import RandomForestClassifier\n",
    "from sklearn.ensemble import AdaBoostClassifier\n",
    "\n",
    "from sklearn.metrics import confusion_matrix\n",
    "from sklearn.metrics import balanced_accuracy_score\n",
    "from sklearn.metrics import confusion_matrix\n",
    "from sklearn.metrics import roc_auc_score\n",
    "from sklearn.metrics import ConfusionMatrixDisplay\n",
    "\n",
    "from sklearn.model_selection import cross_validate\n",
    "from sklearn.model_selection import StratifiedKFold\n",
    "from sklearn.model_selection import cross_val_score, GridSearchCV\n",
    "\n",
    "# data\n",
    "import pandas as pd\n",
    "import numpy as np\n",
    "\n",
    "# utils\n",
    "from pathlib import Path\n",
    "import pickle\n",
    "\n",
    "# custom libs\n",
    "from data_loader import load_treated_dataset\n",
    "from training import split_train_test\n",
    "from preprocess import get_preprocessing_transformer"
   ]
  },
  {
   "cell_type": "markdown",
   "id": "032b9769",
   "metadata": {},
   "source": [
    "## Intro\n"
   ]
  },
  {
   "cell_type": "markdown",
   "id": "7ef1fb6d",
   "metadata": {},
   "source": [
    "This notebook presents a comprehensive workflow for building and evaluating machine learning models to classify personal spending transactions. \n",
    "\n",
    "The project follows best practices in intelligent software systems engineering, covering all key steps: data preparation, feature engineering, model training, hyperparameter tuning, evaluation, and model export for future use.\n",
    " \n",
    "The workflow leverages popular machine learning libraries such as scikit-learn and pandas, and demonstrates the use of pipelines and cross-validation for robust model development.\n",
    "\n"
   ]
  },
  {
   "cell_type": "markdown",
   "id": "83a415f7",
   "metadata": {},
   "source": [
    "## Problem Description\n",
    "The goal of this notebook is to automate the classification of personal spending transactions into predefined categories. \n",
    "\n",
    "This is a common problem in personal finance management, where users want to track and analyze their expenses by category (e.g., groceries, utilities, entertainment). \n",
    "\n",
    "### Dataset\n",
    "The dataset used in this notebook is a collection of labeled personal financial transactions, stored in the file `database_classified.parquet`. Each row represents a single transaction, and the dataset includes the following columns:\n",
    "\n",
    "- **ID**: A unique identifier for each transaction.\n",
    "- **Data**: The date of the transaction.\n",
    "- **conta**: The account or source (e.g., bank or card) associated with the transaction.\n",
    "- **Descrição**: A textual description of the transaction (e.g., merchant name, payment details).\n",
    "- **categoria**: The category assigned to the transaction (e.g., \"Alimentação cotidiana\", \"Transporte\", \"Saúde\"). This is the target variable for classification.\n",
    "- **Valor**: The monetary value of the transaction (negative for expenses, positive for income).\n",
    "- **origem**: The original file or source from which the transaction was imported.\n",
    "\n",
    "### Purpose and Use\n",
    "The dataset is used to train and evaluate machine learning models that can automatically classify new transactions into the correct spending category based on their description, value, and other features. This helps users organize and analyze their personal finances more efficiently.\n",
    "\n",
    "### Categories\n",
    "The `categoria` column contains a variety of spending and income categories, such as:\n",
    "- Alimentação cotidiana (everyday food)\n",
    "- Transporte (transportation)\n",
    "- Saúde (health)\n",
    "- Compras (shopping)\n",
    "- Salário (salary)\n",
    "- Reembolsos (reimbursements)\n",
    "- and many others.\n",
    "\n",
    "### Preprocessing\n",
    "Before being used for modeling, the dataset undergoes several preprocessing steps:\n",
    "- Text normalization (e.g., lowercasing descriptions).\n",
    "- Removal of unnecessary columns (e.g., account, ID, origin).\n",
    "- Grouping rare categories into \"Other\" if they have too few samples.\n",
    "- Feature engineering, such as extracting keywords from descriptions and processing dates.\n",
    "\n",
    "This structured and preprocessed dataset enables the development of robust classification models for personal finance management.\n",
    "\n",
    "## Models evaluated\n",
    "The task is to train and compare various classification algorithms—including K-Nearest Neighbors, Decision Trees, Naive Bayes, and Support Vector Machines—to determine which model best predicts the spending category of new, unseen transactions. "
   ]
  },
  {
   "cell_type": "markdown",
   "id": "1d1b2709",
   "metadata": {},
   "source": [
    "## Set Env variables"
   ]
  },
  {
   "cell_type": "code",
   "execution_count": 2,
   "id": "4c90dbc1",
   "metadata": {},
   "outputs": [],
   "source": [
    "root_dir = Path('.')"
   ]
  },
  {
   "cell_type": "code",
   "execution_count": 3,
   "id": "3ffde7dd",
   "metadata": {},
   "outputs": [],
   "source": [
    "test_size = 0.3\n",
    "random_state = np.random.RandomState(0)\n",
    "test_dataset_seed=1"
   ]
  },
  {
   "cell_type": "markdown",
   "id": "6e023de8",
   "metadata": {},
   "source": [
    "## Load dataset"
   ]
  },
  {
   "cell_type": "markdown",
   "id": "796ce027",
   "metadata": {},
   "source": [
    "### Load data from file"
   ]
  },
  {
   "cell_type": "code",
   "execution_count": 4,
   "id": "c5690afd",
   "metadata": {},
   "outputs": [],
   "source": [
    "complete_dataset = load_treated_dataset(root_dir)"
   ]
  },
  {
   "cell_type": "code",
   "execution_count": 5,
   "id": "270b11de",
   "metadata": {},
   "outputs": [
    {
     "data": {
      "application/vnd.microsoft.datawrangler.viewer.v0+json": {
       "columns": [
        {
         "name": "index",
         "rawType": "int64",
         "type": "integer"
        },
        {
         "name": "Data",
         "rawType": "datetime64[ms]",
         "type": "unknown"
        },
        {
         "name": "Descrição",
         "rawType": "object",
         "type": "string"
        },
        {
         "name": "categoria",
         "rawType": "object",
         "type": "string"
        },
        {
         "name": "Valor",
         "rawType": "float64",
         "type": "float"
        }
       ],
       "ref": "f8b6aff5-3ec1-451b-9445-9291e56ffebc",
       "rows": [
        [
         "0",
         "2022-10-10 00:00:00",
         "parc=105ponto frio.c*3483 - parc.4/5",
         "Presentes",
         "-172.38"
        ],
        [
         "1",
         "2022-11-20 00:00:00",
         "ec*pantys - parc.3/3",
         "Autocuidado - produtos",
         "-91.83"
        ],
        [
         "2",
         "2022-11-22 00:00:00",
         "milena afradique - parc.2/3",
         "Autocuidado - serviços",
         "-566.67"
        ],
        [
         "3",
         "2022-11-25 00:00:00",
         "werner coiffeur bota - parc.2/3",
         "Autocuidado - serviços",
         "-483.33"
        ],
        [
         "4",
         "2022-11-26 00:00:00",
         "nespresso - parc.2/4",
         "Alimentação cotidiana",
         "-103.0"
        ]
       ],
       "shape": {
        "columns": 4,
        "rows": 5
       }
      },
      "text/html": [
       "<div>\n",
       "<style scoped>\n",
       "    .dataframe tbody tr th:only-of-type {\n",
       "        vertical-align: middle;\n",
       "    }\n",
       "\n",
       "    .dataframe tbody tr th {\n",
       "        vertical-align: top;\n",
       "    }\n",
       "\n",
       "    .dataframe thead th {\n",
       "        text-align: right;\n",
       "    }\n",
       "</style>\n",
       "<table border=\"1\" class=\"dataframe\">\n",
       "  <thead>\n",
       "    <tr style=\"text-align: right;\">\n",
       "      <th></th>\n",
       "      <th>Data</th>\n",
       "      <th>Descrição</th>\n",
       "      <th>categoria</th>\n",
       "      <th>Valor</th>\n",
       "    </tr>\n",
       "  </thead>\n",
       "  <tbody>\n",
       "    <tr>\n",
       "      <th>0</th>\n",
       "      <td>2022-10-10</td>\n",
       "      <td>parc=105ponto frio.c*3483 - parc.4/5</td>\n",
       "      <td>Presentes</td>\n",
       "      <td>-172.38</td>\n",
       "    </tr>\n",
       "    <tr>\n",
       "      <th>1</th>\n",
       "      <td>2022-11-20</td>\n",
       "      <td>ec*pantys - parc.3/3</td>\n",
       "      <td>Autocuidado - produtos</td>\n",
       "      <td>-91.83</td>\n",
       "    </tr>\n",
       "    <tr>\n",
       "      <th>2</th>\n",
       "      <td>2022-11-22</td>\n",
       "      <td>milena afradique - parc.2/3</td>\n",
       "      <td>Autocuidado - serviços</td>\n",
       "      <td>-566.67</td>\n",
       "    </tr>\n",
       "    <tr>\n",
       "      <th>3</th>\n",
       "      <td>2022-11-25</td>\n",
       "      <td>werner coiffeur bota - parc.2/3</td>\n",
       "      <td>Autocuidado - serviços</td>\n",
       "      <td>-483.33</td>\n",
       "    </tr>\n",
       "    <tr>\n",
       "      <th>4</th>\n",
       "      <td>2022-11-26</td>\n",
       "      <td>nespresso - parc.2/4</td>\n",
       "      <td>Alimentação cotidiana</td>\n",
       "      <td>-103.00</td>\n",
       "    </tr>\n",
       "  </tbody>\n",
       "</table>\n",
       "</div>"
      ],
      "text/plain": [
       "        Data                             Descrição               categoria  \\\n",
       "0 2022-10-10  parc=105ponto frio.c*3483 - parc.4/5               Presentes   \n",
       "1 2022-11-20                  ec*pantys - parc.3/3  Autocuidado - produtos   \n",
       "2 2022-11-22           milena afradique - parc.2/3  Autocuidado - serviços   \n",
       "3 2022-11-25       werner coiffeur bota - parc.2/3  Autocuidado - serviços   \n",
       "4 2022-11-26                  nespresso - parc.2/4   Alimentação cotidiana   \n",
       "\n",
       "    Valor  \n",
       "0 -172.38  \n",
       "1  -91.83  \n",
       "2 -566.67  \n",
       "3 -483.33  \n",
       "4 -103.00  "
      ]
     },
     "execution_count": 5,
     "metadata": {},
     "output_type": "execute_result"
    }
   ],
   "source": [
    "complete_dataset.head()"
   ]
  },
  {
   "cell_type": "markdown",
   "id": "eac568d4",
   "metadata": {},
   "source": [
    "### Holdout: Split test and train"
   ]
  },
  {
   "cell_type": "code",
   "execution_count": 6,
   "id": "8c38f6d1",
   "metadata": {},
   "outputs": [],
   "source": [
    "train, test = split_train_test(complete_dataset, test_size=test_size)\n",
    "X_train = train[[i for i in train.columns if i != 'categoria']]"
   ]
  },
  {
   "cell_type": "code",
   "execution_count": 7,
   "id": "4f792110",
   "metadata": {},
   "outputs": [],
   "source": [
    "X_test = test[[i for i in test.columns if i != 'categoria']]"
   ]
  },
  {
   "cell_type": "markdown",
   "id": "a26bf39a",
   "metadata": {},
   "source": [
    "### Encode y classifications"
   ]
  },
  {
   "cell_type": "code",
   "execution_count": 8,
   "id": "fd4c4972",
   "metadata": {},
   "outputs": [],
   "source": [
    "y_train = train['categoria']\n",
    "y_enconder = LabelEncoder().fit(y_train)\n",
    "y_train_encoded = y_enconder.transform(y_train)"
   ]
  },
  {
   "cell_type": "code",
   "execution_count": 9,
   "id": "b8875c1d",
   "metadata": {},
   "outputs": [],
   "source": [
    "y_test = test['categoria']\n",
    "y_test_encoded = y_enconder.transform(y_test)"
   ]
  },
  {
   "cell_type": "markdown",
   "id": "62037fc4",
   "metadata": {},
   "source": [
    "## Data preprocessing pipeline\n",
    "---\n",
    "The `get_preprocessing_transformer` function builds a comprehensive data preprocessing pipeline using scikit-learn's `ColumnTransformer`. \n",
    "\n",
    "### Overview\n",
    "\n",
    "The pipeline prepares the dataset for machine learning by transforming different types of features appropriately. It handles numeric, date, and text features, as well as engineered keyword features, ensuring the data is in the best format for model training.\n",
    "\n",
    "\n",
    "### Steps in the Pipeline\n",
    "\n",
    "1. **Numeric Features (`Valor`):**\n",
    "   - **Transformation:** Standardization using `StandardScaler`.\n",
    "   - **Purpose:** Ensures the numeric values (transaction amounts) have zero mean and unit variance, which helps many machine learning algorithms perform better.\n",
    "\n",
    "2. **Date Features (`Data`):**\n",
    "   - **Transformation:** \n",
    "     - Extracts day and month from the date.\n",
    "     - Normalizes these values.\n",
    "   - **Purpose:** Converts dates into useful numerical features (e.g., day, month) and scales them, making them suitable for model input.\n",
    "\n",
    "3. **Text Features (`Descrição`):**\n",
    "   - **Transformation:** \n",
    "     - **Text Embedding:** The description is tokenized and passed through a transformer model (DistilBERT), extracting a dense vector representation (CLS token) for each description.\n",
    "     - **Keyword Hints:** Additional binary features are created for the presence of specific keywords (e.g., \"pix\", \"uber\", \"ifd\", etc.) in the description, and these are normalized.\n",
    "     - **Combination:** Both the text embedding and keyword features are combined.\n",
    "   - **Purpose:** Captures both the semantic meaning of the transaction description and the presence of important keywords, providing rich information for classification.\n",
    "\n",
    "4. **Other Features:**\n",
    "   - Any columns not explicitly transformed are passed through unchanged (`remainder='passthrough'`).\n",
    "\n",
    "**In summary:**  \n",
    "The `get_preprocessing_transformer` function creates a robust preprocessing pipeline that standardizes numeric values, extracts and normalizes date components, generates both deep and keyword-based text features, and ensures all relevant data is ready for machine learning models. This is crucial for achieving high classification accuracy in the personal spending categorization task.\n",
    "- **Automated Feature Engineering:** The pipeline automates the extraction and transformation of features, reducing manual work and potential errors.\n",
    "- **Consistency:** Ensures that the same transformations are applied during both training and inference.\n",
    "- **Rich Feature Set:** By combining numeric, date, and advanced text features, the pipeline provides the model with a comprehensive view of each transaction."
   ]
  },
  {
   "cell_type": "code",
   "execution_count": 10,
   "id": "6ddb6a8a",
   "metadata": {},
   "outputs": [
    {
     "data": {
      "text/html": [
       "<style>#sk-container-id-1 {\n",
       "  /* Definition of color scheme common for light and dark mode */\n",
       "  --sklearn-color-text: #000;\n",
       "  --sklearn-color-text-muted: #666;\n",
       "  --sklearn-color-line: gray;\n",
       "  /* Definition of color scheme for unfitted estimators */\n",
       "  --sklearn-color-unfitted-level-0: #fff5e6;\n",
       "  --sklearn-color-unfitted-level-1: #f6e4d2;\n",
       "  --sklearn-color-unfitted-level-2: #ffe0b3;\n",
       "  --sklearn-color-unfitted-level-3: chocolate;\n",
       "  /* Definition of color scheme for fitted estimators */\n",
       "  --sklearn-color-fitted-level-0: #f0f8ff;\n",
       "  --sklearn-color-fitted-level-1: #d4ebff;\n",
       "  --sklearn-color-fitted-level-2: #b3dbfd;\n",
       "  --sklearn-color-fitted-level-3: cornflowerblue;\n",
       "\n",
       "  /* Specific color for light theme */\n",
       "  --sklearn-color-text-on-default-background: var(--sg-text-color, var(--theme-code-foreground, var(--jp-content-font-color1, black)));\n",
       "  --sklearn-color-background: var(--sg-background-color, var(--theme-background, var(--jp-layout-color0, white)));\n",
       "  --sklearn-color-border-box: var(--sg-text-color, var(--theme-code-foreground, var(--jp-content-font-color1, black)));\n",
       "  --sklearn-color-icon: #696969;\n",
       "\n",
       "  @media (prefers-color-scheme: dark) {\n",
       "    /* Redefinition of color scheme for dark theme */\n",
       "    --sklearn-color-text-on-default-background: var(--sg-text-color, var(--theme-code-foreground, var(--jp-content-font-color1, white)));\n",
       "    --sklearn-color-background: var(--sg-background-color, var(--theme-background, var(--jp-layout-color0, #111)));\n",
       "    --sklearn-color-border-box: var(--sg-text-color, var(--theme-code-foreground, var(--jp-content-font-color1, white)));\n",
       "    --sklearn-color-icon: #878787;\n",
       "  }\n",
       "}\n",
       "\n",
       "#sk-container-id-1 {\n",
       "  color: var(--sklearn-color-text);\n",
       "}\n",
       "\n",
       "#sk-container-id-1 pre {\n",
       "  padding: 0;\n",
       "}\n",
       "\n",
       "#sk-container-id-1 input.sk-hidden--visually {\n",
       "  border: 0;\n",
       "  clip: rect(1px 1px 1px 1px);\n",
       "  clip: rect(1px, 1px, 1px, 1px);\n",
       "  height: 1px;\n",
       "  margin: -1px;\n",
       "  overflow: hidden;\n",
       "  padding: 0;\n",
       "  position: absolute;\n",
       "  width: 1px;\n",
       "}\n",
       "\n",
       "#sk-container-id-1 div.sk-dashed-wrapped {\n",
       "  border: 1px dashed var(--sklearn-color-line);\n",
       "  margin: 0 0.4em 0.5em 0.4em;\n",
       "  box-sizing: border-box;\n",
       "  padding-bottom: 0.4em;\n",
       "  background-color: var(--sklearn-color-background);\n",
       "}\n",
       "\n",
       "#sk-container-id-1 div.sk-container {\n",
       "  /* jupyter's `normalize.less` sets `[hidden] { display: none; }`\n",
       "     but bootstrap.min.css set `[hidden] { display: none !important; }`\n",
       "     so we also need the `!important` here to be able to override the\n",
       "     default hidden behavior on the sphinx rendered scikit-learn.org.\n",
       "     See: https://github.com/scikit-learn/scikit-learn/issues/21755 */\n",
       "  display: inline-block !important;\n",
       "  position: relative;\n",
       "}\n",
       "\n",
       "#sk-container-id-1 div.sk-text-repr-fallback {\n",
       "  display: none;\n",
       "}\n",
       "\n",
       "div.sk-parallel-item,\n",
       "div.sk-serial,\n",
       "div.sk-item {\n",
       "  /* draw centered vertical line to link estimators */\n",
       "  background-image: linear-gradient(var(--sklearn-color-text-on-default-background), var(--sklearn-color-text-on-default-background));\n",
       "  background-size: 2px 100%;\n",
       "  background-repeat: no-repeat;\n",
       "  background-position: center center;\n",
       "}\n",
       "\n",
       "/* Parallel-specific style estimator block */\n",
       "\n",
       "#sk-container-id-1 div.sk-parallel-item::after {\n",
       "  content: \"\";\n",
       "  width: 100%;\n",
       "  border-bottom: 2px solid var(--sklearn-color-text-on-default-background);\n",
       "  flex-grow: 1;\n",
       "}\n",
       "\n",
       "#sk-container-id-1 div.sk-parallel {\n",
       "  display: flex;\n",
       "  align-items: stretch;\n",
       "  justify-content: center;\n",
       "  background-color: var(--sklearn-color-background);\n",
       "  position: relative;\n",
       "}\n",
       "\n",
       "#sk-container-id-1 div.sk-parallel-item {\n",
       "  display: flex;\n",
       "  flex-direction: column;\n",
       "}\n",
       "\n",
       "#sk-container-id-1 div.sk-parallel-item:first-child::after {\n",
       "  align-self: flex-end;\n",
       "  width: 50%;\n",
       "}\n",
       "\n",
       "#sk-container-id-1 div.sk-parallel-item:last-child::after {\n",
       "  align-self: flex-start;\n",
       "  width: 50%;\n",
       "}\n",
       "\n",
       "#sk-container-id-1 div.sk-parallel-item:only-child::after {\n",
       "  width: 0;\n",
       "}\n",
       "\n",
       "/* Serial-specific style estimator block */\n",
       "\n",
       "#sk-container-id-1 div.sk-serial {\n",
       "  display: flex;\n",
       "  flex-direction: column;\n",
       "  align-items: center;\n",
       "  background-color: var(--sklearn-color-background);\n",
       "  padding-right: 1em;\n",
       "  padding-left: 1em;\n",
       "}\n",
       "\n",
       "\n",
       "/* Toggleable style: style used for estimator/Pipeline/ColumnTransformer box that is\n",
       "clickable and can be expanded/collapsed.\n",
       "- Pipeline and ColumnTransformer use this feature and define the default style\n",
       "- Estimators will overwrite some part of the style using the `sk-estimator` class\n",
       "*/\n",
       "\n",
       "/* Pipeline and ColumnTransformer style (default) */\n",
       "\n",
       "#sk-container-id-1 div.sk-toggleable {\n",
       "  /* Default theme specific background. It is overwritten whether we have a\n",
       "  specific estimator or a Pipeline/ColumnTransformer */\n",
       "  background-color: var(--sklearn-color-background);\n",
       "}\n",
       "\n",
       "/* Toggleable label */\n",
       "#sk-container-id-1 label.sk-toggleable__label {\n",
       "  cursor: pointer;\n",
       "  display: flex;\n",
       "  width: 100%;\n",
       "  margin-bottom: 0;\n",
       "  padding: 0.5em;\n",
       "  box-sizing: border-box;\n",
       "  text-align: center;\n",
       "  align-items: start;\n",
       "  justify-content: space-between;\n",
       "  gap: 0.5em;\n",
       "}\n",
       "\n",
       "#sk-container-id-1 label.sk-toggleable__label .caption {\n",
       "  font-size: 0.6rem;\n",
       "  font-weight: lighter;\n",
       "  color: var(--sklearn-color-text-muted);\n",
       "}\n",
       "\n",
       "#sk-container-id-1 label.sk-toggleable__label-arrow:before {\n",
       "  /* Arrow on the left of the label */\n",
       "  content: \"▸\";\n",
       "  float: left;\n",
       "  margin-right: 0.25em;\n",
       "  color: var(--sklearn-color-icon);\n",
       "}\n",
       "\n",
       "#sk-container-id-1 label.sk-toggleable__label-arrow:hover:before {\n",
       "  color: var(--sklearn-color-text);\n",
       "}\n",
       "\n",
       "/* Toggleable content - dropdown */\n",
       "\n",
       "#sk-container-id-1 div.sk-toggleable__content {\n",
       "  display: none;\n",
       "  text-align: left;\n",
       "  /* unfitted */\n",
       "  background-color: var(--sklearn-color-unfitted-level-0);\n",
       "}\n",
       "\n",
       "#sk-container-id-1 div.sk-toggleable__content.fitted {\n",
       "  /* fitted */\n",
       "  background-color: var(--sklearn-color-fitted-level-0);\n",
       "}\n",
       "\n",
       "#sk-container-id-1 div.sk-toggleable__content pre {\n",
       "  margin: 0.2em;\n",
       "  border-radius: 0.25em;\n",
       "  color: var(--sklearn-color-text);\n",
       "  /* unfitted */\n",
       "  background-color: var(--sklearn-color-unfitted-level-0);\n",
       "}\n",
       "\n",
       "#sk-container-id-1 div.sk-toggleable__content.fitted pre {\n",
       "  /* unfitted */\n",
       "  background-color: var(--sklearn-color-fitted-level-0);\n",
       "}\n",
       "\n",
       "#sk-container-id-1 input.sk-toggleable__control:checked~div.sk-toggleable__content {\n",
       "  /* Expand drop-down */\n",
       "  display: block;\n",
       "  width: 100%;\n",
       "  overflow: visible;\n",
       "}\n",
       "\n",
       "#sk-container-id-1 input.sk-toggleable__control:checked~label.sk-toggleable__label-arrow:before {\n",
       "  content: \"▾\";\n",
       "}\n",
       "\n",
       "/* Pipeline/ColumnTransformer-specific style */\n",
       "\n",
       "#sk-container-id-1 div.sk-label input.sk-toggleable__control:checked~label.sk-toggleable__label {\n",
       "  color: var(--sklearn-color-text);\n",
       "  background-color: var(--sklearn-color-unfitted-level-2);\n",
       "}\n",
       "\n",
       "#sk-container-id-1 div.sk-label.fitted input.sk-toggleable__control:checked~label.sk-toggleable__label {\n",
       "  background-color: var(--sklearn-color-fitted-level-2);\n",
       "}\n",
       "\n",
       "/* Estimator-specific style */\n",
       "\n",
       "/* Colorize estimator box */\n",
       "#sk-container-id-1 div.sk-estimator input.sk-toggleable__control:checked~label.sk-toggleable__label {\n",
       "  /* unfitted */\n",
       "  background-color: var(--sklearn-color-unfitted-level-2);\n",
       "}\n",
       "\n",
       "#sk-container-id-1 div.sk-estimator.fitted input.sk-toggleable__control:checked~label.sk-toggleable__label {\n",
       "  /* fitted */\n",
       "  background-color: var(--sklearn-color-fitted-level-2);\n",
       "}\n",
       "\n",
       "#sk-container-id-1 div.sk-label label.sk-toggleable__label,\n",
       "#sk-container-id-1 div.sk-label label {\n",
       "  /* The background is the default theme color */\n",
       "  color: var(--sklearn-color-text-on-default-background);\n",
       "}\n",
       "\n",
       "/* On hover, darken the color of the background */\n",
       "#sk-container-id-1 div.sk-label:hover label.sk-toggleable__label {\n",
       "  color: var(--sklearn-color-text);\n",
       "  background-color: var(--sklearn-color-unfitted-level-2);\n",
       "}\n",
       "\n",
       "/* Label box, darken color on hover, fitted */\n",
       "#sk-container-id-1 div.sk-label.fitted:hover label.sk-toggleable__label.fitted {\n",
       "  color: var(--sklearn-color-text);\n",
       "  background-color: var(--sklearn-color-fitted-level-2);\n",
       "}\n",
       "\n",
       "/* Estimator label */\n",
       "\n",
       "#sk-container-id-1 div.sk-label label {\n",
       "  font-family: monospace;\n",
       "  font-weight: bold;\n",
       "  display: inline-block;\n",
       "  line-height: 1.2em;\n",
       "}\n",
       "\n",
       "#sk-container-id-1 div.sk-label-container {\n",
       "  text-align: center;\n",
       "}\n",
       "\n",
       "/* Estimator-specific */\n",
       "#sk-container-id-1 div.sk-estimator {\n",
       "  font-family: monospace;\n",
       "  border: 1px dotted var(--sklearn-color-border-box);\n",
       "  border-radius: 0.25em;\n",
       "  box-sizing: border-box;\n",
       "  margin-bottom: 0.5em;\n",
       "  /* unfitted */\n",
       "  background-color: var(--sklearn-color-unfitted-level-0);\n",
       "}\n",
       "\n",
       "#sk-container-id-1 div.sk-estimator.fitted {\n",
       "  /* fitted */\n",
       "  background-color: var(--sklearn-color-fitted-level-0);\n",
       "}\n",
       "\n",
       "/* on hover */\n",
       "#sk-container-id-1 div.sk-estimator:hover {\n",
       "  /* unfitted */\n",
       "  background-color: var(--sklearn-color-unfitted-level-2);\n",
       "}\n",
       "\n",
       "#sk-container-id-1 div.sk-estimator.fitted:hover {\n",
       "  /* fitted */\n",
       "  background-color: var(--sklearn-color-fitted-level-2);\n",
       "}\n",
       "\n",
       "/* Specification for estimator info (e.g. \"i\" and \"?\") */\n",
       "\n",
       "/* Common style for \"i\" and \"?\" */\n",
       "\n",
       ".sk-estimator-doc-link,\n",
       "a:link.sk-estimator-doc-link,\n",
       "a:visited.sk-estimator-doc-link {\n",
       "  float: right;\n",
       "  font-size: smaller;\n",
       "  line-height: 1em;\n",
       "  font-family: monospace;\n",
       "  background-color: var(--sklearn-color-background);\n",
       "  border-radius: 1em;\n",
       "  height: 1em;\n",
       "  width: 1em;\n",
       "  text-decoration: none !important;\n",
       "  margin-left: 0.5em;\n",
       "  text-align: center;\n",
       "  /* unfitted */\n",
       "  border: var(--sklearn-color-unfitted-level-1) 1pt solid;\n",
       "  color: var(--sklearn-color-unfitted-level-1);\n",
       "}\n",
       "\n",
       ".sk-estimator-doc-link.fitted,\n",
       "a:link.sk-estimator-doc-link.fitted,\n",
       "a:visited.sk-estimator-doc-link.fitted {\n",
       "  /* fitted */\n",
       "  border: var(--sklearn-color-fitted-level-1) 1pt solid;\n",
       "  color: var(--sklearn-color-fitted-level-1);\n",
       "}\n",
       "\n",
       "/* On hover */\n",
       "div.sk-estimator:hover .sk-estimator-doc-link:hover,\n",
       ".sk-estimator-doc-link:hover,\n",
       "div.sk-label-container:hover .sk-estimator-doc-link:hover,\n",
       ".sk-estimator-doc-link:hover {\n",
       "  /* unfitted */\n",
       "  background-color: var(--sklearn-color-unfitted-level-3);\n",
       "  color: var(--sklearn-color-background);\n",
       "  text-decoration: none;\n",
       "}\n",
       "\n",
       "div.sk-estimator.fitted:hover .sk-estimator-doc-link.fitted:hover,\n",
       ".sk-estimator-doc-link.fitted:hover,\n",
       "div.sk-label-container:hover .sk-estimator-doc-link.fitted:hover,\n",
       ".sk-estimator-doc-link.fitted:hover {\n",
       "  /* fitted */\n",
       "  background-color: var(--sklearn-color-fitted-level-3);\n",
       "  color: var(--sklearn-color-background);\n",
       "  text-decoration: none;\n",
       "}\n",
       "\n",
       "/* Span, style for the box shown on hovering the info icon */\n",
       ".sk-estimator-doc-link span {\n",
       "  display: none;\n",
       "  z-index: 9999;\n",
       "  position: relative;\n",
       "  font-weight: normal;\n",
       "  right: .2ex;\n",
       "  padding: .5ex;\n",
       "  margin: .5ex;\n",
       "  width: min-content;\n",
       "  min-width: 20ex;\n",
       "  max-width: 50ex;\n",
       "  color: var(--sklearn-color-text);\n",
       "  box-shadow: 2pt 2pt 4pt #999;\n",
       "  /* unfitted */\n",
       "  background: var(--sklearn-color-unfitted-level-0);\n",
       "  border: .5pt solid var(--sklearn-color-unfitted-level-3);\n",
       "}\n",
       "\n",
       ".sk-estimator-doc-link.fitted span {\n",
       "  /* fitted */\n",
       "  background: var(--sklearn-color-fitted-level-0);\n",
       "  border: var(--sklearn-color-fitted-level-3);\n",
       "}\n",
       "\n",
       ".sk-estimator-doc-link:hover span {\n",
       "  display: block;\n",
       "}\n",
       "\n",
       "/* \"?\"-specific style due to the `<a>` HTML tag */\n",
       "\n",
       "#sk-container-id-1 a.estimator_doc_link {\n",
       "  float: right;\n",
       "  font-size: 1rem;\n",
       "  line-height: 1em;\n",
       "  font-family: monospace;\n",
       "  background-color: var(--sklearn-color-background);\n",
       "  border-radius: 1rem;\n",
       "  height: 1rem;\n",
       "  width: 1rem;\n",
       "  text-decoration: none;\n",
       "  /* unfitted */\n",
       "  color: var(--sklearn-color-unfitted-level-1);\n",
       "  border: var(--sklearn-color-unfitted-level-1) 1pt solid;\n",
       "}\n",
       "\n",
       "#sk-container-id-1 a.estimator_doc_link.fitted {\n",
       "  /* fitted */\n",
       "  border: var(--sklearn-color-fitted-level-1) 1pt solid;\n",
       "  color: var(--sklearn-color-fitted-level-1);\n",
       "}\n",
       "\n",
       "/* On hover */\n",
       "#sk-container-id-1 a.estimator_doc_link:hover {\n",
       "  /* unfitted */\n",
       "  background-color: var(--sklearn-color-unfitted-level-3);\n",
       "  color: var(--sklearn-color-background);\n",
       "  text-decoration: none;\n",
       "}\n",
       "\n",
       "#sk-container-id-1 a.estimator_doc_link.fitted:hover {\n",
       "  /* fitted */\n",
       "  background-color: var(--sklearn-color-fitted-level-3);\n",
       "}\n",
       "\n",
       ".estimator-table summary {\n",
       "    padding: .5rem;\n",
       "    font-family: monospace;\n",
       "    cursor: pointer;\n",
       "}\n",
       "\n",
       ".estimator-table details[open] {\n",
       "    padding-left: 0.1rem;\n",
       "    padding-right: 0.1rem;\n",
       "    padding-bottom: 0.3rem;\n",
       "}\n",
       "\n",
       ".estimator-table .parameters-table {\n",
       "    margin-left: auto !important;\n",
       "    margin-right: auto !important;\n",
       "}\n",
       "\n",
       ".estimator-table .parameters-table tr:nth-child(odd) {\n",
       "    background-color: #fff;\n",
       "}\n",
       "\n",
       ".estimator-table .parameters-table tr:nth-child(even) {\n",
       "    background-color: #f6f6f6;\n",
       "}\n",
       "\n",
       ".estimator-table .parameters-table tr:hover {\n",
       "    background-color: #e0e0e0;\n",
       "}\n",
       "\n",
       ".estimator-table table td {\n",
       "    border: 1px solid rgba(106, 105, 104, 0.232);\n",
       "}\n",
       "\n",
       ".user-set td {\n",
       "    color:rgb(255, 94, 0);\n",
       "    text-align: left;\n",
       "}\n",
       "\n",
       ".user-set td.value pre {\n",
       "    color:rgb(255, 94, 0) !important;\n",
       "    background-color: transparent !important;\n",
       "}\n",
       "\n",
       ".default td {\n",
       "    color: black;\n",
       "    text-align: left;\n",
       "}\n",
       "\n",
       ".user-set td i,\n",
       ".default td i {\n",
       "    color: black;\n",
       "}\n",
       "\n",
       ".copy-paste-icon {\n",
       "    background-image: url(data:image/svg+xml;base64,PHN2ZyB4bWxucz0iaHR0cDovL3d3dy53My5vcmcvMjAwMC9zdmciIHZpZXdCb3g9IjAgMCA0NDggNTEyIj48IS0tIUZvbnQgQXdlc29tZSBGcmVlIDYuNy4yIGJ5IEBmb250YXdlc29tZSAtIGh0dHBzOi8vZm9udGF3ZXNvbWUuY29tIExpY2Vuc2UgLSBodHRwczovL2ZvbnRhd2Vzb21lLmNvbS9saWNlbnNlL2ZyZWUgQ29weXJpZ2h0IDIwMjUgRm9udGljb25zLCBJbmMuLS0+PHBhdGggZD0iTTIwOCAwTDMzMi4xIDBjMTIuNyAwIDI0LjkgNS4xIDMzLjkgMTQuMWw2Ny45IDY3LjljOSA5IDE0LjEgMjEuMiAxNC4xIDMzLjlMNDQ4IDMzNmMwIDI2LjUtMjEuNSA0OC00OCA0OGwtMTkyIDBjLTI2LjUgMC00OC0yMS41LTQ4LTQ4bDAtMjg4YzAtMjYuNSAyMS41LTQ4IDQ4LTQ4ek00OCAxMjhsODAgMCAwIDY0LTY0IDAgMCAyNTYgMTkyIDAgMC0zMiA2NCAwIDAgNDhjMCAyNi41LTIxLjUgNDgtNDggNDhMNDggNTEyYy0yNi41IDAtNDgtMjEuNS00OC00OEwwIDE3NmMwLTI2LjUgMjEuNS00OCA0OC00OHoiLz48L3N2Zz4=);\n",
       "    background-repeat: no-repeat;\n",
       "    background-size: 14px 14px;\n",
       "    background-position: 0;\n",
       "    display: inline-block;\n",
       "    width: 14px;\n",
       "    height: 14px;\n",
       "    cursor: pointer;\n",
       "}\n",
       "</style><body><div id=\"sk-container-id-1\" class=\"sk-top-container\"><div class=\"sk-text-repr-fallback\"><pre>ColumnTransformer(remainder=&#x27;passthrough&#x27;,\n",
       "                  transformers=[(&#x27;standardscaler&#x27;, StandardScaler(), [&#x27;Valor&#x27;]),\n",
       "                                (&#x27;pipeline&#x27;,\n",
       "                                 Pipeline(steps=[(&#x27;functiontransformer&#x27;,\n",
       "                                                  FunctionTransformer(func=&lt;function add_date_features at 0x000002E143E14E50&gt;)),\n",
       "                                                 (&#x27;normalizer&#x27;, Normalizer())]),\n",
       "                                 [&#x27;Data&#x27;]),\n",
       "                                (&#x27;featureunion&#x27;,\n",
       "                                 FeatureUnion(transformer_list=[(&#x27;keyword_hints&#x27;,\n",
       "                                                                 Pipeline(steps=[(&#x27;functiontransformer&#x27;,\n",
       "                                                                                  FunctionTransformer(func=&lt;function add_keyword_hints at 0x000002E143E14D30&gt;)),\n",
       "                                                                                 (&#x27;normalizer&#x27;,\n",
       "                                                                                  Normalizer())]))]),\n",
       "                                 [&#x27;Descrição&#x27;])])</pre><b>In a Jupyter environment, please rerun this cell to show the HTML representation or trust the notebook. <br />On GitHub, the HTML representation is unable to render, please try loading this page with nbviewer.org.</b></div><div class=\"sk-container\" hidden><div class=\"sk-item sk-dashed-wrapped\"><div class=\"sk-label-container\"><div class=\"sk-label  sk-toggleable\"><input class=\"sk-toggleable__control sk-hidden--visually\" id=\"sk-estimator-id-1\" type=\"checkbox\" ><label for=\"sk-estimator-id-1\" class=\"sk-toggleable__label  sk-toggleable__label-arrow\"><div><div>ColumnTransformer</div></div><div><a class=\"sk-estimator-doc-link \" rel=\"noreferrer\" target=\"_blank\" href=\"https://scikit-learn.org/1.7/modules/generated/sklearn.compose.ColumnTransformer.html\">?<span>Documentation for ColumnTransformer</span></a><span class=\"sk-estimator-doc-link \">i<span>Not fitted</span></span></div></label><div class=\"sk-toggleable__content \" data-param-prefix=\"\">\n",
       "        <div class=\"estimator-table\">\n",
       "            <details>\n",
       "                <summary>Parameters</summary>\n",
       "                <table class=\"parameters-table\">\n",
       "                  <tbody>\n",
       "                    \n",
       "        <tr class=\"user-set\">\n",
       "            <td><i class=\"copy-paste-icon\"\n",
       "                 onclick=\"copyToClipboard('transformers',\n",
       "                          this.parentElement.nextElementSibling)\"\n",
       "            ></i></td>\n",
       "            <td class=\"param\">transformers&nbsp;</td>\n",
       "            <td class=\"value\">[(&#x27;standardscaler&#x27;, ...), (&#x27;pipeline&#x27;, ...), ...]</td>\n",
       "        </tr>\n",
       "    \n",
       "\n",
       "        <tr class=\"user-set\">\n",
       "            <td><i class=\"copy-paste-icon\"\n",
       "                 onclick=\"copyToClipboard('remainder',\n",
       "                          this.parentElement.nextElementSibling)\"\n",
       "            ></i></td>\n",
       "            <td class=\"param\">remainder&nbsp;</td>\n",
       "            <td class=\"value\">&#x27;passthrough&#x27;</td>\n",
       "        </tr>\n",
       "    \n",
       "\n",
       "        <tr class=\"default\">\n",
       "            <td><i class=\"copy-paste-icon\"\n",
       "                 onclick=\"copyToClipboard('sparse_threshold',\n",
       "                          this.parentElement.nextElementSibling)\"\n",
       "            ></i></td>\n",
       "            <td class=\"param\">sparse_threshold&nbsp;</td>\n",
       "            <td class=\"value\">0.3</td>\n",
       "        </tr>\n",
       "    \n",
       "\n",
       "        <tr class=\"default\">\n",
       "            <td><i class=\"copy-paste-icon\"\n",
       "                 onclick=\"copyToClipboard('n_jobs',\n",
       "                          this.parentElement.nextElementSibling)\"\n",
       "            ></i></td>\n",
       "            <td class=\"param\">n_jobs&nbsp;</td>\n",
       "            <td class=\"value\">None</td>\n",
       "        </tr>\n",
       "    \n",
       "\n",
       "        <tr class=\"default\">\n",
       "            <td><i class=\"copy-paste-icon\"\n",
       "                 onclick=\"copyToClipboard('transformer_weights',\n",
       "                          this.parentElement.nextElementSibling)\"\n",
       "            ></i></td>\n",
       "            <td class=\"param\">transformer_weights&nbsp;</td>\n",
       "            <td class=\"value\">None</td>\n",
       "        </tr>\n",
       "    \n",
       "\n",
       "        <tr class=\"default\">\n",
       "            <td><i class=\"copy-paste-icon\"\n",
       "                 onclick=\"copyToClipboard('verbose',\n",
       "                          this.parentElement.nextElementSibling)\"\n",
       "            ></i></td>\n",
       "            <td class=\"param\">verbose&nbsp;</td>\n",
       "            <td class=\"value\">False</td>\n",
       "        </tr>\n",
       "    \n",
       "\n",
       "        <tr class=\"default\">\n",
       "            <td><i class=\"copy-paste-icon\"\n",
       "                 onclick=\"copyToClipboard('verbose_feature_names_out',\n",
       "                          this.parentElement.nextElementSibling)\"\n",
       "            ></i></td>\n",
       "            <td class=\"param\">verbose_feature_names_out&nbsp;</td>\n",
       "            <td class=\"value\">True</td>\n",
       "        </tr>\n",
       "    \n",
       "\n",
       "        <tr class=\"default\">\n",
       "            <td><i class=\"copy-paste-icon\"\n",
       "                 onclick=\"copyToClipboard('force_int_remainder_cols',\n",
       "                          this.parentElement.nextElementSibling)\"\n",
       "            ></i></td>\n",
       "            <td class=\"param\">force_int_remainder_cols&nbsp;</td>\n",
       "            <td class=\"value\">&#x27;deprecated&#x27;</td>\n",
       "        </tr>\n",
       "    \n",
       "                  </tbody>\n",
       "                </table>\n",
       "            </details>\n",
       "        </div>\n",
       "    </div></div></div><div class=\"sk-parallel\"><div class=\"sk-parallel-item\"><div class=\"sk-item\"><div class=\"sk-label-container\"><div class=\"sk-label  sk-toggleable\"><input class=\"sk-toggleable__control sk-hidden--visually\" id=\"sk-estimator-id-2\" type=\"checkbox\" ><label for=\"sk-estimator-id-2\" class=\"sk-toggleable__label  sk-toggleable__label-arrow\"><div><div>standardscaler</div></div></label><div class=\"sk-toggleable__content \" data-param-prefix=\"standardscaler__\"><pre>[&#x27;Valor&#x27;]</pre></div></div></div><div class=\"sk-serial\"><div class=\"sk-item\"><div class=\"sk-estimator  sk-toggleable\"><input class=\"sk-toggleable__control sk-hidden--visually\" id=\"sk-estimator-id-3\" type=\"checkbox\" ><label for=\"sk-estimator-id-3\" class=\"sk-toggleable__label  sk-toggleable__label-arrow\"><div><div>StandardScaler</div></div><div><a class=\"sk-estimator-doc-link \" rel=\"noreferrer\" target=\"_blank\" href=\"https://scikit-learn.org/1.7/modules/generated/sklearn.preprocessing.StandardScaler.html\">?<span>Documentation for StandardScaler</span></a></div></label><div class=\"sk-toggleable__content \" data-param-prefix=\"standardscaler__\">\n",
       "        <div class=\"estimator-table\">\n",
       "            <details>\n",
       "                <summary>Parameters</summary>\n",
       "                <table class=\"parameters-table\">\n",
       "                  <tbody>\n",
       "                    \n",
       "        <tr class=\"default\">\n",
       "            <td><i class=\"copy-paste-icon\"\n",
       "                 onclick=\"copyToClipboard('copy',\n",
       "                          this.parentElement.nextElementSibling)\"\n",
       "            ></i></td>\n",
       "            <td class=\"param\">copy&nbsp;</td>\n",
       "            <td class=\"value\">True</td>\n",
       "        </tr>\n",
       "    \n",
       "\n",
       "        <tr class=\"default\">\n",
       "            <td><i class=\"copy-paste-icon\"\n",
       "                 onclick=\"copyToClipboard('with_mean',\n",
       "                          this.parentElement.nextElementSibling)\"\n",
       "            ></i></td>\n",
       "            <td class=\"param\">with_mean&nbsp;</td>\n",
       "            <td class=\"value\">True</td>\n",
       "        </tr>\n",
       "    \n",
       "\n",
       "        <tr class=\"default\">\n",
       "            <td><i class=\"copy-paste-icon\"\n",
       "                 onclick=\"copyToClipboard('with_std',\n",
       "                          this.parentElement.nextElementSibling)\"\n",
       "            ></i></td>\n",
       "            <td class=\"param\">with_std&nbsp;</td>\n",
       "            <td class=\"value\">True</td>\n",
       "        </tr>\n",
       "    \n",
       "                  </tbody>\n",
       "                </table>\n",
       "            </details>\n",
       "        </div>\n",
       "    </div></div></div></div></div></div><div class=\"sk-parallel-item\"><div class=\"sk-item\"><div class=\"sk-label-container\"><div class=\"sk-label  sk-toggleable\"><input class=\"sk-toggleable__control sk-hidden--visually\" id=\"sk-estimator-id-4\" type=\"checkbox\" ><label for=\"sk-estimator-id-4\" class=\"sk-toggleable__label  sk-toggleable__label-arrow\"><div><div>pipeline</div></div></label><div class=\"sk-toggleable__content \" data-param-prefix=\"pipeline__\"><pre>[&#x27;Data&#x27;]</pre></div></div></div><div class=\"sk-serial\"><div class=\"sk-item\"><div class=\"sk-serial\"><div class=\"sk-item\"><div class=\"sk-estimator  sk-toggleable\"><input class=\"sk-toggleable__control sk-hidden--visually\" id=\"sk-estimator-id-5\" type=\"checkbox\" ><label for=\"sk-estimator-id-5\" class=\"sk-toggleable__label  sk-toggleable__label-arrow\"><div><div>add_date_features</div><div class=\"caption\">FunctionTransformer</div></div><div><a class=\"sk-estimator-doc-link \" rel=\"noreferrer\" target=\"_blank\" href=\"https://scikit-learn.org/1.7/modules/generated/sklearn.preprocessing.FunctionTransformer.html\">?<span>Documentation for FunctionTransformer</span></a></div></label><div class=\"sk-toggleable__content \" data-param-prefix=\"pipeline__functiontransformer__\">\n",
       "        <div class=\"estimator-table\">\n",
       "            <details>\n",
       "                <summary>Parameters</summary>\n",
       "                <table class=\"parameters-table\">\n",
       "                  <tbody>\n",
       "                    \n",
       "        <tr class=\"user-set\">\n",
       "            <td><i class=\"copy-paste-icon\"\n",
       "                 onclick=\"copyToClipboard('func',\n",
       "                          this.parentElement.nextElementSibling)\"\n",
       "            ></i></td>\n",
       "            <td class=\"param\">func&nbsp;</td>\n",
       "            <td class=\"value\">&lt;function add...002E143E14E50&gt;</td>\n",
       "        </tr>\n",
       "    \n",
       "\n",
       "        <tr class=\"default\">\n",
       "            <td><i class=\"copy-paste-icon\"\n",
       "                 onclick=\"copyToClipboard('inverse_func',\n",
       "                          this.parentElement.nextElementSibling)\"\n",
       "            ></i></td>\n",
       "            <td class=\"param\">inverse_func&nbsp;</td>\n",
       "            <td class=\"value\">None</td>\n",
       "        </tr>\n",
       "    \n",
       "\n",
       "        <tr class=\"default\">\n",
       "            <td><i class=\"copy-paste-icon\"\n",
       "                 onclick=\"copyToClipboard('validate',\n",
       "                          this.parentElement.nextElementSibling)\"\n",
       "            ></i></td>\n",
       "            <td class=\"param\">validate&nbsp;</td>\n",
       "            <td class=\"value\">False</td>\n",
       "        </tr>\n",
       "    \n",
       "\n",
       "        <tr class=\"default\">\n",
       "            <td><i class=\"copy-paste-icon\"\n",
       "                 onclick=\"copyToClipboard('accept_sparse',\n",
       "                          this.parentElement.nextElementSibling)\"\n",
       "            ></i></td>\n",
       "            <td class=\"param\">accept_sparse&nbsp;</td>\n",
       "            <td class=\"value\">False</td>\n",
       "        </tr>\n",
       "    \n",
       "\n",
       "        <tr class=\"default\">\n",
       "            <td><i class=\"copy-paste-icon\"\n",
       "                 onclick=\"copyToClipboard('check_inverse',\n",
       "                          this.parentElement.nextElementSibling)\"\n",
       "            ></i></td>\n",
       "            <td class=\"param\">check_inverse&nbsp;</td>\n",
       "            <td class=\"value\">True</td>\n",
       "        </tr>\n",
       "    \n",
       "\n",
       "        <tr class=\"default\">\n",
       "            <td><i class=\"copy-paste-icon\"\n",
       "                 onclick=\"copyToClipboard('feature_names_out',\n",
       "                          this.parentElement.nextElementSibling)\"\n",
       "            ></i></td>\n",
       "            <td class=\"param\">feature_names_out&nbsp;</td>\n",
       "            <td class=\"value\">None</td>\n",
       "        </tr>\n",
       "    \n",
       "\n",
       "        <tr class=\"default\">\n",
       "            <td><i class=\"copy-paste-icon\"\n",
       "                 onclick=\"copyToClipboard('kw_args',\n",
       "                          this.parentElement.nextElementSibling)\"\n",
       "            ></i></td>\n",
       "            <td class=\"param\">kw_args&nbsp;</td>\n",
       "            <td class=\"value\">None</td>\n",
       "        </tr>\n",
       "    \n",
       "\n",
       "        <tr class=\"default\">\n",
       "            <td><i class=\"copy-paste-icon\"\n",
       "                 onclick=\"copyToClipboard('inv_kw_args',\n",
       "                          this.parentElement.nextElementSibling)\"\n",
       "            ></i></td>\n",
       "            <td class=\"param\">inv_kw_args&nbsp;</td>\n",
       "            <td class=\"value\">None</td>\n",
       "        </tr>\n",
       "    \n",
       "                  </tbody>\n",
       "                </table>\n",
       "            </details>\n",
       "        </div>\n",
       "    </div></div></div><div class=\"sk-item\"><div class=\"sk-estimator  sk-toggleable\"><input class=\"sk-toggleable__control sk-hidden--visually\" id=\"sk-estimator-id-6\" type=\"checkbox\" ><label for=\"sk-estimator-id-6\" class=\"sk-toggleable__label  sk-toggleable__label-arrow\"><div><div>Normalizer</div></div><div><a class=\"sk-estimator-doc-link \" rel=\"noreferrer\" target=\"_blank\" href=\"https://scikit-learn.org/1.7/modules/generated/sklearn.preprocessing.Normalizer.html\">?<span>Documentation for Normalizer</span></a></div></label><div class=\"sk-toggleable__content \" data-param-prefix=\"pipeline__normalizer__\">\n",
       "        <div class=\"estimator-table\">\n",
       "            <details>\n",
       "                <summary>Parameters</summary>\n",
       "                <table class=\"parameters-table\">\n",
       "                  <tbody>\n",
       "                    \n",
       "        <tr class=\"default\">\n",
       "            <td><i class=\"copy-paste-icon\"\n",
       "                 onclick=\"copyToClipboard('norm',\n",
       "                          this.parentElement.nextElementSibling)\"\n",
       "            ></i></td>\n",
       "            <td class=\"param\">norm&nbsp;</td>\n",
       "            <td class=\"value\">&#x27;l2&#x27;</td>\n",
       "        </tr>\n",
       "    \n",
       "\n",
       "        <tr class=\"default\">\n",
       "            <td><i class=\"copy-paste-icon\"\n",
       "                 onclick=\"copyToClipboard('copy',\n",
       "                          this.parentElement.nextElementSibling)\"\n",
       "            ></i></td>\n",
       "            <td class=\"param\">copy&nbsp;</td>\n",
       "            <td class=\"value\">True</td>\n",
       "        </tr>\n",
       "    \n",
       "                  </tbody>\n",
       "                </table>\n",
       "            </details>\n",
       "        </div>\n",
       "    </div></div></div></div></div></div></div></div><div class=\"sk-parallel-item\"><div class=\"sk-item\"><div class=\"sk-label-container\"><div class=\"sk-label  sk-toggleable\"><input class=\"sk-toggleable__control sk-hidden--visually\" id=\"sk-estimator-id-7\" type=\"checkbox\" ><label for=\"sk-estimator-id-7\" class=\"sk-toggleable__label  sk-toggleable__label-arrow\"><div><div>featureunion</div></div></label><div class=\"sk-toggleable__content \" data-param-prefix=\"featureunion__\"><pre>[&#x27;Descrição&#x27;]</pre></div></div></div><div class=\"sk-serial\"><div class=\"sk-item sk-dashed-wrapped\"><div class=\"sk-parallel\"><div class=\"sk-parallel-item\"><div class=\"sk-item\"><div class=\"sk-label-container\"><div class=\"sk-label  sk-toggleable\"><label>keyword_hints</label></div></div><div class=\"sk-serial\"><div class=\"sk-item\"><div class=\"sk-serial\"><div class=\"sk-item\"><div class=\"sk-estimator  sk-toggleable\"><input class=\"sk-toggleable__control sk-hidden--visually\" id=\"sk-estimator-id-8\" type=\"checkbox\" ><label for=\"sk-estimator-id-8\" class=\"sk-toggleable__label  sk-toggleable__label-arrow\"><div><div>add_keyword_hints</div><div class=\"caption\">FunctionTransformer</div></div><div><a class=\"sk-estimator-doc-link \" rel=\"noreferrer\" target=\"_blank\" href=\"https://scikit-learn.org/1.7/modules/generated/sklearn.preprocessing.FunctionTransformer.html\">?<span>Documentation for FunctionTransformer</span></a></div></label><div class=\"sk-toggleable__content \" data-param-prefix=\"featureunion__keyword_hints__functiontransformer__\">\n",
       "        <div class=\"estimator-table\">\n",
       "            <details>\n",
       "                <summary>Parameters</summary>\n",
       "                <table class=\"parameters-table\">\n",
       "                  <tbody>\n",
       "                    \n",
       "        <tr class=\"user-set\">\n",
       "            <td><i class=\"copy-paste-icon\"\n",
       "                 onclick=\"copyToClipboard('func',\n",
       "                          this.parentElement.nextElementSibling)\"\n",
       "            ></i></td>\n",
       "            <td class=\"param\">func&nbsp;</td>\n",
       "            <td class=\"value\">&lt;function add...002E143E14D30&gt;</td>\n",
       "        </tr>\n",
       "    \n",
       "\n",
       "        <tr class=\"default\">\n",
       "            <td><i class=\"copy-paste-icon\"\n",
       "                 onclick=\"copyToClipboard('inverse_func',\n",
       "                          this.parentElement.nextElementSibling)\"\n",
       "            ></i></td>\n",
       "            <td class=\"param\">inverse_func&nbsp;</td>\n",
       "            <td class=\"value\">None</td>\n",
       "        </tr>\n",
       "    \n",
       "\n",
       "        <tr class=\"default\">\n",
       "            <td><i class=\"copy-paste-icon\"\n",
       "                 onclick=\"copyToClipboard('validate',\n",
       "                          this.parentElement.nextElementSibling)\"\n",
       "            ></i></td>\n",
       "            <td class=\"param\">validate&nbsp;</td>\n",
       "            <td class=\"value\">False</td>\n",
       "        </tr>\n",
       "    \n",
       "\n",
       "        <tr class=\"default\">\n",
       "            <td><i class=\"copy-paste-icon\"\n",
       "                 onclick=\"copyToClipboard('accept_sparse',\n",
       "                          this.parentElement.nextElementSibling)\"\n",
       "            ></i></td>\n",
       "            <td class=\"param\">accept_sparse&nbsp;</td>\n",
       "            <td class=\"value\">False</td>\n",
       "        </tr>\n",
       "    \n",
       "\n",
       "        <tr class=\"default\">\n",
       "            <td><i class=\"copy-paste-icon\"\n",
       "                 onclick=\"copyToClipboard('check_inverse',\n",
       "                          this.parentElement.nextElementSibling)\"\n",
       "            ></i></td>\n",
       "            <td class=\"param\">check_inverse&nbsp;</td>\n",
       "            <td class=\"value\">True</td>\n",
       "        </tr>\n",
       "    \n",
       "\n",
       "        <tr class=\"default\">\n",
       "            <td><i class=\"copy-paste-icon\"\n",
       "                 onclick=\"copyToClipboard('feature_names_out',\n",
       "                          this.parentElement.nextElementSibling)\"\n",
       "            ></i></td>\n",
       "            <td class=\"param\">feature_names_out&nbsp;</td>\n",
       "            <td class=\"value\">None</td>\n",
       "        </tr>\n",
       "    \n",
       "\n",
       "        <tr class=\"default\">\n",
       "            <td><i class=\"copy-paste-icon\"\n",
       "                 onclick=\"copyToClipboard('kw_args',\n",
       "                          this.parentElement.nextElementSibling)\"\n",
       "            ></i></td>\n",
       "            <td class=\"param\">kw_args&nbsp;</td>\n",
       "            <td class=\"value\">None</td>\n",
       "        </tr>\n",
       "    \n",
       "\n",
       "        <tr class=\"default\">\n",
       "            <td><i class=\"copy-paste-icon\"\n",
       "                 onclick=\"copyToClipboard('inv_kw_args',\n",
       "                          this.parentElement.nextElementSibling)\"\n",
       "            ></i></td>\n",
       "            <td class=\"param\">inv_kw_args&nbsp;</td>\n",
       "            <td class=\"value\">None</td>\n",
       "        </tr>\n",
       "    \n",
       "                  </tbody>\n",
       "                </table>\n",
       "            </details>\n",
       "        </div>\n",
       "    </div></div></div><div class=\"sk-item\"><div class=\"sk-estimator  sk-toggleable\"><input class=\"sk-toggleable__control sk-hidden--visually\" id=\"sk-estimator-id-9\" type=\"checkbox\" ><label for=\"sk-estimator-id-9\" class=\"sk-toggleable__label  sk-toggleable__label-arrow\"><div><div>Normalizer</div></div><div><a class=\"sk-estimator-doc-link \" rel=\"noreferrer\" target=\"_blank\" href=\"https://scikit-learn.org/1.7/modules/generated/sklearn.preprocessing.Normalizer.html\">?<span>Documentation for Normalizer</span></a></div></label><div class=\"sk-toggleable__content \" data-param-prefix=\"featureunion__keyword_hints__normalizer__\">\n",
       "        <div class=\"estimator-table\">\n",
       "            <details>\n",
       "                <summary>Parameters</summary>\n",
       "                <table class=\"parameters-table\">\n",
       "                  <tbody>\n",
       "                    \n",
       "        <tr class=\"default\">\n",
       "            <td><i class=\"copy-paste-icon\"\n",
       "                 onclick=\"copyToClipboard('norm',\n",
       "                          this.parentElement.nextElementSibling)\"\n",
       "            ></i></td>\n",
       "            <td class=\"param\">norm&nbsp;</td>\n",
       "            <td class=\"value\">&#x27;l2&#x27;</td>\n",
       "        </tr>\n",
       "    \n",
       "\n",
       "        <tr class=\"default\">\n",
       "            <td><i class=\"copy-paste-icon\"\n",
       "                 onclick=\"copyToClipboard('copy',\n",
       "                          this.parentElement.nextElementSibling)\"\n",
       "            ></i></td>\n",
       "            <td class=\"param\">copy&nbsp;</td>\n",
       "            <td class=\"value\">True</td>\n",
       "        </tr>\n",
       "    \n",
       "                  </tbody>\n",
       "                </table>\n",
       "            </details>\n",
       "        </div>\n",
       "    </div></div></div></div></div></div></div></div></div></div></div></div></div><div class=\"sk-parallel-item\"><div class=\"sk-item\"><div class=\"sk-label-container\"><div class=\"sk-label  sk-toggleable\"><input class=\"sk-toggleable__control sk-hidden--visually\" id=\"sk-estimator-id-10\" type=\"checkbox\" ><label for=\"sk-estimator-id-10\" class=\"sk-toggleable__label  sk-toggleable__label-arrow\"><div><div>remainder</div></div></label><div class=\"sk-toggleable__content \" data-param-prefix=\"remainder__\"></div></div><div class=\"sk-serial\"><div class=\"sk-item\"><div class=\"sk-estimator  sk-toggleable\"><input class=\"sk-toggleable__control sk-hidden--visually\" id=\"sk-estimator-id-11\" type=\"checkbox\" ><label for=\"sk-estimator-id-11\" class=\"sk-toggleable__label  sk-toggleable__label-arrow\"><div><div>passthrough</div></div></label><div class=\"sk-toggleable__content \" data-param-prefix=\"remainder__\"><pre>passthrough</pre></div></div></div></div></div></div></div></div></div></div><script>function copyToClipboard(text, element) {\n",
       "    // Get the parameter prefix from the closest toggleable content\n",
       "    const toggleableContent = element.closest('.sk-toggleable__content');\n",
       "    const paramPrefix = toggleableContent ? toggleableContent.dataset.paramPrefix : '';\n",
       "    const fullParamName = paramPrefix ? `${paramPrefix}${text}` : text;\n",
       "\n",
       "    const originalStyle = element.style;\n",
       "    const computedStyle = window.getComputedStyle(element);\n",
       "    const originalWidth = computedStyle.width;\n",
       "    const originalHTML = element.innerHTML.replace('Copied!', '');\n",
       "\n",
       "    navigator.clipboard.writeText(fullParamName)\n",
       "        .then(() => {\n",
       "            element.style.width = originalWidth;\n",
       "            element.style.color = 'green';\n",
       "            element.innerHTML = \"Copied!\";\n",
       "\n",
       "            setTimeout(() => {\n",
       "                element.innerHTML = originalHTML;\n",
       "                element.style = originalStyle;\n",
       "            }, 2000);\n",
       "        })\n",
       "        .catch(err => {\n",
       "            console.error('Failed to copy:', err);\n",
       "            element.style.color = 'red';\n",
       "            element.innerHTML = \"Failed!\";\n",
       "            setTimeout(() => {\n",
       "                element.innerHTML = originalHTML;\n",
       "                element.style = originalStyle;\n",
       "            }, 2000);\n",
       "        });\n",
       "    return false;\n",
       "}\n",
       "\n",
       "document.querySelectorAll('.fa-regular.fa-copy').forEach(function(element) {\n",
       "    const toggleableContent = element.closest('.sk-toggleable__content');\n",
       "    const paramPrefix = toggleableContent ? toggleableContent.dataset.paramPrefix : '';\n",
       "    const paramName = element.parentElement.nextElementSibling.textContent.trim();\n",
       "    const fullParamName = paramPrefix ? `${paramPrefix}${paramName}` : paramName;\n",
       "\n",
       "    element.setAttribute('title', fullParamName);\n",
       "});\n",
       "</script></body>"
      ],
      "text/plain": [
       "ColumnTransformer(remainder='passthrough',\n",
       "                  transformers=[('standardscaler', StandardScaler(), ['Valor']),\n",
       "                                ('pipeline',\n",
       "                                 Pipeline(steps=[('functiontransformer',\n",
       "                                                  FunctionTransformer(func=<function add_date_features at 0x000002E143E14E50>)),\n",
       "                                                 ('normalizer', Normalizer())]),\n",
       "                                 ['Data']),\n",
       "                                ('featureunion',\n",
       "                                 FeatureUnion(transformer_list=[('keyword_hints',\n",
       "                                                                 Pipeline(steps=[('functiontransformer',\n",
       "                                                                                  FunctionTransformer(func=<function add_keyword_hints at 0x000002E143E14D30>)),\n",
       "                                                                                 ('normalizer',\n",
       "                                                                                  Normalizer())]))]),\n",
       "                                 ['Descrição'])])"
      ]
     },
     "execution_count": 10,
     "metadata": {},
     "output_type": "execute_result"
    }
   ],
   "source": [
    "data_transformer_without_token = get_preprocessing_transformer(pytorch=False)\n",
    "\n",
    "data_transformer_without_token"
   ]
  },
  {
   "cell_type": "code",
   "execution_count": 11,
   "id": "c35ae7c2",
   "metadata": {},
   "outputs": [
    {
     "data": {
      "text/html": [
       "<style>#sk-container-id-2 {\n",
       "  /* Definition of color scheme common for light and dark mode */\n",
       "  --sklearn-color-text: #000;\n",
       "  --sklearn-color-text-muted: #666;\n",
       "  --sklearn-color-line: gray;\n",
       "  /* Definition of color scheme for unfitted estimators */\n",
       "  --sklearn-color-unfitted-level-0: #fff5e6;\n",
       "  --sklearn-color-unfitted-level-1: #f6e4d2;\n",
       "  --sklearn-color-unfitted-level-2: #ffe0b3;\n",
       "  --sklearn-color-unfitted-level-3: chocolate;\n",
       "  /* Definition of color scheme for fitted estimators */\n",
       "  --sklearn-color-fitted-level-0: #f0f8ff;\n",
       "  --sklearn-color-fitted-level-1: #d4ebff;\n",
       "  --sklearn-color-fitted-level-2: #b3dbfd;\n",
       "  --sklearn-color-fitted-level-3: cornflowerblue;\n",
       "\n",
       "  /* Specific color for light theme */\n",
       "  --sklearn-color-text-on-default-background: var(--sg-text-color, var(--theme-code-foreground, var(--jp-content-font-color1, black)));\n",
       "  --sklearn-color-background: var(--sg-background-color, var(--theme-background, var(--jp-layout-color0, white)));\n",
       "  --sklearn-color-border-box: var(--sg-text-color, var(--theme-code-foreground, var(--jp-content-font-color1, black)));\n",
       "  --sklearn-color-icon: #696969;\n",
       "\n",
       "  @media (prefers-color-scheme: dark) {\n",
       "    /* Redefinition of color scheme for dark theme */\n",
       "    --sklearn-color-text-on-default-background: var(--sg-text-color, var(--theme-code-foreground, var(--jp-content-font-color1, white)));\n",
       "    --sklearn-color-background: var(--sg-background-color, var(--theme-background, var(--jp-layout-color0, #111)));\n",
       "    --sklearn-color-border-box: var(--sg-text-color, var(--theme-code-foreground, var(--jp-content-font-color1, white)));\n",
       "    --sklearn-color-icon: #878787;\n",
       "  }\n",
       "}\n",
       "\n",
       "#sk-container-id-2 {\n",
       "  color: var(--sklearn-color-text);\n",
       "}\n",
       "\n",
       "#sk-container-id-2 pre {\n",
       "  padding: 0;\n",
       "}\n",
       "\n",
       "#sk-container-id-2 input.sk-hidden--visually {\n",
       "  border: 0;\n",
       "  clip: rect(1px 1px 1px 1px);\n",
       "  clip: rect(1px, 1px, 1px, 1px);\n",
       "  height: 1px;\n",
       "  margin: -1px;\n",
       "  overflow: hidden;\n",
       "  padding: 0;\n",
       "  position: absolute;\n",
       "  width: 1px;\n",
       "}\n",
       "\n",
       "#sk-container-id-2 div.sk-dashed-wrapped {\n",
       "  border: 1px dashed var(--sklearn-color-line);\n",
       "  margin: 0 0.4em 0.5em 0.4em;\n",
       "  box-sizing: border-box;\n",
       "  padding-bottom: 0.4em;\n",
       "  background-color: var(--sklearn-color-background);\n",
       "}\n",
       "\n",
       "#sk-container-id-2 div.sk-container {\n",
       "  /* jupyter's `normalize.less` sets `[hidden] { display: none; }`\n",
       "     but bootstrap.min.css set `[hidden] { display: none !important; }`\n",
       "     so we also need the `!important` here to be able to override the\n",
       "     default hidden behavior on the sphinx rendered scikit-learn.org.\n",
       "     See: https://github.com/scikit-learn/scikit-learn/issues/21755 */\n",
       "  display: inline-block !important;\n",
       "  position: relative;\n",
       "}\n",
       "\n",
       "#sk-container-id-2 div.sk-text-repr-fallback {\n",
       "  display: none;\n",
       "}\n",
       "\n",
       "div.sk-parallel-item,\n",
       "div.sk-serial,\n",
       "div.sk-item {\n",
       "  /* draw centered vertical line to link estimators */\n",
       "  background-image: linear-gradient(var(--sklearn-color-text-on-default-background), var(--sklearn-color-text-on-default-background));\n",
       "  background-size: 2px 100%;\n",
       "  background-repeat: no-repeat;\n",
       "  background-position: center center;\n",
       "}\n",
       "\n",
       "/* Parallel-specific style estimator block */\n",
       "\n",
       "#sk-container-id-2 div.sk-parallel-item::after {\n",
       "  content: \"\";\n",
       "  width: 100%;\n",
       "  border-bottom: 2px solid var(--sklearn-color-text-on-default-background);\n",
       "  flex-grow: 1;\n",
       "}\n",
       "\n",
       "#sk-container-id-2 div.sk-parallel {\n",
       "  display: flex;\n",
       "  align-items: stretch;\n",
       "  justify-content: center;\n",
       "  background-color: var(--sklearn-color-background);\n",
       "  position: relative;\n",
       "}\n",
       "\n",
       "#sk-container-id-2 div.sk-parallel-item {\n",
       "  display: flex;\n",
       "  flex-direction: column;\n",
       "}\n",
       "\n",
       "#sk-container-id-2 div.sk-parallel-item:first-child::after {\n",
       "  align-self: flex-end;\n",
       "  width: 50%;\n",
       "}\n",
       "\n",
       "#sk-container-id-2 div.sk-parallel-item:last-child::after {\n",
       "  align-self: flex-start;\n",
       "  width: 50%;\n",
       "}\n",
       "\n",
       "#sk-container-id-2 div.sk-parallel-item:only-child::after {\n",
       "  width: 0;\n",
       "}\n",
       "\n",
       "/* Serial-specific style estimator block */\n",
       "\n",
       "#sk-container-id-2 div.sk-serial {\n",
       "  display: flex;\n",
       "  flex-direction: column;\n",
       "  align-items: center;\n",
       "  background-color: var(--sklearn-color-background);\n",
       "  padding-right: 1em;\n",
       "  padding-left: 1em;\n",
       "}\n",
       "\n",
       "\n",
       "/* Toggleable style: style used for estimator/Pipeline/ColumnTransformer box that is\n",
       "clickable and can be expanded/collapsed.\n",
       "- Pipeline and ColumnTransformer use this feature and define the default style\n",
       "- Estimators will overwrite some part of the style using the `sk-estimator` class\n",
       "*/\n",
       "\n",
       "/* Pipeline and ColumnTransformer style (default) */\n",
       "\n",
       "#sk-container-id-2 div.sk-toggleable {\n",
       "  /* Default theme specific background. It is overwritten whether we have a\n",
       "  specific estimator or a Pipeline/ColumnTransformer */\n",
       "  background-color: var(--sklearn-color-background);\n",
       "}\n",
       "\n",
       "/* Toggleable label */\n",
       "#sk-container-id-2 label.sk-toggleable__label {\n",
       "  cursor: pointer;\n",
       "  display: flex;\n",
       "  width: 100%;\n",
       "  margin-bottom: 0;\n",
       "  padding: 0.5em;\n",
       "  box-sizing: border-box;\n",
       "  text-align: center;\n",
       "  align-items: start;\n",
       "  justify-content: space-between;\n",
       "  gap: 0.5em;\n",
       "}\n",
       "\n",
       "#sk-container-id-2 label.sk-toggleable__label .caption {\n",
       "  font-size: 0.6rem;\n",
       "  font-weight: lighter;\n",
       "  color: var(--sklearn-color-text-muted);\n",
       "}\n",
       "\n",
       "#sk-container-id-2 label.sk-toggleable__label-arrow:before {\n",
       "  /* Arrow on the left of the label */\n",
       "  content: \"▸\";\n",
       "  float: left;\n",
       "  margin-right: 0.25em;\n",
       "  color: var(--sklearn-color-icon);\n",
       "}\n",
       "\n",
       "#sk-container-id-2 label.sk-toggleable__label-arrow:hover:before {\n",
       "  color: var(--sklearn-color-text);\n",
       "}\n",
       "\n",
       "/* Toggleable content - dropdown */\n",
       "\n",
       "#sk-container-id-2 div.sk-toggleable__content {\n",
       "  display: none;\n",
       "  text-align: left;\n",
       "  /* unfitted */\n",
       "  background-color: var(--sklearn-color-unfitted-level-0);\n",
       "}\n",
       "\n",
       "#sk-container-id-2 div.sk-toggleable__content.fitted {\n",
       "  /* fitted */\n",
       "  background-color: var(--sklearn-color-fitted-level-0);\n",
       "}\n",
       "\n",
       "#sk-container-id-2 div.sk-toggleable__content pre {\n",
       "  margin: 0.2em;\n",
       "  border-radius: 0.25em;\n",
       "  color: var(--sklearn-color-text);\n",
       "  /* unfitted */\n",
       "  background-color: var(--sklearn-color-unfitted-level-0);\n",
       "}\n",
       "\n",
       "#sk-container-id-2 div.sk-toggleable__content.fitted pre {\n",
       "  /* unfitted */\n",
       "  background-color: var(--sklearn-color-fitted-level-0);\n",
       "}\n",
       "\n",
       "#sk-container-id-2 input.sk-toggleable__control:checked~div.sk-toggleable__content {\n",
       "  /* Expand drop-down */\n",
       "  display: block;\n",
       "  width: 100%;\n",
       "  overflow: visible;\n",
       "}\n",
       "\n",
       "#sk-container-id-2 input.sk-toggleable__control:checked~label.sk-toggleable__label-arrow:before {\n",
       "  content: \"▾\";\n",
       "}\n",
       "\n",
       "/* Pipeline/ColumnTransformer-specific style */\n",
       "\n",
       "#sk-container-id-2 div.sk-label input.sk-toggleable__control:checked~label.sk-toggleable__label {\n",
       "  color: var(--sklearn-color-text);\n",
       "  background-color: var(--sklearn-color-unfitted-level-2);\n",
       "}\n",
       "\n",
       "#sk-container-id-2 div.sk-label.fitted input.sk-toggleable__control:checked~label.sk-toggleable__label {\n",
       "  background-color: var(--sklearn-color-fitted-level-2);\n",
       "}\n",
       "\n",
       "/* Estimator-specific style */\n",
       "\n",
       "/* Colorize estimator box */\n",
       "#sk-container-id-2 div.sk-estimator input.sk-toggleable__control:checked~label.sk-toggleable__label {\n",
       "  /* unfitted */\n",
       "  background-color: var(--sklearn-color-unfitted-level-2);\n",
       "}\n",
       "\n",
       "#sk-container-id-2 div.sk-estimator.fitted input.sk-toggleable__control:checked~label.sk-toggleable__label {\n",
       "  /* fitted */\n",
       "  background-color: var(--sklearn-color-fitted-level-2);\n",
       "}\n",
       "\n",
       "#sk-container-id-2 div.sk-label label.sk-toggleable__label,\n",
       "#sk-container-id-2 div.sk-label label {\n",
       "  /* The background is the default theme color */\n",
       "  color: var(--sklearn-color-text-on-default-background);\n",
       "}\n",
       "\n",
       "/* On hover, darken the color of the background */\n",
       "#sk-container-id-2 div.sk-label:hover label.sk-toggleable__label {\n",
       "  color: var(--sklearn-color-text);\n",
       "  background-color: var(--sklearn-color-unfitted-level-2);\n",
       "}\n",
       "\n",
       "/* Label box, darken color on hover, fitted */\n",
       "#sk-container-id-2 div.sk-label.fitted:hover label.sk-toggleable__label.fitted {\n",
       "  color: var(--sklearn-color-text);\n",
       "  background-color: var(--sklearn-color-fitted-level-2);\n",
       "}\n",
       "\n",
       "/* Estimator label */\n",
       "\n",
       "#sk-container-id-2 div.sk-label label {\n",
       "  font-family: monospace;\n",
       "  font-weight: bold;\n",
       "  display: inline-block;\n",
       "  line-height: 1.2em;\n",
       "}\n",
       "\n",
       "#sk-container-id-2 div.sk-label-container {\n",
       "  text-align: center;\n",
       "}\n",
       "\n",
       "/* Estimator-specific */\n",
       "#sk-container-id-2 div.sk-estimator {\n",
       "  font-family: monospace;\n",
       "  border: 1px dotted var(--sklearn-color-border-box);\n",
       "  border-radius: 0.25em;\n",
       "  box-sizing: border-box;\n",
       "  margin-bottom: 0.5em;\n",
       "  /* unfitted */\n",
       "  background-color: var(--sklearn-color-unfitted-level-0);\n",
       "}\n",
       "\n",
       "#sk-container-id-2 div.sk-estimator.fitted {\n",
       "  /* fitted */\n",
       "  background-color: var(--sklearn-color-fitted-level-0);\n",
       "}\n",
       "\n",
       "/* on hover */\n",
       "#sk-container-id-2 div.sk-estimator:hover {\n",
       "  /* unfitted */\n",
       "  background-color: var(--sklearn-color-unfitted-level-2);\n",
       "}\n",
       "\n",
       "#sk-container-id-2 div.sk-estimator.fitted:hover {\n",
       "  /* fitted */\n",
       "  background-color: var(--sklearn-color-fitted-level-2);\n",
       "}\n",
       "\n",
       "/* Specification for estimator info (e.g. \"i\" and \"?\") */\n",
       "\n",
       "/* Common style for \"i\" and \"?\" */\n",
       "\n",
       ".sk-estimator-doc-link,\n",
       "a:link.sk-estimator-doc-link,\n",
       "a:visited.sk-estimator-doc-link {\n",
       "  float: right;\n",
       "  font-size: smaller;\n",
       "  line-height: 1em;\n",
       "  font-family: monospace;\n",
       "  background-color: var(--sklearn-color-background);\n",
       "  border-radius: 1em;\n",
       "  height: 1em;\n",
       "  width: 1em;\n",
       "  text-decoration: none !important;\n",
       "  margin-left: 0.5em;\n",
       "  text-align: center;\n",
       "  /* unfitted */\n",
       "  border: var(--sklearn-color-unfitted-level-1) 1pt solid;\n",
       "  color: var(--sklearn-color-unfitted-level-1);\n",
       "}\n",
       "\n",
       ".sk-estimator-doc-link.fitted,\n",
       "a:link.sk-estimator-doc-link.fitted,\n",
       "a:visited.sk-estimator-doc-link.fitted {\n",
       "  /* fitted */\n",
       "  border: var(--sklearn-color-fitted-level-1) 1pt solid;\n",
       "  color: var(--sklearn-color-fitted-level-1);\n",
       "}\n",
       "\n",
       "/* On hover */\n",
       "div.sk-estimator:hover .sk-estimator-doc-link:hover,\n",
       ".sk-estimator-doc-link:hover,\n",
       "div.sk-label-container:hover .sk-estimator-doc-link:hover,\n",
       ".sk-estimator-doc-link:hover {\n",
       "  /* unfitted */\n",
       "  background-color: var(--sklearn-color-unfitted-level-3);\n",
       "  color: var(--sklearn-color-background);\n",
       "  text-decoration: none;\n",
       "}\n",
       "\n",
       "div.sk-estimator.fitted:hover .sk-estimator-doc-link.fitted:hover,\n",
       ".sk-estimator-doc-link.fitted:hover,\n",
       "div.sk-label-container:hover .sk-estimator-doc-link.fitted:hover,\n",
       ".sk-estimator-doc-link.fitted:hover {\n",
       "  /* fitted */\n",
       "  background-color: var(--sklearn-color-fitted-level-3);\n",
       "  color: var(--sklearn-color-background);\n",
       "  text-decoration: none;\n",
       "}\n",
       "\n",
       "/* Span, style for the box shown on hovering the info icon */\n",
       ".sk-estimator-doc-link span {\n",
       "  display: none;\n",
       "  z-index: 9999;\n",
       "  position: relative;\n",
       "  font-weight: normal;\n",
       "  right: .2ex;\n",
       "  padding: .5ex;\n",
       "  margin: .5ex;\n",
       "  width: min-content;\n",
       "  min-width: 20ex;\n",
       "  max-width: 50ex;\n",
       "  color: var(--sklearn-color-text);\n",
       "  box-shadow: 2pt 2pt 4pt #999;\n",
       "  /* unfitted */\n",
       "  background: var(--sklearn-color-unfitted-level-0);\n",
       "  border: .5pt solid var(--sklearn-color-unfitted-level-3);\n",
       "}\n",
       "\n",
       ".sk-estimator-doc-link.fitted span {\n",
       "  /* fitted */\n",
       "  background: var(--sklearn-color-fitted-level-0);\n",
       "  border: var(--sklearn-color-fitted-level-3);\n",
       "}\n",
       "\n",
       ".sk-estimator-doc-link:hover span {\n",
       "  display: block;\n",
       "}\n",
       "\n",
       "/* \"?\"-specific style due to the `<a>` HTML tag */\n",
       "\n",
       "#sk-container-id-2 a.estimator_doc_link {\n",
       "  float: right;\n",
       "  font-size: 1rem;\n",
       "  line-height: 1em;\n",
       "  font-family: monospace;\n",
       "  background-color: var(--sklearn-color-background);\n",
       "  border-radius: 1rem;\n",
       "  height: 1rem;\n",
       "  width: 1rem;\n",
       "  text-decoration: none;\n",
       "  /* unfitted */\n",
       "  color: var(--sklearn-color-unfitted-level-1);\n",
       "  border: var(--sklearn-color-unfitted-level-1) 1pt solid;\n",
       "}\n",
       "\n",
       "#sk-container-id-2 a.estimator_doc_link.fitted {\n",
       "  /* fitted */\n",
       "  border: var(--sklearn-color-fitted-level-1) 1pt solid;\n",
       "  color: var(--sklearn-color-fitted-level-1);\n",
       "}\n",
       "\n",
       "/* On hover */\n",
       "#sk-container-id-2 a.estimator_doc_link:hover {\n",
       "  /* unfitted */\n",
       "  background-color: var(--sklearn-color-unfitted-level-3);\n",
       "  color: var(--sklearn-color-background);\n",
       "  text-decoration: none;\n",
       "}\n",
       "\n",
       "#sk-container-id-2 a.estimator_doc_link.fitted:hover {\n",
       "  /* fitted */\n",
       "  background-color: var(--sklearn-color-fitted-level-3);\n",
       "}\n",
       "\n",
       ".estimator-table summary {\n",
       "    padding: .5rem;\n",
       "    font-family: monospace;\n",
       "    cursor: pointer;\n",
       "}\n",
       "\n",
       ".estimator-table details[open] {\n",
       "    padding-left: 0.1rem;\n",
       "    padding-right: 0.1rem;\n",
       "    padding-bottom: 0.3rem;\n",
       "}\n",
       "\n",
       ".estimator-table .parameters-table {\n",
       "    margin-left: auto !important;\n",
       "    margin-right: auto !important;\n",
       "}\n",
       "\n",
       ".estimator-table .parameters-table tr:nth-child(odd) {\n",
       "    background-color: #fff;\n",
       "}\n",
       "\n",
       ".estimator-table .parameters-table tr:nth-child(even) {\n",
       "    background-color: #f6f6f6;\n",
       "}\n",
       "\n",
       ".estimator-table .parameters-table tr:hover {\n",
       "    background-color: #e0e0e0;\n",
       "}\n",
       "\n",
       ".estimator-table table td {\n",
       "    border: 1px solid rgba(106, 105, 104, 0.232);\n",
       "}\n",
       "\n",
       ".user-set td {\n",
       "    color:rgb(255, 94, 0);\n",
       "    text-align: left;\n",
       "}\n",
       "\n",
       ".user-set td.value pre {\n",
       "    color:rgb(255, 94, 0) !important;\n",
       "    background-color: transparent !important;\n",
       "}\n",
       "\n",
       ".default td {\n",
       "    color: black;\n",
       "    text-align: left;\n",
       "}\n",
       "\n",
       ".user-set td i,\n",
       ".default td i {\n",
       "    color: black;\n",
       "}\n",
       "\n",
       ".copy-paste-icon {\n",
       "    background-image: url(data:image/svg+xml;base64,PHN2ZyB4bWxucz0iaHR0cDovL3d3dy53My5vcmcvMjAwMC9zdmciIHZpZXdCb3g9IjAgMCA0NDggNTEyIj48IS0tIUZvbnQgQXdlc29tZSBGcmVlIDYuNy4yIGJ5IEBmb250YXdlc29tZSAtIGh0dHBzOi8vZm9udGF3ZXNvbWUuY29tIExpY2Vuc2UgLSBodHRwczovL2ZvbnRhd2Vzb21lLmNvbS9saWNlbnNlL2ZyZWUgQ29weXJpZ2h0IDIwMjUgRm9udGljb25zLCBJbmMuLS0+PHBhdGggZD0iTTIwOCAwTDMzMi4xIDBjMTIuNyAwIDI0LjkgNS4xIDMzLjkgMTQuMWw2Ny45IDY3LjljOSA5IDE0LjEgMjEuMiAxNC4xIDMzLjlMNDQ4IDMzNmMwIDI2LjUtMjEuNSA0OC00OCA0OGwtMTkyIDBjLTI2LjUgMC00OC0yMS41LTQ4LTQ4bDAtMjg4YzAtMjYuNSAyMS41LTQ4IDQ4LTQ4ek00OCAxMjhsODAgMCAwIDY0LTY0IDAgMCAyNTYgMTkyIDAgMC0zMiA2NCAwIDAgNDhjMCAyNi41LTIxLjUgNDgtNDggNDhMNDggNTEyYy0yNi41IDAtNDgtMjEuNS00OC00OEwwIDE3NmMwLTI2LjUgMjEuNS00OCA0OC00OHoiLz48L3N2Zz4=);\n",
       "    background-repeat: no-repeat;\n",
       "    background-size: 14px 14px;\n",
       "    background-position: 0;\n",
       "    display: inline-block;\n",
       "    width: 14px;\n",
       "    height: 14px;\n",
       "    cursor: pointer;\n",
       "}\n",
       "</style><body><div id=\"sk-container-id-2\" class=\"sk-top-container\"><div class=\"sk-text-repr-fallback\"><pre>ColumnTransformer(remainder=&#x27;passthrough&#x27;,\n",
       "                  transformers=[(&#x27;standardscaler&#x27;, StandardScaler(), [&#x27;Valor&#x27;]),\n",
       "                                (&#x27;pipeline&#x27;,\n",
       "                                 Pipeline(steps=[(&#x27;functiontransformer&#x27;,\n",
       "                                                  FunctionTransformer(func=&lt;function add_date_features at 0x000002E143E14E50&gt;)),\n",
       "                                                 (&#x27;normalizer&#x27;, Normalizer())]),\n",
       "                                 [&#x27;Data&#x27;]),\n",
       "                                (&#x27;featureunion&#x27;,\n",
       "                                 FeatureUnion(transformer_list=[(&#x27;description&#x27;,\n",
       "                                                                 Pipeline(steps=[(&#x27;fu...\n",
       "                                                                                                      kw_args={&#x27;column_list&#x27;: [&#x27;input_ids&#x27;,\n",
       "                                                                                                                               &#x27;attention_mask&#x27;]})),\n",
       "                                                                                 (&#x27;functiontransformer-2&#x27;,\n",
       "                                                                                  FunctionTransformer(func=&lt;function hidden_state_from_text_inputs at 0x000002E14DA465F0&gt;))])),\n",
       "                                                                (&#x27;keyword_hints&#x27;,\n",
       "                                                                 Pipeline(steps=[(&#x27;functiontransformer&#x27;,\n",
       "                                                                                  FunctionTransformer(func=&lt;function add_keyword_hints at 0x000002E143E14D30&gt;)),\n",
       "                                                                                 (&#x27;normalizer&#x27;,\n",
       "                                                                                  Normalizer())]))]),\n",
       "                                 [&#x27;Descrição&#x27;])])</pre><b>In a Jupyter environment, please rerun this cell to show the HTML representation or trust the notebook. <br />On GitHub, the HTML representation is unable to render, please try loading this page with nbviewer.org.</b></div><div class=\"sk-container\" hidden><div class=\"sk-item sk-dashed-wrapped\"><div class=\"sk-label-container\"><div class=\"sk-label  sk-toggleable\"><input class=\"sk-toggleable__control sk-hidden--visually\" id=\"sk-estimator-id-12\" type=\"checkbox\" ><label for=\"sk-estimator-id-12\" class=\"sk-toggleable__label  sk-toggleable__label-arrow\"><div><div>ColumnTransformer</div></div><div><a class=\"sk-estimator-doc-link \" rel=\"noreferrer\" target=\"_blank\" href=\"https://scikit-learn.org/1.7/modules/generated/sklearn.compose.ColumnTransformer.html\">?<span>Documentation for ColumnTransformer</span></a><span class=\"sk-estimator-doc-link \">i<span>Not fitted</span></span></div></label><div class=\"sk-toggleable__content \" data-param-prefix=\"\">\n",
       "        <div class=\"estimator-table\">\n",
       "            <details>\n",
       "                <summary>Parameters</summary>\n",
       "                <table class=\"parameters-table\">\n",
       "                  <tbody>\n",
       "                    \n",
       "        <tr class=\"user-set\">\n",
       "            <td><i class=\"copy-paste-icon\"\n",
       "                 onclick=\"copyToClipboard('transformers',\n",
       "                          this.parentElement.nextElementSibling)\"\n",
       "            ></i></td>\n",
       "            <td class=\"param\">transformers&nbsp;</td>\n",
       "            <td class=\"value\">[(&#x27;standardscaler&#x27;, ...), (&#x27;pipeline&#x27;, ...), ...]</td>\n",
       "        </tr>\n",
       "    \n",
       "\n",
       "        <tr class=\"user-set\">\n",
       "            <td><i class=\"copy-paste-icon\"\n",
       "                 onclick=\"copyToClipboard('remainder',\n",
       "                          this.parentElement.nextElementSibling)\"\n",
       "            ></i></td>\n",
       "            <td class=\"param\">remainder&nbsp;</td>\n",
       "            <td class=\"value\">&#x27;passthrough&#x27;</td>\n",
       "        </tr>\n",
       "    \n",
       "\n",
       "        <tr class=\"default\">\n",
       "            <td><i class=\"copy-paste-icon\"\n",
       "                 onclick=\"copyToClipboard('sparse_threshold',\n",
       "                          this.parentElement.nextElementSibling)\"\n",
       "            ></i></td>\n",
       "            <td class=\"param\">sparse_threshold&nbsp;</td>\n",
       "            <td class=\"value\">0.3</td>\n",
       "        </tr>\n",
       "    \n",
       "\n",
       "        <tr class=\"default\">\n",
       "            <td><i class=\"copy-paste-icon\"\n",
       "                 onclick=\"copyToClipboard('n_jobs',\n",
       "                          this.parentElement.nextElementSibling)\"\n",
       "            ></i></td>\n",
       "            <td class=\"param\">n_jobs&nbsp;</td>\n",
       "            <td class=\"value\">None</td>\n",
       "        </tr>\n",
       "    \n",
       "\n",
       "        <tr class=\"default\">\n",
       "            <td><i class=\"copy-paste-icon\"\n",
       "                 onclick=\"copyToClipboard('transformer_weights',\n",
       "                          this.parentElement.nextElementSibling)\"\n",
       "            ></i></td>\n",
       "            <td class=\"param\">transformer_weights&nbsp;</td>\n",
       "            <td class=\"value\">None</td>\n",
       "        </tr>\n",
       "    \n",
       "\n",
       "        <tr class=\"default\">\n",
       "            <td><i class=\"copy-paste-icon\"\n",
       "                 onclick=\"copyToClipboard('verbose',\n",
       "                          this.parentElement.nextElementSibling)\"\n",
       "            ></i></td>\n",
       "            <td class=\"param\">verbose&nbsp;</td>\n",
       "            <td class=\"value\">False</td>\n",
       "        </tr>\n",
       "    \n",
       "\n",
       "        <tr class=\"default\">\n",
       "            <td><i class=\"copy-paste-icon\"\n",
       "                 onclick=\"copyToClipboard('verbose_feature_names_out',\n",
       "                          this.parentElement.nextElementSibling)\"\n",
       "            ></i></td>\n",
       "            <td class=\"param\">verbose_feature_names_out&nbsp;</td>\n",
       "            <td class=\"value\">True</td>\n",
       "        </tr>\n",
       "    \n",
       "\n",
       "        <tr class=\"default\">\n",
       "            <td><i class=\"copy-paste-icon\"\n",
       "                 onclick=\"copyToClipboard('force_int_remainder_cols',\n",
       "                          this.parentElement.nextElementSibling)\"\n",
       "            ></i></td>\n",
       "            <td class=\"param\">force_int_remainder_cols&nbsp;</td>\n",
       "            <td class=\"value\">&#x27;deprecated&#x27;</td>\n",
       "        </tr>\n",
       "    \n",
       "                  </tbody>\n",
       "                </table>\n",
       "            </details>\n",
       "        </div>\n",
       "    </div></div></div><div class=\"sk-parallel\"><div class=\"sk-parallel-item\"><div class=\"sk-item\"><div class=\"sk-label-container\"><div class=\"sk-label  sk-toggleable\"><input class=\"sk-toggleable__control sk-hidden--visually\" id=\"sk-estimator-id-13\" type=\"checkbox\" ><label for=\"sk-estimator-id-13\" class=\"sk-toggleable__label  sk-toggleable__label-arrow\"><div><div>standardscaler</div></div></label><div class=\"sk-toggleable__content \" data-param-prefix=\"standardscaler__\"><pre>[&#x27;Valor&#x27;]</pre></div></div></div><div class=\"sk-serial\"><div class=\"sk-item\"><div class=\"sk-estimator  sk-toggleable\"><input class=\"sk-toggleable__control sk-hidden--visually\" id=\"sk-estimator-id-14\" type=\"checkbox\" ><label for=\"sk-estimator-id-14\" class=\"sk-toggleable__label  sk-toggleable__label-arrow\"><div><div>StandardScaler</div></div><div><a class=\"sk-estimator-doc-link \" rel=\"noreferrer\" target=\"_blank\" href=\"https://scikit-learn.org/1.7/modules/generated/sklearn.preprocessing.StandardScaler.html\">?<span>Documentation for StandardScaler</span></a></div></label><div class=\"sk-toggleable__content \" data-param-prefix=\"standardscaler__\">\n",
       "        <div class=\"estimator-table\">\n",
       "            <details>\n",
       "                <summary>Parameters</summary>\n",
       "                <table class=\"parameters-table\">\n",
       "                  <tbody>\n",
       "                    \n",
       "        <tr class=\"default\">\n",
       "            <td><i class=\"copy-paste-icon\"\n",
       "                 onclick=\"copyToClipboard('copy',\n",
       "                          this.parentElement.nextElementSibling)\"\n",
       "            ></i></td>\n",
       "            <td class=\"param\">copy&nbsp;</td>\n",
       "            <td class=\"value\">True</td>\n",
       "        </tr>\n",
       "    \n",
       "\n",
       "        <tr class=\"default\">\n",
       "            <td><i class=\"copy-paste-icon\"\n",
       "                 onclick=\"copyToClipboard('with_mean',\n",
       "                          this.parentElement.nextElementSibling)\"\n",
       "            ></i></td>\n",
       "            <td class=\"param\">with_mean&nbsp;</td>\n",
       "            <td class=\"value\">True</td>\n",
       "        </tr>\n",
       "    \n",
       "\n",
       "        <tr class=\"default\">\n",
       "            <td><i class=\"copy-paste-icon\"\n",
       "                 onclick=\"copyToClipboard('with_std',\n",
       "                          this.parentElement.nextElementSibling)\"\n",
       "            ></i></td>\n",
       "            <td class=\"param\">with_std&nbsp;</td>\n",
       "            <td class=\"value\">True</td>\n",
       "        </tr>\n",
       "    \n",
       "                  </tbody>\n",
       "                </table>\n",
       "            </details>\n",
       "        </div>\n",
       "    </div></div></div></div></div></div><div class=\"sk-parallel-item\"><div class=\"sk-item\"><div class=\"sk-label-container\"><div class=\"sk-label  sk-toggleable\"><input class=\"sk-toggleable__control sk-hidden--visually\" id=\"sk-estimator-id-15\" type=\"checkbox\" ><label for=\"sk-estimator-id-15\" class=\"sk-toggleable__label  sk-toggleable__label-arrow\"><div><div>pipeline</div></div></label><div class=\"sk-toggleable__content \" data-param-prefix=\"pipeline__\"><pre>[&#x27;Data&#x27;]</pre></div></div></div><div class=\"sk-serial\"><div class=\"sk-item\"><div class=\"sk-serial\"><div class=\"sk-item\"><div class=\"sk-estimator  sk-toggleable\"><input class=\"sk-toggleable__control sk-hidden--visually\" id=\"sk-estimator-id-16\" type=\"checkbox\" ><label for=\"sk-estimator-id-16\" class=\"sk-toggleable__label  sk-toggleable__label-arrow\"><div><div>add_date_features</div><div class=\"caption\">FunctionTransformer</div></div><div><a class=\"sk-estimator-doc-link \" rel=\"noreferrer\" target=\"_blank\" href=\"https://scikit-learn.org/1.7/modules/generated/sklearn.preprocessing.FunctionTransformer.html\">?<span>Documentation for FunctionTransformer</span></a></div></label><div class=\"sk-toggleable__content \" data-param-prefix=\"pipeline__functiontransformer__\">\n",
       "        <div class=\"estimator-table\">\n",
       "            <details>\n",
       "                <summary>Parameters</summary>\n",
       "                <table class=\"parameters-table\">\n",
       "                  <tbody>\n",
       "                    \n",
       "        <tr class=\"user-set\">\n",
       "            <td><i class=\"copy-paste-icon\"\n",
       "                 onclick=\"copyToClipboard('func',\n",
       "                          this.parentElement.nextElementSibling)\"\n",
       "            ></i></td>\n",
       "            <td class=\"param\">func&nbsp;</td>\n",
       "            <td class=\"value\">&lt;function add...002E143E14E50&gt;</td>\n",
       "        </tr>\n",
       "    \n",
       "\n",
       "        <tr class=\"default\">\n",
       "            <td><i class=\"copy-paste-icon\"\n",
       "                 onclick=\"copyToClipboard('inverse_func',\n",
       "                          this.parentElement.nextElementSibling)\"\n",
       "            ></i></td>\n",
       "            <td class=\"param\">inverse_func&nbsp;</td>\n",
       "            <td class=\"value\">None</td>\n",
       "        </tr>\n",
       "    \n",
       "\n",
       "        <tr class=\"default\">\n",
       "            <td><i class=\"copy-paste-icon\"\n",
       "                 onclick=\"copyToClipboard('validate',\n",
       "                          this.parentElement.nextElementSibling)\"\n",
       "            ></i></td>\n",
       "            <td class=\"param\">validate&nbsp;</td>\n",
       "            <td class=\"value\">False</td>\n",
       "        </tr>\n",
       "    \n",
       "\n",
       "        <tr class=\"default\">\n",
       "            <td><i class=\"copy-paste-icon\"\n",
       "                 onclick=\"copyToClipboard('accept_sparse',\n",
       "                          this.parentElement.nextElementSibling)\"\n",
       "            ></i></td>\n",
       "            <td class=\"param\">accept_sparse&nbsp;</td>\n",
       "            <td class=\"value\">False</td>\n",
       "        </tr>\n",
       "    \n",
       "\n",
       "        <tr class=\"default\">\n",
       "            <td><i class=\"copy-paste-icon\"\n",
       "                 onclick=\"copyToClipboard('check_inverse',\n",
       "                          this.parentElement.nextElementSibling)\"\n",
       "            ></i></td>\n",
       "            <td class=\"param\">check_inverse&nbsp;</td>\n",
       "            <td class=\"value\">True</td>\n",
       "        </tr>\n",
       "    \n",
       "\n",
       "        <tr class=\"default\">\n",
       "            <td><i class=\"copy-paste-icon\"\n",
       "                 onclick=\"copyToClipboard('feature_names_out',\n",
       "                          this.parentElement.nextElementSibling)\"\n",
       "            ></i></td>\n",
       "            <td class=\"param\">feature_names_out&nbsp;</td>\n",
       "            <td class=\"value\">None</td>\n",
       "        </tr>\n",
       "    \n",
       "\n",
       "        <tr class=\"default\">\n",
       "            <td><i class=\"copy-paste-icon\"\n",
       "                 onclick=\"copyToClipboard('kw_args',\n",
       "                          this.parentElement.nextElementSibling)\"\n",
       "            ></i></td>\n",
       "            <td class=\"param\">kw_args&nbsp;</td>\n",
       "            <td class=\"value\">None</td>\n",
       "        </tr>\n",
       "    \n",
       "\n",
       "        <tr class=\"default\">\n",
       "            <td><i class=\"copy-paste-icon\"\n",
       "                 onclick=\"copyToClipboard('inv_kw_args',\n",
       "                          this.parentElement.nextElementSibling)\"\n",
       "            ></i></td>\n",
       "            <td class=\"param\">inv_kw_args&nbsp;</td>\n",
       "            <td class=\"value\">None</td>\n",
       "        </tr>\n",
       "    \n",
       "                  </tbody>\n",
       "                </table>\n",
       "            </details>\n",
       "        </div>\n",
       "    </div></div></div><div class=\"sk-item\"><div class=\"sk-estimator  sk-toggleable\"><input class=\"sk-toggleable__control sk-hidden--visually\" id=\"sk-estimator-id-17\" type=\"checkbox\" ><label for=\"sk-estimator-id-17\" class=\"sk-toggleable__label  sk-toggleable__label-arrow\"><div><div>Normalizer</div></div><div><a class=\"sk-estimator-doc-link \" rel=\"noreferrer\" target=\"_blank\" href=\"https://scikit-learn.org/1.7/modules/generated/sklearn.preprocessing.Normalizer.html\">?<span>Documentation for Normalizer</span></a></div></label><div class=\"sk-toggleable__content \" data-param-prefix=\"pipeline__normalizer__\">\n",
       "        <div class=\"estimator-table\">\n",
       "            <details>\n",
       "                <summary>Parameters</summary>\n",
       "                <table class=\"parameters-table\">\n",
       "                  <tbody>\n",
       "                    \n",
       "        <tr class=\"default\">\n",
       "            <td><i class=\"copy-paste-icon\"\n",
       "                 onclick=\"copyToClipboard('norm',\n",
       "                          this.parentElement.nextElementSibling)\"\n",
       "            ></i></td>\n",
       "            <td class=\"param\">norm&nbsp;</td>\n",
       "            <td class=\"value\">&#x27;l2&#x27;</td>\n",
       "        </tr>\n",
       "    \n",
       "\n",
       "        <tr class=\"default\">\n",
       "            <td><i class=\"copy-paste-icon\"\n",
       "                 onclick=\"copyToClipboard('copy',\n",
       "                          this.parentElement.nextElementSibling)\"\n",
       "            ></i></td>\n",
       "            <td class=\"param\">copy&nbsp;</td>\n",
       "            <td class=\"value\">True</td>\n",
       "        </tr>\n",
       "    \n",
       "                  </tbody>\n",
       "                </table>\n",
       "            </details>\n",
       "        </div>\n",
       "    </div></div></div></div></div></div></div></div><div class=\"sk-parallel-item\"><div class=\"sk-item\"><div class=\"sk-label-container\"><div class=\"sk-label  sk-toggleable\"><input class=\"sk-toggleable__control sk-hidden--visually\" id=\"sk-estimator-id-18\" type=\"checkbox\" ><label for=\"sk-estimator-id-18\" class=\"sk-toggleable__label  sk-toggleable__label-arrow\"><div><div>featureunion</div></div></label><div class=\"sk-toggleable__content \" data-param-prefix=\"featureunion__\"><pre>[&#x27;Descrição&#x27;]</pre></div></div></div><div class=\"sk-serial\"><div class=\"sk-item sk-dashed-wrapped\"><div class=\"sk-parallel\"><div class=\"sk-parallel-item\"><div class=\"sk-item\"><div class=\"sk-label-container\"><div class=\"sk-label  sk-toggleable\"><label>description</label></div></div><div class=\"sk-serial\"><div class=\"sk-item\"><div class=\"sk-serial\"><div class=\"sk-item\"><div class=\"sk-estimator  sk-toggleable\"><input class=\"sk-toggleable__control sk-hidden--visually\" id=\"sk-estimator-id-19\" type=\"checkbox\" ><label for=\"sk-estimator-id-19\" class=\"sk-toggleable__label  sk-toggleable__label-arrow\"><div><div>tokenized_pytorch_tensors</div><div class=\"caption\">FunctionTransformer</div></div><div><a class=\"sk-estimator-doc-link \" rel=\"noreferrer\" target=\"_blank\" href=\"https://scikit-learn.org/1.7/modules/generated/sklearn.preprocessing.FunctionTransformer.html\">?<span>Documentation for FunctionTransformer</span></a></div></label><div class=\"sk-toggleable__content \" data-param-prefix=\"featureunion__description__functiontransformer-1__\">\n",
       "        <div class=\"estimator-table\">\n",
       "            <details>\n",
       "                <summary>Parameters</summary>\n",
       "                <table class=\"parameters-table\">\n",
       "                  <tbody>\n",
       "                    \n",
       "        <tr class=\"user-set\">\n",
       "            <td><i class=\"copy-paste-icon\"\n",
       "                 onclick=\"copyToClipboard('func',\n",
       "                          this.parentElement.nextElementSibling)\"\n",
       "            ></i></td>\n",
       "            <td class=\"param\">func&nbsp;</td>\n",
       "            <td class=\"value\">&lt;function tok...002E14D514040&gt;</td>\n",
       "        </tr>\n",
       "    \n",
       "\n",
       "        <tr class=\"default\">\n",
       "            <td><i class=\"copy-paste-icon\"\n",
       "                 onclick=\"copyToClipboard('inverse_func',\n",
       "                          this.parentElement.nextElementSibling)\"\n",
       "            ></i></td>\n",
       "            <td class=\"param\">inverse_func&nbsp;</td>\n",
       "            <td class=\"value\">None</td>\n",
       "        </tr>\n",
       "    \n",
       "\n",
       "        <tr class=\"default\">\n",
       "            <td><i class=\"copy-paste-icon\"\n",
       "                 onclick=\"copyToClipboard('validate',\n",
       "                          this.parentElement.nextElementSibling)\"\n",
       "            ></i></td>\n",
       "            <td class=\"param\">validate&nbsp;</td>\n",
       "            <td class=\"value\">False</td>\n",
       "        </tr>\n",
       "    \n",
       "\n",
       "        <tr class=\"default\">\n",
       "            <td><i class=\"copy-paste-icon\"\n",
       "                 onclick=\"copyToClipboard('accept_sparse',\n",
       "                          this.parentElement.nextElementSibling)\"\n",
       "            ></i></td>\n",
       "            <td class=\"param\">accept_sparse&nbsp;</td>\n",
       "            <td class=\"value\">False</td>\n",
       "        </tr>\n",
       "    \n",
       "\n",
       "        <tr class=\"default\">\n",
       "            <td><i class=\"copy-paste-icon\"\n",
       "                 onclick=\"copyToClipboard('check_inverse',\n",
       "                          this.parentElement.nextElementSibling)\"\n",
       "            ></i></td>\n",
       "            <td class=\"param\">check_inverse&nbsp;</td>\n",
       "            <td class=\"value\">True</td>\n",
       "        </tr>\n",
       "    \n",
       "\n",
       "        <tr class=\"default\">\n",
       "            <td><i class=\"copy-paste-icon\"\n",
       "                 onclick=\"copyToClipboard('feature_names_out',\n",
       "                          this.parentElement.nextElementSibling)\"\n",
       "            ></i></td>\n",
       "            <td class=\"param\">feature_names_out&nbsp;</td>\n",
       "            <td class=\"value\">None</td>\n",
       "        </tr>\n",
       "    \n",
       "\n",
       "        <tr class=\"user-set\">\n",
       "            <td><i class=\"copy-paste-icon\"\n",
       "                 onclick=\"copyToClipboard('kw_args',\n",
       "                          this.parentElement.nextElementSibling)\"\n",
       "            ></i></td>\n",
       "            <td class=\"param\">kw_args&nbsp;</td>\n",
       "            <td class=\"value\">{&#x27;column_list&#x27;: [&#x27;input_ids&#x27;, &#x27;attention_mask&#x27;]}</td>\n",
       "        </tr>\n",
       "    \n",
       "\n",
       "        <tr class=\"default\">\n",
       "            <td><i class=\"copy-paste-icon\"\n",
       "                 onclick=\"copyToClipboard('inv_kw_args',\n",
       "                          this.parentElement.nextElementSibling)\"\n",
       "            ></i></td>\n",
       "            <td class=\"param\">inv_kw_args&nbsp;</td>\n",
       "            <td class=\"value\">None</td>\n",
       "        </tr>\n",
       "    \n",
       "                  </tbody>\n",
       "                </table>\n",
       "            </details>\n",
       "        </div>\n",
       "    </div></div></div><div class=\"sk-item\"><div class=\"sk-estimator  sk-toggleable\"><input class=\"sk-toggleable__control sk-hidden--visually\" id=\"sk-estimator-id-20\" type=\"checkbox\" ><label for=\"sk-estimator-id-20\" class=\"sk-toggleable__label  sk-toggleable__label-arrow\"><div><div>hidden_state_from_text_inputs</div><div class=\"caption\">FunctionTransformer</div></div><div><a class=\"sk-estimator-doc-link \" rel=\"noreferrer\" target=\"_blank\" href=\"https://scikit-learn.org/1.7/modules/generated/sklearn.preprocessing.FunctionTransformer.html\">?<span>Documentation for FunctionTransformer</span></a></div></label><div class=\"sk-toggleable__content \" data-param-prefix=\"featureunion__description__functiontransformer-2__\">\n",
       "        <div class=\"estimator-table\">\n",
       "            <details>\n",
       "                <summary>Parameters</summary>\n",
       "                <table class=\"parameters-table\">\n",
       "                  <tbody>\n",
       "                    \n",
       "        <tr class=\"user-set\">\n",
       "            <td><i class=\"copy-paste-icon\"\n",
       "                 onclick=\"copyToClipboard('func',\n",
       "                          this.parentElement.nextElementSibling)\"\n",
       "            ></i></td>\n",
       "            <td class=\"param\">func&nbsp;</td>\n",
       "            <td class=\"value\">&lt;function hid...002E14DA465F0&gt;</td>\n",
       "        </tr>\n",
       "    \n",
       "\n",
       "        <tr class=\"default\">\n",
       "            <td><i class=\"copy-paste-icon\"\n",
       "                 onclick=\"copyToClipboard('inverse_func',\n",
       "                          this.parentElement.nextElementSibling)\"\n",
       "            ></i></td>\n",
       "            <td class=\"param\">inverse_func&nbsp;</td>\n",
       "            <td class=\"value\">None</td>\n",
       "        </tr>\n",
       "    \n",
       "\n",
       "        <tr class=\"default\">\n",
       "            <td><i class=\"copy-paste-icon\"\n",
       "                 onclick=\"copyToClipboard('validate',\n",
       "                          this.parentElement.nextElementSibling)\"\n",
       "            ></i></td>\n",
       "            <td class=\"param\">validate&nbsp;</td>\n",
       "            <td class=\"value\">False</td>\n",
       "        </tr>\n",
       "    \n",
       "\n",
       "        <tr class=\"default\">\n",
       "            <td><i class=\"copy-paste-icon\"\n",
       "                 onclick=\"copyToClipboard('accept_sparse',\n",
       "                          this.parentElement.nextElementSibling)\"\n",
       "            ></i></td>\n",
       "            <td class=\"param\">accept_sparse&nbsp;</td>\n",
       "            <td class=\"value\">False</td>\n",
       "        </tr>\n",
       "    \n",
       "\n",
       "        <tr class=\"default\">\n",
       "            <td><i class=\"copy-paste-icon\"\n",
       "                 onclick=\"copyToClipboard('check_inverse',\n",
       "                          this.parentElement.nextElementSibling)\"\n",
       "            ></i></td>\n",
       "            <td class=\"param\">check_inverse&nbsp;</td>\n",
       "            <td class=\"value\">True</td>\n",
       "        </tr>\n",
       "    \n",
       "\n",
       "        <tr class=\"default\">\n",
       "            <td><i class=\"copy-paste-icon\"\n",
       "                 onclick=\"copyToClipboard('feature_names_out',\n",
       "                          this.parentElement.nextElementSibling)\"\n",
       "            ></i></td>\n",
       "            <td class=\"param\">feature_names_out&nbsp;</td>\n",
       "            <td class=\"value\">None</td>\n",
       "        </tr>\n",
       "    \n",
       "\n",
       "        <tr class=\"default\">\n",
       "            <td><i class=\"copy-paste-icon\"\n",
       "                 onclick=\"copyToClipboard('kw_args',\n",
       "                          this.parentElement.nextElementSibling)\"\n",
       "            ></i></td>\n",
       "            <td class=\"param\">kw_args&nbsp;</td>\n",
       "            <td class=\"value\">None</td>\n",
       "        </tr>\n",
       "    \n",
       "\n",
       "        <tr class=\"default\">\n",
       "            <td><i class=\"copy-paste-icon\"\n",
       "                 onclick=\"copyToClipboard('inv_kw_args',\n",
       "                          this.parentElement.nextElementSibling)\"\n",
       "            ></i></td>\n",
       "            <td class=\"param\">inv_kw_args&nbsp;</td>\n",
       "            <td class=\"value\">None</td>\n",
       "        </tr>\n",
       "    \n",
       "                  </tbody>\n",
       "                </table>\n",
       "            </details>\n",
       "        </div>\n",
       "    </div></div></div></div></div></div></div></div><div class=\"sk-parallel-item\"><div class=\"sk-item\"><div class=\"sk-label-container\"><div class=\"sk-label  sk-toggleable\"><label>keyword_hints</label></div></div><div class=\"sk-serial\"><div class=\"sk-item\"><div class=\"sk-serial\"><div class=\"sk-item\"><div class=\"sk-estimator  sk-toggleable\"><input class=\"sk-toggleable__control sk-hidden--visually\" id=\"sk-estimator-id-21\" type=\"checkbox\" ><label for=\"sk-estimator-id-21\" class=\"sk-toggleable__label  sk-toggleable__label-arrow\"><div><div>add_keyword_hints</div><div class=\"caption\">FunctionTransformer</div></div><div><a class=\"sk-estimator-doc-link \" rel=\"noreferrer\" target=\"_blank\" href=\"https://scikit-learn.org/1.7/modules/generated/sklearn.preprocessing.FunctionTransformer.html\">?<span>Documentation for FunctionTransformer</span></a></div></label><div class=\"sk-toggleable__content \" data-param-prefix=\"featureunion__keyword_hints__functiontransformer__\">\n",
       "        <div class=\"estimator-table\">\n",
       "            <details>\n",
       "                <summary>Parameters</summary>\n",
       "                <table class=\"parameters-table\">\n",
       "                  <tbody>\n",
       "                    \n",
       "        <tr class=\"user-set\">\n",
       "            <td><i class=\"copy-paste-icon\"\n",
       "                 onclick=\"copyToClipboard('func',\n",
       "                          this.parentElement.nextElementSibling)\"\n",
       "            ></i></td>\n",
       "            <td class=\"param\">func&nbsp;</td>\n",
       "            <td class=\"value\">&lt;function add...002E143E14D30&gt;</td>\n",
       "        </tr>\n",
       "    \n",
       "\n",
       "        <tr class=\"default\">\n",
       "            <td><i class=\"copy-paste-icon\"\n",
       "                 onclick=\"copyToClipboard('inverse_func',\n",
       "                          this.parentElement.nextElementSibling)\"\n",
       "            ></i></td>\n",
       "            <td class=\"param\">inverse_func&nbsp;</td>\n",
       "            <td class=\"value\">None</td>\n",
       "        </tr>\n",
       "    \n",
       "\n",
       "        <tr class=\"default\">\n",
       "            <td><i class=\"copy-paste-icon\"\n",
       "                 onclick=\"copyToClipboard('validate',\n",
       "                          this.parentElement.nextElementSibling)\"\n",
       "            ></i></td>\n",
       "            <td class=\"param\">validate&nbsp;</td>\n",
       "            <td class=\"value\">False</td>\n",
       "        </tr>\n",
       "    \n",
       "\n",
       "        <tr class=\"default\">\n",
       "            <td><i class=\"copy-paste-icon\"\n",
       "                 onclick=\"copyToClipboard('accept_sparse',\n",
       "                          this.parentElement.nextElementSibling)\"\n",
       "            ></i></td>\n",
       "            <td class=\"param\">accept_sparse&nbsp;</td>\n",
       "            <td class=\"value\">False</td>\n",
       "        </tr>\n",
       "    \n",
       "\n",
       "        <tr class=\"default\">\n",
       "            <td><i class=\"copy-paste-icon\"\n",
       "                 onclick=\"copyToClipboard('check_inverse',\n",
       "                          this.parentElement.nextElementSibling)\"\n",
       "            ></i></td>\n",
       "            <td class=\"param\">check_inverse&nbsp;</td>\n",
       "            <td class=\"value\">True</td>\n",
       "        </tr>\n",
       "    \n",
       "\n",
       "        <tr class=\"default\">\n",
       "            <td><i class=\"copy-paste-icon\"\n",
       "                 onclick=\"copyToClipboard('feature_names_out',\n",
       "                          this.parentElement.nextElementSibling)\"\n",
       "            ></i></td>\n",
       "            <td class=\"param\">feature_names_out&nbsp;</td>\n",
       "            <td class=\"value\">None</td>\n",
       "        </tr>\n",
       "    \n",
       "\n",
       "        <tr class=\"default\">\n",
       "            <td><i class=\"copy-paste-icon\"\n",
       "                 onclick=\"copyToClipboard('kw_args',\n",
       "                          this.parentElement.nextElementSibling)\"\n",
       "            ></i></td>\n",
       "            <td class=\"param\">kw_args&nbsp;</td>\n",
       "            <td class=\"value\">None</td>\n",
       "        </tr>\n",
       "    \n",
       "\n",
       "        <tr class=\"default\">\n",
       "            <td><i class=\"copy-paste-icon\"\n",
       "                 onclick=\"copyToClipboard('inv_kw_args',\n",
       "                          this.parentElement.nextElementSibling)\"\n",
       "            ></i></td>\n",
       "            <td class=\"param\">inv_kw_args&nbsp;</td>\n",
       "            <td class=\"value\">None</td>\n",
       "        </tr>\n",
       "    \n",
       "                  </tbody>\n",
       "                </table>\n",
       "            </details>\n",
       "        </div>\n",
       "    </div></div></div><div class=\"sk-item\"><div class=\"sk-estimator  sk-toggleable\"><input class=\"sk-toggleable__control sk-hidden--visually\" id=\"sk-estimator-id-22\" type=\"checkbox\" ><label for=\"sk-estimator-id-22\" class=\"sk-toggleable__label  sk-toggleable__label-arrow\"><div><div>Normalizer</div></div><div><a class=\"sk-estimator-doc-link \" rel=\"noreferrer\" target=\"_blank\" href=\"https://scikit-learn.org/1.7/modules/generated/sklearn.preprocessing.Normalizer.html\">?<span>Documentation for Normalizer</span></a></div></label><div class=\"sk-toggleable__content \" data-param-prefix=\"featureunion__keyword_hints__normalizer__\">\n",
       "        <div class=\"estimator-table\">\n",
       "            <details>\n",
       "                <summary>Parameters</summary>\n",
       "                <table class=\"parameters-table\">\n",
       "                  <tbody>\n",
       "                    \n",
       "        <tr class=\"default\">\n",
       "            <td><i class=\"copy-paste-icon\"\n",
       "                 onclick=\"copyToClipboard('norm',\n",
       "                          this.parentElement.nextElementSibling)\"\n",
       "            ></i></td>\n",
       "            <td class=\"param\">norm&nbsp;</td>\n",
       "            <td class=\"value\">&#x27;l2&#x27;</td>\n",
       "        </tr>\n",
       "    \n",
       "\n",
       "        <tr class=\"default\">\n",
       "            <td><i class=\"copy-paste-icon\"\n",
       "                 onclick=\"copyToClipboard('copy',\n",
       "                          this.parentElement.nextElementSibling)\"\n",
       "            ></i></td>\n",
       "            <td class=\"param\">copy&nbsp;</td>\n",
       "            <td class=\"value\">True</td>\n",
       "        </tr>\n",
       "    \n",
       "                  </tbody>\n",
       "                </table>\n",
       "            </details>\n",
       "        </div>\n",
       "    </div></div></div></div></div></div></div></div></div></div></div></div></div><div class=\"sk-parallel-item\"><div class=\"sk-item\"><div class=\"sk-label-container\"><div class=\"sk-label  sk-toggleable\"><input class=\"sk-toggleable__control sk-hidden--visually\" id=\"sk-estimator-id-23\" type=\"checkbox\" ><label for=\"sk-estimator-id-23\" class=\"sk-toggleable__label  sk-toggleable__label-arrow\"><div><div>remainder</div></div></label><div class=\"sk-toggleable__content \" data-param-prefix=\"remainder__\"></div></div><div class=\"sk-serial\"><div class=\"sk-item\"><div class=\"sk-estimator  sk-toggleable\"><input class=\"sk-toggleable__control sk-hidden--visually\" id=\"sk-estimator-id-24\" type=\"checkbox\" ><label for=\"sk-estimator-id-24\" class=\"sk-toggleable__label  sk-toggleable__label-arrow\"><div><div>passthrough</div></div></label><div class=\"sk-toggleable__content \" data-param-prefix=\"remainder__\"><pre>passthrough</pre></div></div></div></div></div></div></div></div></div></div><script>function copyToClipboard(text, element) {\n",
       "    // Get the parameter prefix from the closest toggleable content\n",
       "    const toggleableContent = element.closest('.sk-toggleable__content');\n",
       "    const paramPrefix = toggleableContent ? toggleableContent.dataset.paramPrefix : '';\n",
       "    const fullParamName = paramPrefix ? `${paramPrefix}${text}` : text;\n",
       "\n",
       "    const originalStyle = element.style;\n",
       "    const computedStyle = window.getComputedStyle(element);\n",
       "    const originalWidth = computedStyle.width;\n",
       "    const originalHTML = element.innerHTML.replace('Copied!', '');\n",
       "\n",
       "    navigator.clipboard.writeText(fullParamName)\n",
       "        .then(() => {\n",
       "            element.style.width = originalWidth;\n",
       "            element.style.color = 'green';\n",
       "            element.innerHTML = \"Copied!\";\n",
       "\n",
       "            setTimeout(() => {\n",
       "                element.innerHTML = originalHTML;\n",
       "                element.style = originalStyle;\n",
       "            }, 2000);\n",
       "        })\n",
       "        .catch(err => {\n",
       "            console.error('Failed to copy:', err);\n",
       "            element.style.color = 'red';\n",
       "            element.innerHTML = \"Failed!\";\n",
       "            setTimeout(() => {\n",
       "                element.innerHTML = originalHTML;\n",
       "                element.style = originalStyle;\n",
       "            }, 2000);\n",
       "        });\n",
       "    return false;\n",
       "}\n",
       "\n",
       "document.querySelectorAll('.fa-regular.fa-copy').forEach(function(element) {\n",
       "    const toggleableContent = element.closest('.sk-toggleable__content');\n",
       "    const paramPrefix = toggleableContent ? toggleableContent.dataset.paramPrefix : '';\n",
       "    const paramName = element.parentElement.nextElementSibling.textContent.trim();\n",
       "    const fullParamName = paramPrefix ? `${paramPrefix}${paramName}` : paramName;\n",
       "\n",
       "    element.setAttribute('title', fullParamName);\n",
       "});\n",
       "</script></body>"
      ],
      "text/plain": [
       "ColumnTransformer(remainder='passthrough',\n",
       "                  transformers=[('standardscaler', StandardScaler(), ['Valor']),\n",
       "                                ('pipeline',\n",
       "                                 Pipeline(steps=[('functiontransformer',\n",
       "                                                  FunctionTransformer(func=<function add_date_features at 0x000002E143E14E50>)),\n",
       "                                                 ('normalizer', Normalizer())]),\n",
       "                                 ['Data']),\n",
       "                                ('featureunion',\n",
       "                                 FeatureUnion(transformer_list=[('description',\n",
       "                                                                 Pipeline(steps=[('fu...\n",
       "                                                                                                      kw_args={'column_list': ['input_ids',\n",
       "                                                                                                                               'attention_mask']})),\n",
       "                                                                                 ('functiontransformer-2',\n",
       "                                                                                  FunctionTransformer(func=<function hidden_state_from_text_inputs at 0x000002E14DA465F0>))])),\n",
       "                                                                ('keyword_hints',\n",
       "                                                                 Pipeline(steps=[('functiontransformer',\n",
       "                                                                                  FunctionTransformer(func=<function add_keyword_hints at 0x000002E143E14D30>)),\n",
       "                                                                                 ('normalizer',\n",
       "                                                                                  Normalizer())]))]),\n",
       "                                 ['Descrição'])])"
      ]
     },
     "execution_count": 11,
     "metadata": {},
     "output_type": "execute_result"
    }
   ],
   "source": [
    "data_transformer_with_token = get_preprocessing_transformer(pytorch=True)\n",
    "\n",
    "data_transformer_with_token"
   ]
  },
  {
   "cell_type": "code",
   "execution_count": 12,
   "id": "8d095834",
   "metadata": {},
   "outputs": [],
   "source": [
    "custom_transformers = {'with description token': data_transformer_with_token, 'without description token': data_transformer_without_token}"
   ]
  },
  {
   "cell_type": "markdown",
   "id": "672d2723",
   "metadata": {},
   "source": [
    "## Model Cross-validation"
   ]
  },
  {
   "cell_type": "markdown",
   "id": "a31cee03",
   "metadata": {},
   "source": [
    "### Cross-validation scoring\n",
    "Scores used to evaluate models."
   ]
  },
  {
   "cell_type": "code",
   "execution_count": 13,
   "id": "fafe7c97",
   "metadata": {},
   "outputs": [],
   "source": [
    "scoring = ['accuracy', 'balanced_accuracy', 'recall_weighted', 'precision_weighted',  'f1_weighted']"
   ]
  },
  {
   "cell_type": "markdown",
   "id": "cd505f08",
   "metadata": {},
   "source": [
    "### Model candidates\n",
    "Models used in cross-validation. Applies extra normalization necessary for some models."
   ]
  },
  {
   "cell_type": "code",
   "execution_count": 16,
   "id": "072de780",
   "metadata": {},
   "outputs": [],
   "source": [
    "model_candidates = {\n",
    "    \"Logistic Regression\": LogisticRegression(random_state=random_state),\n",
    "    \"Ridge Classifier\": RidgeClassifier(random_state=random_state),\n",
    "    \"Multinomial Naive Bayes\": Pipeline(steps=[ Normalizer(),\n",
    "                                                CategoricalNB()], verbose=False), # CategoricalNB does not support normalization, so we use Normalizer before it  \n",
    "    \"Gaussian Naive Bayes\": Pipeline(steps=[ Normalizer(),\n",
    "                                                GaussianNB()],  verbose=False), # CategoricalNB does not support normalization, so we use Normalizer before it  \n",
    "    \"Support Vector Machine Classifier\": LinearSVC(verbose=0),\n",
    "    \"KNN\": KNeighborsClassifier(),\n",
    "    \"Gradient boosting\": GradientBoostingClassifier(\n",
    "                            n_estimators=100,    # Number of boosting stages\n",
    "                            learning_rate=0.1,   # Step size shrinkage\n",
    "                            max_depth=3,         # Maximum depth of each tree\n",
    "                            verbose=False, random_state=random_state\n",
    "                        ),\n",
    "    \"Random Forest Classifier\": RandomForestClassifier(n_estimators=100, verbose=False, random_state=random_state),\n",
    "    \"AdaBoost Classifier\": AdaBoostClassifier(n_estimators=100, random_state=random_state) \n",
    "}\n"
   ]
  },
  {
   "cell_type": "markdown",
   "id": "8fd2ffae",
   "metadata": {},
   "source": [
    "### Create pipelines for each model"
   ]
  },
  {
   "cell_type": "code",
   "execution_count": 17,
   "id": "2cdbe294",
   "metadata": {},
   "outputs": [],
   "source": [
    "model_pipelines ={model_name + \"-\" + transformer_name: Pipeline(\n",
    "                                steps=[(\"preprocessor\", data_transformer), (model_name, model)],\n",
    "                                verbose=False,\n",
    "                                memory=str(root_dir.absolute())\n",
    "                            ) for model_name, model in model_candidates.items() for transformer_name, data_transformer in custom_transformers.items()} "
   ]
  },
  {
   "cell_type": "markdown",
   "id": "cfe47ba3",
   "metadata": {},
   "source": [
    "### Run Cross-validation"
   ]
  },
  {
   "cell_type": "code",
   "execution_count": 18,
   "id": "5c593d37",
   "metadata": {},
   "outputs": [
    {
     "name": "stdout",
     "output_type": "stream",
     "text": [
      "Evaluating model: Logistic Regression-with description token\n"
     ]
    },
    {
     "name": "stderr",
     "output_type": "stream",
     "text": [
      "c:\\Users\\guilh\\Code\\ControleFinanceiro\\mvp-classifier\\.venv\\lib\\site-packages\\sklearn\\linear_model\\_logistic.py:470: ConvergenceWarning: lbfgs failed to converge after 100 iteration(s) (status=1):\n",
      "STOP: TOTAL NO. OF ITERATIONS REACHED LIMIT\n",
      "\n",
      "Increase the number of iterations to improve the convergence (max_iter=100).\n",
      "You might also want to scale the data as shown in:\n",
      "    https://scikit-learn.org/stable/modules/preprocessing.html\n",
      "Please also refer to the documentation for alternative solver options:\n",
      "    https://scikit-learn.org/stable/modules/linear_model.html#logistic-regression\n",
      "  n_iter_i = _check_optimize_result(\n",
      "c:\\Users\\guilh\\Code\\ControleFinanceiro\\mvp-classifier\\.venv\\lib\\site-packages\\sklearn\\utils\\_response.py:203: UserWarning: The number of unique classes is greater than 50% of the number of samples.\n",
      "  target_type = type_of_target(classes)\n"
     ]
    },
    {
     "name": "stdout",
     "output_type": "stream",
     "text": [
      "          Data\n",
      "38  2023-01-18\n",
      "749 2023-11-24\n",
      "91  2023-02-02\n",
      "557 2023-08-28\n",
      "152 2023-03-02\n"
     ]
    },
    {
     "name": "stderr",
     "output_type": "stream",
     "text": [
      "Map: 100%|██████████| 120/120 [00:00<00:00, 2754.08 examples/s]\n",
      "Map: 100%|██████████| 120/120 [00:12<00:00,  9.65 examples/s]\n",
      "c:\\Users\\guilh\\Code\\ControleFinanceiro\\mvp-classifier\\.venv\\lib\\site-packages\\sklearn\\metrics\\_classification.py:1706: UndefinedMetricWarning: Precision is ill-defined and being set to 0.0 in labels with no predicted samples. Use `zero_division` parameter to control this behavior.\n",
      "  _warn_prf(average, modifier, f\"{metric.capitalize()} is\", result.shape[0])\n",
      "c:\\Users\\guilh\\Code\\ControleFinanceiro\\mvp-classifier\\.venv\\lib\\site-packages\\sklearn\\linear_model\\_logistic.py:470: ConvergenceWarning: lbfgs failed to converge after 100 iteration(s) (status=1):\n",
      "STOP: TOTAL NO. OF ITERATIONS REACHED LIMIT\n",
      "\n",
      "Increase the number of iterations to improve the convergence (max_iter=100).\n",
      "You might also want to scale the data as shown in:\n",
      "    https://scikit-learn.org/stable/modules/preprocessing.html\n",
      "Please also refer to the documentation for alternative solver options:\n",
      "    https://scikit-learn.org/stable/modules/linear_model.html#logistic-regression\n",
      "  n_iter_i = _check_optimize_result(\n",
      "c:\\Users\\guilh\\Code\\ControleFinanceiro\\mvp-classifier\\.venv\\lib\\site-packages\\sklearn\\utils\\_response.py:203: UserWarning: The number of unique classes is greater than 50% of the number of samples.\n",
      "  target_type = type_of_target(classes)\n"
     ]
    },
    {
     "name": "stdout",
     "output_type": "stream",
     "text": [
      "          Data\n",
      "83  2023-01-29\n",
      "72  2023-01-21\n",
      "277 2023-05-07\n",
      "57  2023-02-03\n",
      "539 2023-08-25\n"
     ]
    },
    {
     "name": "stderr",
     "output_type": "stream",
     "text": [
      "Map: 100%|██████████| 120/120 [00:00<00:00, 5169.32 examples/s]\n",
      "Map: 100%|██████████| 120/120 [00:01<00:00, 61.35 examples/s]\n",
      "c:\\Users\\guilh\\Code\\ControleFinanceiro\\mvp-classifier\\.venv\\lib\\site-packages\\sklearn\\metrics\\_classification.py:1706: UndefinedMetricWarning: Precision is ill-defined and being set to 0.0 in labels with no predicted samples. Use `zero_division` parameter to control this behavior.\n",
      "  _warn_prf(average, modifier, f\"{metric.capitalize()} is\", result.shape[0])\n",
      "c:\\Users\\guilh\\Code\\ControleFinanceiro\\mvp-classifier\\.venv\\lib\\site-packages\\sklearn\\linear_model\\_logistic.py:470: ConvergenceWarning: lbfgs failed to converge after 100 iteration(s) (status=1):\n",
      "STOP: TOTAL NO. OF ITERATIONS REACHED LIMIT\n",
      "\n",
      "Increase the number of iterations to improve the convergence (max_iter=100).\n",
      "You might also want to scale the data as shown in:\n",
      "    https://scikit-learn.org/stable/modules/preprocessing.html\n",
      "Please also refer to the documentation for alternative solver options:\n",
      "    https://scikit-learn.org/stable/modules/linear_model.html#logistic-regression\n",
      "  n_iter_i = _check_optimize_result(\n",
      "c:\\Users\\guilh\\Code\\ControleFinanceiro\\mvp-classifier\\.venv\\lib\\site-packages\\sklearn\\utils\\_response.py:203: UserWarning: The number of unique classes is greater than 50% of the number of samples.\n",
      "  target_type = type_of_target(classes)\n"
     ]
    },
    {
     "name": "stdout",
     "output_type": "stream",
     "text": [
      "          Data\n",
      "607 2023-09-23\n",
      "176 2023-03-18\n",
      "396 2023-06-30\n",
      "722 2023-11-11\n",
      "193 2023-03-31\n"
     ]
    },
    {
     "name": "stderr",
     "output_type": "stream",
     "text": [
      "Map: 100%|██████████| 120/120 [00:00<00:00, 8007.07 examples/s]\n",
      "Map: 100%|██████████| 120/120 [00:01<00:00, 68.30 examples/s]\n",
      "c:\\Users\\guilh\\Code\\ControleFinanceiro\\mvp-classifier\\.venv\\lib\\site-packages\\sklearn\\metrics\\_classification.py:1706: UndefinedMetricWarning: Precision is ill-defined and being set to 0.0 in labels with no predicted samples. Use `zero_division` parameter to control this behavior.\n",
      "  _warn_prf(average, modifier, f\"{metric.capitalize()} is\", result.shape[0])\n",
      "c:\\Users\\guilh\\Code\\ControleFinanceiro\\mvp-classifier\\.venv\\lib\\site-packages\\sklearn\\linear_model\\_logistic.py:470: ConvergenceWarning: lbfgs failed to converge after 100 iteration(s) (status=1):\n",
      "STOP: TOTAL NO. OF ITERATIONS REACHED LIMIT\n",
      "\n",
      "Increase the number of iterations to improve the convergence (max_iter=100).\n",
      "You might also want to scale the data as shown in:\n",
      "    https://scikit-learn.org/stable/modules/preprocessing.html\n",
      "Please also refer to the documentation for alternative solver options:\n",
      "    https://scikit-learn.org/stable/modules/linear_model.html#logistic-regression\n",
      "  n_iter_i = _check_optimize_result(\n",
      "c:\\Users\\guilh\\Code\\ControleFinanceiro\\mvp-classifier\\.venv\\lib\\site-packages\\sklearn\\utils\\_response.py:203: UserWarning: The number of unique classes is greater than 50% of the number of samples.\n",
      "  target_type = type_of_target(classes)\n"
     ]
    },
    {
     "name": "stdout",
     "output_type": "stream",
     "text": [
      "          Data\n",
      "818 2023-12-14\n",
      "196 2023-03-14\n",
      "669 2023-10-23\n",
      "382 2023-06-30\n",
      "753 2023-11-27\n"
     ]
    },
    {
     "name": "stderr",
     "output_type": "stream",
     "text": [
      "Map: 100%|██████████| 120/120 [00:00<00:00, 5814.25 examples/s]\n",
      "Map: 100%|██████████| 120/120 [00:04<00:00, 28.80 examples/s]\n",
      "c:\\Users\\guilh\\Code\\ControleFinanceiro\\mvp-classifier\\.venv\\lib\\site-packages\\sklearn\\metrics\\_classification.py:1706: UndefinedMetricWarning: Precision is ill-defined and being set to 0.0 in labels with no predicted samples. Use `zero_division` parameter to control this behavior.\n",
      "  _warn_prf(average, modifier, f\"{metric.capitalize()} is\", result.shape[0])\n",
      "c:\\Users\\guilh\\Code\\ControleFinanceiro\\mvp-classifier\\.venv\\lib\\site-packages\\sklearn\\linear_model\\_logistic.py:470: ConvergenceWarning: lbfgs failed to converge after 100 iteration(s) (status=1):\n",
      "STOP: TOTAL NO. OF ITERATIONS REACHED LIMIT\n",
      "\n",
      "Increase the number of iterations to improve the convergence (max_iter=100).\n",
      "You might also want to scale the data as shown in:\n",
      "    https://scikit-learn.org/stable/modules/preprocessing.html\n",
      "Please also refer to the documentation for alternative solver options:\n",
      "    https://scikit-learn.org/stable/modules/linear_model.html#logistic-regression\n",
      "  n_iter_i = _check_optimize_result(\n",
      "c:\\Users\\guilh\\Code\\ControleFinanceiro\\mvp-classifier\\.venv\\lib\\site-packages\\sklearn\\utils\\_response.py:203: UserWarning: The number of unique classes is greater than 50% of the number of samples.\n",
      "  target_type = type_of_target(classes)\n"
     ]
    },
    {
     "name": "stdout",
     "output_type": "stream",
     "text": [
      "          Data\n",
      "549 2023-07-29\n",
      "752 2023-11-24\n",
      "484 2023-08-03\n",
      "750 2023-11-24\n",
      "369 2023-06-20\n"
     ]
    },
    {
     "name": "stderr",
     "output_type": "stream",
     "text": [
      "Map: 100%|██████████| 120/120 [00:00<00:00, 5995.57 examples/s]\n",
      "Map: 100%|██████████| 120/120 [00:03<00:00, 37.83 examples/s]\n",
      "c:\\Users\\guilh\\Code\\ControleFinanceiro\\mvp-classifier\\.venv\\lib\\site-packages\\sklearn\\metrics\\_classification.py:1706: UndefinedMetricWarning: Precision is ill-defined and being set to 0.0 in labels with no predicted samples. Use `zero_division` parameter to control this behavior.\n",
      "  _warn_prf(average, modifier, f\"{metric.capitalize()} is\", result.shape[0])\n"
     ]
    },
    {
     "name": "stdout",
     "output_type": "stream",
     "text": [
      "Evaluating model: Logistic Regression-without description token\n",
      "          Data\n",
      "38  2023-01-18\n",
      "749 2023-11-24\n",
      "91  2023-02-02\n",
      "557 2023-08-28\n",
      "152 2023-03-02\n"
     ]
    },
    {
     "name": "stderr",
     "output_type": "stream",
     "text": [
      "c:\\Users\\guilh\\Code\\ControleFinanceiro\\mvp-classifier\\.venv\\lib\\site-packages\\sklearn\\utils\\_response.py:203: UserWarning: The number of unique classes is greater than 50% of the number of samples.\n",
      "  target_type = type_of_target(classes)\n",
      "c:\\Users\\guilh\\Code\\ControleFinanceiro\\mvp-classifier\\.venv\\lib\\site-packages\\sklearn\\metrics\\_classification.py:1706: UndefinedMetricWarning: Precision is ill-defined and being set to 0.0 in labels with no predicted samples. Use `zero_division` parameter to control this behavior.\n",
      "  _warn_prf(average, modifier, f\"{metric.capitalize()} is\", result.shape[0])\n",
      "c:\\Users\\guilh\\Code\\ControleFinanceiro\\mvp-classifier\\.venv\\lib\\site-packages\\sklearn\\utils\\_response.py:203: UserWarning: The number of unique classes is greater than 50% of the number of samples.\n",
      "  target_type = type_of_target(classes)\n"
     ]
    },
    {
     "name": "stdout",
     "output_type": "stream",
     "text": [
      "          Data\n",
      "83  2023-01-29\n",
      "72  2023-01-21\n",
      "277 2023-05-07\n",
      "57  2023-02-03\n",
      "539 2023-08-25\n",
      "          Data\n",
      "607 2023-09-23\n",
      "176 2023-03-18\n",
      "396 2023-06-30\n",
      "722 2023-11-11\n",
      "193 2023-03-31\n"
     ]
    },
    {
     "name": "stderr",
     "output_type": "stream",
     "text": [
      "c:\\Users\\guilh\\Code\\ControleFinanceiro\\mvp-classifier\\.venv\\lib\\site-packages\\sklearn\\metrics\\_classification.py:1706: UndefinedMetricWarning: Precision is ill-defined and being set to 0.0 in labels with no predicted samples. Use `zero_division` parameter to control this behavior.\n",
      "  _warn_prf(average, modifier, f\"{metric.capitalize()} is\", result.shape[0])\n",
      "c:\\Users\\guilh\\Code\\ControleFinanceiro\\mvp-classifier\\.venv\\lib\\site-packages\\sklearn\\utils\\_response.py:203: UserWarning: The number of unique classes is greater than 50% of the number of samples.\n",
      "  target_type = type_of_target(classes)\n",
      "c:\\Users\\guilh\\Code\\ControleFinanceiro\\mvp-classifier\\.venv\\lib\\site-packages\\sklearn\\metrics\\_classification.py:1706: UndefinedMetricWarning: Precision is ill-defined and being set to 0.0 in labels with no predicted samples. Use `zero_division` parameter to control this behavior.\n",
      "  _warn_prf(average, modifier, f\"{metric.capitalize()} is\", result.shape[0])\n",
      "c:\\Users\\guilh\\Code\\ControleFinanceiro\\mvp-classifier\\.venv\\lib\\site-packages\\sklearn\\utils\\_response.py:203: UserWarning: The number of unique classes is greater than 50% of the number of samples.\n",
      "  target_type = type_of_target(classes)\n",
      "c:\\Users\\guilh\\Code\\ControleFinanceiro\\mvp-classifier\\.venv\\lib\\site-packages\\sklearn\\metrics\\_classification.py:1706: UndefinedMetricWarning: Precision is ill-defined and being set to 0.0 in labels with no predicted samples. Use `zero_division` parameter to control this behavior.\n",
      "  _warn_prf(average, modifier, f\"{metric.capitalize()} is\", result.shape[0])\n",
      "c:\\Users\\guilh\\Code\\ControleFinanceiro\\mvp-classifier\\.venv\\lib\\site-packages\\sklearn\\utils\\_response.py:203: UserWarning: The number of unique classes is greater than 50% of the number of samples.\n",
      "  target_type = type_of_target(classes)\n"
     ]
    },
    {
     "name": "stdout",
     "output_type": "stream",
     "text": [
      "          Data\n",
      "818 2023-12-14\n",
      "196 2023-03-14\n",
      "669 2023-10-23\n",
      "382 2023-06-30\n",
      "753 2023-11-27\n",
      "          Data\n",
      "549 2023-07-29\n",
      "752 2023-11-24\n",
      "484 2023-08-03\n",
      "750 2023-11-24\n",
      "369 2023-06-20\n"
     ]
    },
    {
     "name": "stderr",
     "output_type": "stream",
     "text": [
      "c:\\Users\\guilh\\Code\\ControleFinanceiro\\mvp-classifier\\.venv\\lib\\site-packages\\sklearn\\metrics\\_classification.py:1706: UndefinedMetricWarning: Precision is ill-defined and being set to 0.0 in labels with no predicted samples. Use `zero_division` parameter to control this behavior.\n",
      "  _warn_prf(average, modifier, f\"{metric.capitalize()} is\", result.shape[0])\n",
      "c:\\Users\\guilh\\Code\\ControleFinanceiro\\mvp-classifier\\.venv\\lib\\site-packages\\sklearn\\utils\\_response.py:203: UserWarning: The number of unique classes is greater than 50% of the number of samples.\n",
      "  target_type = type_of_target(classes)\n"
     ]
    },
    {
     "name": "stdout",
     "output_type": "stream",
     "text": [
      "Evaluating model: Ridge Classifier-with description token\n",
      "          Data\n",
      "38  2023-01-18\n",
      "749 2023-11-24\n",
      "91  2023-02-02\n",
      "557 2023-08-28\n",
      "152 2023-03-02\n"
     ]
    },
    {
     "name": "stderr",
     "output_type": "stream",
     "text": [
      "Map: 100%|██████████| 120/120 [00:00<00:00, 3886.91 examples/s]\n",
      "Map: 100%|██████████| 120/120 [00:06<00:00, 18.55 examples/s]\n",
      "c:\\Users\\guilh\\Code\\ControleFinanceiro\\mvp-classifier\\.venv\\lib\\site-packages\\sklearn\\metrics\\_classification.py:1706: UndefinedMetricWarning: Precision is ill-defined and being set to 0.0 in labels with no predicted samples. Use `zero_division` parameter to control this behavior.\n",
      "  _warn_prf(average, modifier, f\"{metric.capitalize()} is\", result.shape[0])\n",
      "c:\\Users\\guilh\\Code\\ControleFinanceiro\\mvp-classifier\\.venv\\lib\\site-packages\\sklearn\\utils\\_response.py:203: UserWarning: The number of unique classes is greater than 50% of the number of samples.\n",
      "  target_type = type_of_target(classes)\n"
     ]
    },
    {
     "name": "stdout",
     "output_type": "stream",
     "text": [
      "          Data\n",
      "83  2023-01-29\n",
      "72  2023-01-21\n",
      "277 2023-05-07\n",
      "57  2023-02-03\n",
      "539 2023-08-25\n"
     ]
    },
    {
     "name": "stderr",
     "output_type": "stream",
     "text": [
      "Map: 100%|██████████| 120/120 [00:00<00:00, 5303.65 examples/s]\n",
      "Map: 100%|██████████| 120/120 [00:03<00:00, 38.45 examples/s]\n",
      "c:\\Users\\guilh\\Code\\ControleFinanceiro\\mvp-classifier\\.venv\\lib\\site-packages\\sklearn\\metrics\\_classification.py:1706: UndefinedMetricWarning: Precision is ill-defined and being set to 0.0 in labels with no predicted samples. Use `zero_division` parameter to control this behavior.\n",
      "  _warn_prf(average, modifier, f\"{metric.capitalize()} is\", result.shape[0])\n",
      "c:\\Users\\guilh\\Code\\ControleFinanceiro\\mvp-classifier\\.venv\\lib\\site-packages\\sklearn\\utils\\_response.py:203: UserWarning: The number of unique classes is greater than 50% of the number of samples.\n",
      "  target_type = type_of_target(classes)\n"
     ]
    },
    {
     "name": "stdout",
     "output_type": "stream",
     "text": [
      "          Data\n",
      "607 2023-09-23\n",
      "176 2023-03-18\n",
      "396 2023-06-30\n",
      "722 2023-11-11\n",
      "193 2023-03-31\n"
     ]
    },
    {
     "name": "stderr",
     "output_type": "stream",
     "text": [
      "Map: 100%|██████████| 120/120 [00:00<00:00, 5714.57 examples/s]\n",
      "Map: 100%|██████████| 120/120 [00:02<00:00, 50.08 examples/s]\n",
      "c:\\Users\\guilh\\Code\\ControleFinanceiro\\mvp-classifier\\.venv\\lib\\site-packages\\sklearn\\metrics\\_classification.py:1706: UndefinedMetricWarning: Precision is ill-defined and being set to 0.0 in labels with no predicted samples. Use `zero_division` parameter to control this behavior.\n",
      "  _warn_prf(average, modifier, f\"{metric.capitalize()} is\", result.shape[0])\n",
      "c:\\Users\\guilh\\Code\\ControleFinanceiro\\mvp-classifier\\.venv\\lib\\site-packages\\sklearn\\utils\\_response.py:203: UserWarning: The number of unique classes is greater than 50% of the number of samples.\n",
      "  target_type = type_of_target(classes)\n"
     ]
    },
    {
     "name": "stdout",
     "output_type": "stream",
     "text": [
      "          Data\n",
      "818 2023-12-14\n",
      "196 2023-03-14\n",
      "669 2023-10-23\n",
      "382 2023-06-30\n",
      "753 2023-11-27\n"
     ]
    },
    {
     "name": "stderr",
     "output_type": "stream",
     "text": [
      "Map: 100%|██████████| 120/120 [00:00<00:00, 5010.52 examples/s]\n",
      "Map: 100%|██████████| 120/120 [00:06<00:00, 17.45 examples/s]\n",
      "c:\\Users\\guilh\\Code\\ControleFinanceiro\\mvp-classifier\\.venv\\lib\\site-packages\\sklearn\\metrics\\_classification.py:1706: UndefinedMetricWarning: Precision is ill-defined and being set to 0.0 in labels with no predicted samples. Use `zero_division` parameter to control this behavior.\n",
      "  _warn_prf(average, modifier, f\"{metric.capitalize()} is\", result.shape[0])\n",
      "c:\\Users\\guilh\\Code\\ControleFinanceiro\\mvp-classifier\\.venv\\lib\\site-packages\\sklearn\\utils\\_response.py:203: UserWarning: The number of unique classes is greater than 50% of the number of samples.\n",
      "  target_type = type_of_target(classes)\n"
     ]
    },
    {
     "name": "stdout",
     "output_type": "stream",
     "text": [
      "          Data\n",
      "549 2023-07-29\n",
      "752 2023-11-24\n",
      "484 2023-08-03\n",
      "750 2023-11-24\n",
      "369 2023-06-20\n"
     ]
    },
    {
     "name": "stderr",
     "output_type": "stream",
     "text": [
      "Map: 100%|██████████| 120/120 [00:00<00:00, 5454.88 examples/s]\n",
      "Map: 100%|██████████| 120/120 [00:03<00:00, 38.63 examples/s]\n",
      "c:\\Users\\guilh\\Code\\ControleFinanceiro\\mvp-classifier\\.venv\\lib\\site-packages\\sklearn\\metrics\\_classification.py:1706: UndefinedMetricWarning: Precision is ill-defined and being set to 0.0 in labels with no predicted samples. Use `zero_division` parameter to control this behavior.\n",
      "  _warn_prf(average, modifier, f\"{metric.capitalize()} is\", result.shape[0])\n",
      "c:\\Users\\guilh\\Code\\ControleFinanceiro\\mvp-classifier\\.venv\\lib\\site-packages\\sklearn\\utils\\_response.py:203: UserWarning: The number of unique classes is greater than 50% of the number of samples.\n",
      "  target_type = type_of_target(classes)\n"
     ]
    },
    {
     "name": "stdout",
     "output_type": "stream",
     "text": [
      "Evaluating model: Ridge Classifier-without description token\n",
      "          Data\n",
      "38  2023-01-18\n",
      "749 2023-11-24\n",
      "91  2023-02-02\n",
      "557 2023-08-28\n",
      "152 2023-03-02\n",
      "          Data\n",
      "83  2023-01-29\n",
      "72  2023-01-21\n",
      "277 2023-05-07\n",
      "57  2023-02-03\n",
      "539 2023-08-25\n"
     ]
    },
    {
     "name": "stderr",
     "output_type": "stream",
     "text": [
      "c:\\Users\\guilh\\Code\\ControleFinanceiro\\mvp-classifier\\.venv\\lib\\site-packages\\sklearn\\metrics\\_classification.py:1706: UndefinedMetricWarning: Precision is ill-defined and being set to 0.0 in labels with no predicted samples. Use `zero_division` parameter to control this behavior.\n",
      "  _warn_prf(average, modifier, f\"{metric.capitalize()} is\", result.shape[0])\n",
      "c:\\Users\\guilh\\Code\\ControleFinanceiro\\mvp-classifier\\.venv\\lib\\site-packages\\sklearn\\utils\\_response.py:203: UserWarning: The number of unique classes is greater than 50% of the number of samples.\n",
      "  target_type = type_of_target(classes)\n",
      "c:\\Users\\guilh\\Code\\ControleFinanceiro\\mvp-classifier\\.venv\\lib\\site-packages\\sklearn\\metrics\\_classification.py:1706: UndefinedMetricWarning: Precision is ill-defined and being set to 0.0 in labels with no predicted samples. Use `zero_division` parameter to control this behavior.\n",
      "  _warn_prf(average, modifier, f\"{metric.capitalize()} is\", result.shape[0])\n",
      "c:\\Users\\guilh\\Code\\ControleFinanceiro\\mvp-classifier\\.venv\\lib\\site-packages\\sklearn\\utils\\_response.py:203: UserWarning: The number of unique classes is greater than 50% of the number of samples.\n",
      "  target_type = type_of_target(classes)\n"
     ]
    },
    {
     "name": "stdout",
     "output_type": "stream",
     "text": [
      "          Data\n",
      "607 2023-09-23\n",
      "176 2023-03-18\n",
      "396 2023-06-30\n",
      "722 2023-11-11\n",
      "193 2023-03-31\n",
      "          Data\n",
      "818 2023-12-14\n",
      "196 2023-03-14\n",
      "669 2023-10-23\n",
      "382 2023-06-30\n",
      "753 2023-11-27\n"
     ]
    },
    {
     "name": "stderr",
     "output_type": "stream",
     "text": [
      "c:\\Users\\guilh\\Code\\ControleFinanceiro\\mvp-classifier\\.venv\\lib\\site-packages\\sklearn\\metrics\\_classification.py:1706: UndefinedMetricWarning: Precision is ill-defined and being set to 0.0 in labels with no predicted samples. Use `zero_division` parameter to control this behavior.\n",
      "  _warn_prf(average, modifier, f\"{metric.capitalize()} is\", result.shape[0])\n",
      "c:\\Users\\guilh\\Code\\ControleFinanceiro\\mvp-classifier\\.venv\\lib\\site-packages\\sklearn\\utils\\_response.py:203: UserWarning: The number of unique classes is greater than 50% of the number of samples.\n",
      "  target_type = type_of_target(classes)\n",
      "c:\\Users\\guilh\\Code\\ControleFinanceiro\\mvp-classifier\\.venv\\lib\\site-packages\\sklearn\\metrics\\_classification.py:1706: UndefinedMetricWarning: Precision is ill-defined and being set to 0.0 in labels with no predicted samples. Use `zero_division` parameter to control this behavior.\n",
      "  _warn_prf(average, modifier, f\"{metric.capitalize()} is\", result.shape[0])\n",
      "c:\\Users\\guilh\\Code\\ControleFinanceiro\\mvp-classifier\\.venv\\lib\\site-packages\\sklearn\\utils\\_response.py:203: UserWarning: The number of unique classes is greater than 50% of the number of samples.\n",
      "  target_type = type_of_target(classes)\n"
     ]
    },
    {
     "name": "stdout",
     "output_type": "stream",
     "text": [
      "          Data\n",
      "549 2023-07-29\n",
      "752 2023-11-24\n",
      "484 2023-08-03\n",
      "750 2023-11-24\n",
      "369 2023-06-20\n",
      "Evaluating model: Multinomial Naive Bayes-with description token\n",
      "          Data\n",
      "126 2023-02-22\n",
      "748 2023-11-23\n",
      "613 2023-09-28\n",
      "297 2023-05-24\n",
      "575 2023-09-07\n"
     ]
    },
    {
     "name": "stderr",
     "output_type": "stream",
     "text": [
      "c:\\Users\\guilh\\Code\\ControleFinanceiro\\mvp-classifier\\.venv\\lib\\site-packages\\sklearn\\metrics\\_classification.py:1706: UndefinedMetricWarning: Precision is ill-defined and being set to 0.0 in labels with no predicted samples. Use `zero_division` parameter to control this behavior.\n",
      "  _warn_prf(average, modifier, f\"{metric.capitalize()} is\", result.shape[0])\n",
      "Map: 100%|██████████| 480/480 [00:00<00:00, 7004.27 examples/s]\n",
      "Map: 100%|██████████| 480/480 [00:15<00:00, 31.29 examples/s]\n"
     ]
    },
    {
     "name": "stdout",
     "output_type": "stream",
     "text": [
      "          Data\n",
      "38  2023-01-18\n",
      "749 2023-11-24\n",
      "91  2023-02-02\n",
      "557 2023-08-28\n",
      "152 2023-03-02\n"
     ]
    },
    {
     "name": "stderr",
     "output_type": "stream",
     "text": [
      "Map: 100%|██████████| 480/480 [00:00<00:00, 6830.30 examples/s]\n",
      "Map: 100%|██████████| 480/480 [00:19<00:00, 25.25 examples/s]\n"
     ]
    },
    {
     "name": "stdout",
     "output_type": "stream",
     "text": [
      "          Data\n",
      "38  2023-01-18\n",
      "749 2023-11-24\n",
      "91  2023-02-02\n",
      "557 2023-08-28\n",
      "152 2023-03-02\n"
     ]
    },
    {
     "name": "stderr",
     "output_type": "stream",
     "text": [
      "Map: 100%|██████████| 480/480 [00:00<00:00, 3762.02 examples/s]\n",
      "Map: 100%|██████████| 480/480 [00:19<00:00, 24.69 examples/s]\n"
     ]
    },
    {
     "name": "stdout",
     "output_type": "stream",
     "text": [
      "          Data\n",
      "38  2023-01-18\n",
      "749 2023-11-24\n",
      "91  2023-02-02\n",
      "557 2023-08-28\n",
      "152 2023-03-02\n"
     ]
    },
    {
     "name": "stderr",
     "output_type": "stream",
     "text": [
      "Map: 100%|██████████| 480/480 [00:00<00:00, 7810.62 examples/s]\n",
      "Map: 100%|██████████| 480/480 [00:15<00:00, 31.64 examples/s]\n"
     ]
    },
    {
     "name": "stdout",
     "output_type": "stream",
     "text": [
      "          Data\n",
      "38  2023-01-18\n",
      "749 2023-11-24\n",
      "91  2023-02-02\n",
      "557 2023-08-28\n",
      "152 2023-03-02\n"
     ]
    },
    {
     "name": "stderr",
     "output_type": "stream",
     "text": [
      "Map: 100%|██████████| 480/480 [00:00<00:00, 7838.81 examples/s]\n",
      "Map: 100%|██████████| 480/480 [00:18<00:00, 26.36 examples/s]\n"
     ]
    },
    {
     "name": "stdout",
     "output_type": "stream",
     "text": [
      "Error in model: Multinomial Naive Bayes-with description token: \n",
      "All the 5 fits failed.\n",
      "It is very likely that your model is misconfigured.\n",
      "You can try to debug the error by setting error_score='raise'.\n",
      "\n",
      "Below are more details about the failures:\n",
      "--------------------------------------------------------------------------------\n",
      "5 fits failed with the following error:\n",
      "Traceback (most recent call last):\n",
      "  File \"c:\\Users\\guilh\\Code\\ControleFinanceiro\\mvp-classifier\\.venv\\lib\\site-packages\\sklearn\\model_selection\\_validation.py\", line 859, in _fit_and_score\n",
      "    estimator.fit(X_train, y_train, **fit_params)\n",
      "  File \"c:\\Users\\guilh\\Code\\ControleFinanceiro\\mvp-classifier\\.venv\\lib\\site-packages\\sklearn\\base.py\", line 1363, in wrapper\n",
      "    return fit_method(estimator, *args, **kwargs)\n",
      "  File \"c:\\Users\\guilh\\Code\\ControleFinanceiro\\mvp-classifier\\.venv\\lib\\site-packages\\sklearn\\pipeline.py\", line 661, in fit\n",
      "    self._final_estimator.fit(Xt, y, **last_step_params[\"fit\"])\n",
      "  File \"c:\\Users\\guilh\\Code\\ControleFinanceiro\\mvp-classifier\\.venv\\lib\\site-packages\\sklearn\\base.py\", line 1363, in wrapper\n",
      "    return fit_method(estimator, *args, **kwargs)\n",
      "  File \"c:\\Users\\guilh\\Code\\ControleFinanceiro\\mvp-classifier\\.venv\\lib\\site-packages\\sklearn\\pipeline.py\", line 652, in fit\n",
      "    routed_params = self._check_method_params(method=\"fit\", props=params)\n",
      "  File \"c:\\Users\\guilh\\Code\\ControleFinanceiro\\mvp-classifier\\.venv\\lib\\site-packages\\sklearn\\pipeline.py\", line 450, in _check_method_params\n",
      "    **{\n",
      "  File \"c:\\Users\\guilh\\Code\\ControleFinanceiro\\mvp-classifier\\.venv\\lib\\site-packages\\sklearn\\pipeline.py\", line 450, in <dictcomp>\n",
      "    **{\n",
      "TypeError: cannot unpack non-iterable Normalizer object\n",
      "\n",
      "Evaluating model: Multinomial Naive Bayes-without description token\n",
      "          Data\n",
      "126 2023-02-22\n",
      "748 2023-11-23\n",
      "613 2023-09-28\n",
      "297 2023-05-24\n",
      "575 2023-09-07\n",
      "          Data\n",
      "38  2023-01-18\n",
      "749 2023-11-24\n",
      "91  2023-02-02\n",
      "557 2023-08-28\n",
      "152 2023-03-02\n",
      "          Data\n",
      "38  2023-01-18\n",
      "749 2023-11-24\n",
      "91  2023-02-02\n",
      "557 2023-08-28\n",
      "152 2023-03-02\n",
      "          Data\n",
      "38  2023-01-18\n",
      "749 2023-11-24\n",
      "91  2023-02-02\n",
      "557 2023-08-28\n",
      "152 2023-03-02\n",
      "          Data\n",
      "38  2023-01-18\n",
      "749 2023-11-24\n",
      "91  2023-02-02\n",
      "557 2023-08-28\n",
      "152 2023-03-02\n",
      "Error in model: Multinomial Naive Bayes-without description token: \n",
      "All the 5 fits failed.\n",
      "It is very likely that your model is misconfigured.\n",
      "You can try to debug the error by setting error_score='raise'.\n",
      "\n",
      "Below are more details about the failures:\n",
      "--------------------------------------------------------------------------------\n",
      "5 fits failed with the following error:\n",
      "Traceback (most recent call last):\n",
      "  File \"c:\\Users\\guilh\\Code\\ControleFinanceiro\\mvp-classifier\\.venv\\lib\\site-packages\\sklearn\\model_selection\\_validation.py\", line 859, in _fit_and_score\n",
      "    estimator.fit(X_train, y_train, **fit_params)\n",
      "  File \"c:\\Users\\guilh\\Code\\ControleFinanceiro\\mvp-classifier\\.venv\\lib\\site-packages\\sklearn\\base.py\", line 1363, in wrapper\n",
      "    return fit_method(estimator, *args, **kwargs)\n",
      "  File \"c:\\Users\\guilh\\Code\\ControleFinanceiro\\mvp-classifier\\.venv\\lib\\site-packages\\sklearn\\pipeline.py\", line 661, in fit\n",
      "    self._final_estimator.fit(Xt, y, **last_step_params[\"fit\"])\n",
      "  File \"c:\\Users\\guilh\\Code\\ControleFinanceiro\\mvp-classifier\\.venv\\lib\\site-packages\\sklearn\\base.py\", line 1363, in wrapper\n",
      "    return fit_method(estimator, *args, **kwargs)\n",
      "  File \"c:\\Users\\guilh\\Code\\ControleFinanceiro\\mvp-classifier\\.venv\\lib\\site-packages\\sklearn\\pipeline.py\", line 652, in fit\n",
      "    routed_params = self._check_method_params(method=\"fit\", props=params)\n",
      "  File \"c:\\Users\\guilh\\Code\\ControleFinanceiro\\mvp-classifier\\.venv\\lib\\site-packages\\sklearn\\pipeline.py\", line 450, in _check_method_params\n",
      "    **{\n",
      "  File \"c:\\Users\\guilh\\Code\\ControleFinanceiro\\mvp-classifier\\.venv\\lib\\site-packages\\sklearn\\pipeline.py\", line 450, in <dictcomp>\n",
      "    **{\n",
      "TypeError: cannot unpack non-iterable Normalizer object\n",
      "\n",
      "Evaluating model: Gaussian Naive Bayes-with description token\n",
      "Error in model: Gaussian Naive Bayes-with description token: \n",
      "All the 5 fits failed.\n",
      "It is very likely that your model is misconfigured.\n",
      "You can try to debug the error by setting error_score='raise'.\n",
      "\n",
      "Below are more details about the failures:\n",
      "--------------------------------------------------------------------------------\n",
      "5 fits failed with the following error:\n",
      "Traceback (most recent call last):\n",
      "  File \"c:\\Users\\guilh\\Code\\ControleFinanceiro\\mvp-classifier\\.venv\\lib\\site-packages\\sklearn\\model_selection\\_validation.py\", line 859, in _fit_and_score\n",
      "    estimator.fit(X_train, y_train, **fit_params)\n",
      "  File \"c:\\Users\\guilh\\Code\\ControleFinanceiro\\mvp-classifier\\.venv\\lib\\site-packages\\sklearn\\base.py\", line 1363, in wrapper\n",
      "    return fit_method(estimator, *args, **kwargs)\n",
      "  File \"c:\\Users\\guilh\\Code\\ControleFinanceiro\\mvp-classifier\\.venv\\lib\\site-packages\\sklearn\\pipeline.py\", line 661, in fit\n",
      "    self._final_estimator.fit(Xt, y, **last_step_params[\"fit\"])\n",
      "  File \"c:\\Users\\guilh\\Code\\ControleFinanceiro\\mvp-classifier\\.venv\\lib\\site-packages\\sklearn\\base.py\", line 1363, in wrapper\n",
      "    return fit_method(estimator, *args, **kwargs)\n",
      "  File \"c:\\Users\\guilh\\Code\\ControleFinanceiro\\mvp-classifier\\.venv\\lib\\site-packages\\sklearn\\pipeline.py\", line 652, in fit\n",
      "    routed_params = self._check_method_params(method=\"fit\", props=params)\n",
      "  File \"c:\\Users\\guilh\\Code\\ControleFinanceiro\\mvp-classifier\\.venv\\lib\\site-packages\\sklearn\\pipeline.py\", line 450, in _check_method_params\n",
      "    **{\n",
      "  File \"c:\\Users\\guilh\\Code\\ControleFinanceiro\\mvp-classifier\\.venv\\lib\\site-packages\\sklearn\\pipeline.py\", line 450, in <dictcomp>\n",
      "    **{\n",
      "TypeError: cannot unpack non-iterable Normalizer object\n",
      "\n",
      "Evaluating model: Gaussian Naive Bayes-without description token\n",
      "Error in model: Gaussian Naive Bayes-without description token: \n",
      "All the 5 fits failed.\n",
      "It is very likely that your model is misconfigured.\n",
      "You can try to debug the error by setting error_score='raise'.\n",
      "\n",
      "Below are more details about the failures:\n",
      "--------------------------------------------------------------------------------\n",
      "5 fits failed with the following error:\n",
      "Traceback (most recent call last):\n",
      "  File \"c:\\Users\\guilh\\Code\\ControleFinanceiro\\mvp-classifier\\.venv\\lib\\site-packages\\sklearn\\model_selection\\_validation.py\", line 859, in _fit_and_score\n",
      "    estimator.fit(X_train, y_train, **fit_params)\n",
      "  File \"c:\\Users\\guilh\\Code\\ControleFinanceiro\\mvp-classifier\\.venv\\lib\\site-packages\\sklearn\\base.py\", line 1363, in wrapper\n",
      "    return fit_method(estimator, *args, **kwargs)\n",
      "  File \"c:\\Users\\guilh\\Code\\ControleFinanceiro\\mvp-classifier\\.venv\\lib\\site-packages\\sklearn\\pipeline.py\", line 661, in fit\n",
      "    self._final_estimator.fit(Xt, y, **last_step_params[\"fit\"])\n",
      "  File \"c:\\Users\\guilh\\Code\\ControleFinanceiro\\mvp-classifier\\.venv\\lib\\site-packages\\sklearn\\base.py\", line 1363, in wrapper\n",
      "    return fit_method(estimator, *args, **kwargs)\n",
      "  File \"c:\\Users\\guilh\\Code\\ControleFinanceiro\\mvp-classifier\\.venv\\lib\\site-packages\\sklearn\\pipeline.py\", line 652, in fit\n",
      "    routed_params = self._check_method_params(method=\"fit\", props=params)\n",
      "  File \"c:\\Users\\guilh\\Code\\ControleFinanceiro\\mvp-classifier\\.venv\\lib\\site-packages\\sklearn\\pipeline.py\", line 450, in _check_method_params\n",
      "    **{\n",
      "  File \"c:\\Users\\guilh\\Code\\ControleFinanceiro\\mvp-classifier\\.venv\\lib\\site-packages\\sklearn\\pipeline.py\", line 450, in <dictcomp>\n",
      "    **{\n",
      "TypeError: cannot unpack non-iterable Normalizer object\n",
      "\n",
      "Evaluating model: Support Vector Machine Classifier-with description token\n"
     ]
    },
    {
     "name": "stderr",
     "output_type": "stream",
     "text": [
      "c:\\Users\\guilh\\Code\\ControleFinanceiro\\mvp-classifier\\.venv\\lib\\site-packages\\sklearn\\svm\\_base.py:1250: ConvergenceWarning: Liblinear failed to converge, increase the number of iterations.\n",
      "  warnings.warn(\n",
      "c:\\Users\\guilh\\Code\\ControleFinanceiro\\mvp-classifier\\.venv\\lib\\site-packages\\sklearn\\utils\\_response.py:203: UserWarning: The number of unique classes is greater than 50% of the number of samples.\n",
      "  target_type = type_of_target(classes)\n"
     ]
    },
    {
     "name": "stdout",
     "output_type": "stream",
     "text": [
      "          Data\n",
      "38  2023-01-18\n",
      "749 2023-11-24\n",
      "91  2023-02-02\n",
      "557 2023-08-28\n",
      "152 2023-03-02\n"
     ]
    },
    {
     "name": "stderr",
     "output_type": "stream",
     "text": [
      "Map: 100%|██████████| 120/120 [00:00<00:00, 3169.74 examples/s]\n",
      "Map: 100%|██████████| 120/120 [00:06<00:00, 18.44 examples/s]\n",
      "c:\\Users\\guilh\\Code\\ControleFinanceiro\\mvp-classifier\\.venv\\lib\\site-packages\\sklearn\\metrics\\_classification.py:1706: UndefinedMetricWarning: Precision is ill-defined and being set to 0.0 in labels with no predicted samples. Use `zero_division` parameter to control this behavior.\n",
      "  _warn_prf(average, modifier, f\"{metric.capitalize()} is\", result.shape[0])\n",
      "c:\\Users\\guilh\\Code\\ControleFinanceiro\\mvp-classifier\\.venv\\lib\\site-packages\\sklearn\\svm\\_base.py:1250: ConvergenceWarning: Liblinear failed to converge, increase the number of iterations.\n",
      "  warnings.warn(\n",
      "c:\\Users\\guilh\\Code\\ControleFinanceiro\\mvp-classifier\\.venv\\lib\\site-packages\\sklearn\\utils\\_response.py:203: UserWarning: The number of unique classes is greater than 50% of the number of samples.\n",
      "  target_type = type_of_target(classes)\n"
     ]
    },
    {
     "name": "stdout",
     "output_type": "stream",
     "text": [
      "          Data\n",
      "83  2023-01-29\n",
      "72  2023-01-21\n",
      "277 2023-05-07\n",
      "57  2023-02-03\n",
      "539 2023-08-25\n"
     ]
    },
    {
     "name": "stderr",
     "output_type": "stream",
     "text": [
      "Map: 100%|██████████| 120/120 [00:00<00:00, 5770.13 examples/s]\n",
      "Map: 100%|██████████| 120/120 [00:03<00:00, 35.14 examples/s]\n",
      "c:\\Users\\guilh\\Code\\ControleFinanceiro\\mvp-classifier\\.venv\\lib\\site-packages\\sklearn\\metrics\\_classification.py:1706: UndefinedMetricWarning: Precision is ill-defined and being set to 0.0 in labels with no predicted samples. Use `zero_division` parameter to control this behavior.\n",
      "  _warn_prf(average, modifier, f\"{metric.capitalize()} is\", result.shape[0])\n",
      "c:\\Users\\guilh\\Code\\ControleFinanceiro\\mvp-classifier\\.venv\\lib\\site-packages\\sklearn\\svm\\_base.py:1250: ConvergenceWarning: Liblinear failed to converge, increase the number of iterations.\n",
      "  warnings.warn(\n",
      "c:\\Users\\guilh\\Code\\ControleFinanceiro\\mvp-classifier\\.venv\\lib\\site-packages\\sklearn\\utils\\_response.py:203: UserWarning: The number of unique classes is greater than 50% of the number of samples.\n",
      "  target_type = type_of_target(classes)\n"
     ]
    },
    {
     "name": "stdout",
     "output_type": "stream",
     "text": [
      "          Data\n",
      "607 2023-09-23\n",
      "176 2023-03-18\n",
      "396 2023-06-30\n",
      "722 2023-11-11\n",
      "193 2023-03-31\n"
     ]
    },
    {
     "name": "stderr",
     "output_type": "stream",
     "text": [
      "Map: 100%|██████████| 120/120 [00:00<00:00, 4332.32 examples/s]\n",
      "Map: 100%|██████████| 120/120 [00:02<00:00, 43.72 examples/s]\n",
      "c:\\Users\\guilh\\Code\\ControleFinanceiro\\mvp-classifier\\.venv\\lib\\site-packages\\sklearn\\metrics\\_classification.py:1706: UndefinedMetricWarning: Precision is ill-defined and being set to 0.0 in labels with no predicted samples. Use `zero_division` parameter to control this behavior.\n",
      "  _warn_prf(average, modifier, f\"{metric.capitalize()} is\", result.shape[0])\n",
      "c:\\Users\\guilh\\Code\\ControleFinanceiro\\mvp-classifier\\.venv\\lib\\site-packages\\sklearn\\svm\\_base.py:1250: ConvergenceWarning: Liblinear failed to converge, increase the number of iterations.\n",
      "  warnings.warn(\n",
      "c:\\Users\\guilh\\Code\\ControleFinanceiro\\mvp-classifier\\.venv\\lib\\site-packages\\sklearn\\utils\\_response.py:203: UserWarning: The number of unique classes is greater than 50% of the number of samples.\n",
      "  target_type = type_of_target(classes)\n"
     ]
    },
    {
     "name": "stdout",
     "output_type": "stream",
     "text": [
      "          Data\n",
      "818 2023-12-14\n",
      "196 2023-03-14\n",
      "669 2023-10-23\n",
      "382 2023-06-30\n",
      "753 2023-11-27\n"
     ]
    },
    {
     "name": "stderr",
     "output_type": "stream",
     "text": [
      "Map: 100%|██████████| 120/120 [00:00<00:00, 4488.73 examples/s]\n",
      "Map: 100%|██████████| 120/120 [00:08<00:00, 14.59 examples/s]\n",
      "c:\\Users\\guilh\\Code\\ControleFinanceiro\\mvp-classifier\\.venv\\lib\\site-packages\\sklearn\\metrics\\_classification.py:1706: UndefinedMetricWarning: Precision is ill-defined and being set to 0.0 in labels with no predicted samples. Use `zero_division` parameter to control this behavior.\n",
      "  _warn_prf(average, modifier, f\"{metric.capitalize()} is\", result.shape[0])\n",
      "c:\\Users\\guilh\\Code\\ControleFinanceiro\\mvp-classifier\\.venv\\lib\\site-packages\\sklearn\\svm\\_base.py:1250: ConvergenceWarning: Liblinear failed to converge, increase the number of iterations.\n",
      "  warnings.warn(\n",
      "c:\\Users\\guilh\\Code\\ControleFinanceiro\\mvp-classifier\\.venv\\lib\\site-packages\\sklearn\\utils\\_response.py:203: UserWarning: The number of unique classes is greater than 50% of the number of samples.\n",
      "  target_type = type_of_target(classes)\n"
     ]
    },
    {
     "name": "stdout",
     "output_type": "stream",
     "text": [
      "          Data\n",
      "549 2023-07-29\n",
      "752 2023-11-24\n",
      "484 2023-08-03\n",
      "750 2023-11-24\n",
      "369 2023-06-20\n"
     ]
    },
    {
     "name": "stderr",
     "output_type": "stream",
     "text": [
      "Map: 100%|██████████| 120/120 [00:00<00:00, 5428.41 examples/s]\n",
      "Map: 100%|██████████| 120/120 [00:03<00:00, 37.55 examples/s]\n",
      "c:\\Users\\guilh\\Code\\ControleFinanceiro\\mvp-classifier\\.venv\\lib\\site-packages\\sklearn\\metrics\\_classification.py:1706: UndefinedMetricWarning: Precision is ill-defined and being set to 0.0 in labels with no predicted samples. Use `zero_division` parameter to control this behavior.\n",
      "  _warn_prf(average, modifier, f\"{metric.capitalize()} is\", result.shape[0])\n",
      "c:\\Users\\guilh\\Code\\ControleFinanceiro\\mvp-classifier\\.venv\\lib\\site-packages\\sklearn\\utils\\_response.py:203: UserWarning: The number of unique classes is greater than 50% of the number of samples.\n",
      "  target_type = type_of_target(classes)\n"
     ]
    },
    {
     "name": "stdout",
     "output_type": "stream",
     "text": [
      "Evaluating model: Support Vector Machine Classifier-without description token\n",
      "          Data\n",
      "38  2023-01-18\n",
      "749 2023-11-24\n",
      "91  2023-02-02\n",
      "557 2023-08-28\n",
      "152 2023-03-02\n",
      "          Data\n",
      "83  2023-01-29\n",
      "72  2023-01-21\n",
      "277 2023-05-07\n",
      "57  2023-02-03\n",
      "539 2023-08-25\n"
     ]
    },
    {
     "name": "stderr",
     "output_type": "stream",
     "text": [
      "c:\\Users\\guilh\\Code\\ControleFinanceiro\\mvp-classifier\\.venv\\lib\\site-packages\\sklearn\\metrics\\_classification.py:1706: UndefinedMetricWarning: Precision is ill-defined and being set to 0.0 in labels with no predicted samples. Use `zero_division` parameter to control this behavior.\n",
      "  _warn_prf(average, modifier, f\"{metric.capitalize()} is\", result.shape[0])\n",
      "c:\\Users\\guilh\\Code\\ControleFinanceiro\\mvp-classifier\\.venv\\lib\\site-packages\\sklearn\\utils\\_response.py:203: UserWarning: The number of unique classes is greater than 50% of the number of samples.\n",
      "  target_type = type_of_target(classes)\n",
      "c:\\Users\\guilh\\Code\\ControleFinanceiro\\mvp-classifier\\.venv\\lib\\site-packages\\sklearn\\metrics\\_classification.py:1706: UndefinedMetricWarning: Precision is ill-defined and being set to 0.0 in labels with no predicted samples. Use `zero_division` parameter to control this behavior.\n",
      "  _warn_prf(average, modifier, f\"{metric.capitalize()} is\", result.shape[0])\n",
      "c:\\Users\\guilh\\Code\\ControleFinanceiro\\mvp-classifier\\.venv\\lib\\site-packages\\sklearn\\utils\\_response.py:203: UserWarning: The number of unique classes is greater than 50% of the number of samples.\n",
      "  target_type = type_of_target(classes)\n",
      "c:\\Users\\guilh\\Code\\ControleFinanceiro\\mvp-classifier\\.venv\\lib\\site-packages\\sklearn\\metrics\\_classification.py:1706: UndefinedMetricWarning: Precision is ill-defined and being set to 0.0 in labels with no predicted samples. Use `zero_division` parameter to control this behavior.\n",
      "  _warn_prf(average, modifier, f\"{metric.capitalize()} is\", result.shape[0])\n",
      "c:\\Users\\guilh\\Code\\ControleFinanceiro\\mvp-classifier\\.venv\\lib\\site-packages\\sklearn\\utils\\_response.py:203: UserWarning: The number of unique classes is greater than 50% of the number of samples.\n",
      "  target_type = type_of_target(classes)\n",
      "c:\\Users\\guilh\\Code\\ControleFinanceiro\\mvp-classifier\\.venv\\lib\\site-packages\\sklearn\\metrics\\_classification.py:1706: UndefinedMetricWarning: Precision is ill-defined and being set to 0.0 in labels with no predicted samples. Use `zero_division` parameter to control this behavior.\n",
      "  _warn_prf(average, modifier, f\"{metric.capitalize()} is\", result.shape[0])\n"
     ]
    },
    {
     "name": "stdout",
     "output_type": "stream",
     "text": [
      "          Data\n",
      "607 2023-09-23\n",
      "176 2023-03-18\n",
      "396 2023-06-30\n",
      "722 2023-11-11\n",
      "193 2023-03-31\n",
      "          Data\n",
      "818 2023-12-14\n",
      "196 2023-03-14\n",
      "669 2023-10-23\n",
      "382 2023-06-30\n",
      "753 2023-11-27\n"
     ]
    },
    {
     "name": "stderr",
     "output_type": "stream",
     "text": [
      "c:\\Users\\guilh\\Code\\ControleFinanceiro\\mvp-classifier\\.venv\\lib\\site-packages\\sklearn\\utils\\_response.py:203: UserWarning: The number of unique classes is greater than 50% of the number of samples.\n",
      "  target_type = type_of_target(classes)\n",
      "c:\\Users\\guilh\\Code\\ControleFinanceiro\\mvp-classifier\\.venv\\lib\\site-packages\\sklearn\\metrics\\_classification.py:1706: UndefinedMetricWarning: Precision is ill-defined and being set to 0.0 in labels with no predicted samples. Use `zero_division` parameter to control this behavior.\n",
      "  _warn_prf(average, modifier, f\"{metric.capitalize()} is\", result.shape[0])\n",
      "c:\\Users\\guilh\\Code\\ControleFinanceiro\\mvp-classifier\\.venv\\lib\\site-packages\\sklearn\\utils\\_response.py:203: UserWarning: The number of unique classes is greater than 50% of the number of samples.\n",
      "  target_type = type_of_target(classes)\n"
     ]
    },
    {
     "name": "stdout",
     "output_type": "stream",
     "text": [
      "          Data\n",
      "549 2023-07-29\n",
      "752 2023-11-24\n",
      "484 2023-08-03\n",
      "750 2023-11-24\n",
      "369 2023-06-20\n",
      "Evaluating model: KNN-with description token\n",
      "          Data\n",
      "38  2023-01-18\n",
      "749 2023-11-24\n",
      "91  2023-02-02\n",
      "557 2023-08-28\n",
      "152 2023-03-02\n"
     ]
    },
    {
     "name": "stderr",
     "output_type": "stream",
     "text": [
      "Map: 100%|██████████| 120/120 [00:00<00:00, 5157.14 examples/s]\n",
      "Map: 100%|██████████| 120/120 [00:06<00:00, 18.10 examples/s]\n",
      "c:\\Users\\guilh\\Code\\ControleFinanceiro\\mvp-classifier\\.venv\\lib\\site-packages\\sklearn\\metrics\\_classification.py:1706: UndefinedMetricWarning: Precision is ill-defined and being set to 0.0 in labels with no predicted samples. Use `zero_division` parameter to control this behavior.\n",
      "  _warn_prf(average, modifier, f\"{metric.capitalize()} is\", result.shape[0])\n",
      "c:\\Users\\guilh\\Code\\ControleFinanceiro\\mvp-classifier\\.venv\\lib\\site-packages\\sklearn\\utils\\_response.py:203: UserWarning: The number of unique classes is greater than 50% of the number of samples.\n",
      "  target_type = type_of_target(classes)\n"
     ]
    },
    {
     "name": "stdout",
     "output_type": "stream",
     "text": [
      "          Data\n",
      "83  2023-01-29\n",
      "72  2023-01-21\n",
      "277 2023-05-07\n",
      "57  2023-02-03\n",
      "539 2023-08-25\n"
     ]
    },
    {
     "name": "stderr",
     "output_type": "stream",
     "text": [
      "Map: 100%|██████████| 120/120 [00:00<00:00, 4892.12 examples/s]\n",
      "Map: 100%|██████████| 120/120 [00:03<00:00, 38.41 examples/s]\n",
      "c:\\Users\\guilh\\Code\\ControleFinanceiro\\mvp-classifier\\.venv\\lib\\site-packages\\sklearn\\metrics\\_classification.py:1706: UndefinedMetricWarning: Precision is ill-defined and being set to 0.0 in labels with no predicted samples. Use `zero_division` parameter to control this behavior.\n",
      "  _warn_prf(average, modifier, f\"{metric.capitalize()} is\", result.shape[0])\n",
      "c:\\Users\\guilh\\Code\\ControleFinanceiro\\mvp-classifier\\.venv\\lib\\site-packages\\sklearn\\utils\\_response.py:203: UserWarning: The number of unique classes is greater than 50% of the number of samples.\n",
      "  target_type = type_of_target(classes)\n"
     ]
    },
    {
     "name": "stdout",
     "output_type": "stream",
     "text": [
      "          Data\n",
      "607 2023-09-23\n",
      "176 2023-03-18\n",
      "396 2023-06-30\n",
      "722 2023-11-11\n",
      "193 2023-03-31\n"
     ]
    },
    {
     "name": "stderr",
     "output_type": "stream",
     "text": [
      "Map: 100%|██████████| 120/120 [00:00<00:00, 4365.73 examples/s]\n",
      "Map: 100%|██████████| 120/120 [00:02<00:00, 47.87 examples/s]\n",
      "c:\\Users\\guilh\\Code\\ControleFinanceiro\\mvp-classifier\\.venv\\lib\\site-packages\\sklearn\\metrics\\_classification.py:1706: UndefinedMetricWarning: Precision is ill-defined and being set to 0.0 in labels with no predicted samples. Use `zero_division` parameter to control this behavior.\n",
      "  _warn_prf(average, modifier, f\"{metric.capitalize()} is\", result.shape[0])\n",
      "c:\\Users\\guilh\\Code\\ControleFinanceiro\\mvp-classifier\\.venv\\lib\\site-packages\\sklearn\\utils\\_response.py:203: UserWarning: The number of unique classes is greater than 50% of the number of samples.\n",
      "  target_type = type_of_target(classes)\n"
     ]
    },
    {
     "name": "stdout",
     "output_type": "stream",
     "text": [
      "          Data\n",
      "818 2023-12-14\n",
      "196 2023-03-14\n",
      "669 2023-10-23\n",
      "382 2023-06-30\n",
      "753 2023-11-27\n"
     ]
    },
    {
     "name": "stderr",
     "output_type": "stream",
     "text": [
      "Map: 100%|██████████| 120/120 [00:00<00:00, 4004.01 examples/s]\n",
      "Map: 100%|██████████| 120/120 [00:06<00:00, 18.56 examples/s]\n",
      "c:\\Users\\guilh\\Code\\ControleFinanceiro\\mvp-classifier\\.venv\\lib\\site-packages\\sklearn\\metrics\\_classification.py:1706: UndefinedMetricWarning: Precision is ill-defined and being set to 0.0 in labels with no predicted samples. Use `zero_division` parameter to control this behavior.\n",
      "  _warn_prf(average, modifier, f\"{metric.capitalize()} is\", result.shape[0])\n",
      "c:\\Users\\guilh\\Code\\ControleFinanceiro\\mvp-classifier\\.venv\\lib\\site-packages\\sklearn\\utils\\_response.py:203: UserWarning: The number of unique classes is greater than 50% of the number of samples.\n",
      "  target_type = type_of_target(classes)\n"
     ]
    },
    {
     "name": "stdout",
     "output_type": "stream",
     "text": [
      "          Data\n",
      "549 2023-07-29\n",
      "752 2023-11-24\n",
      "484 2023-08-03\n",
      "750 2023-11-24\n",
      "369 2023-06-20\n"
     ]
    },
    {
     "name": "stderr",
     "output_type": "stream",
     "text": [
      "Map: 100%|██████████| 120/120 [00:00<00:00, 4332.21 examples/s]\n",
      "Map: 100%|██████████| 120/120 [00:03<00:00, 37.21 examples/s]\n",
      "c:\\Users\\guilh\\Code\\ControleFinanceiro\\mvp-classifier\\.venv\\lib\\site-packages\\sklearn\\metrics\\_classification.py:1706: UndefinedMetricWarning: Precision is ill-defined and being set to 0.0 in labels with no predicted samples. Use `zero_division` parameter to control this behavior.\n",
      "  _warn_prf(average, modifier, f\"{metric.capitalize()} is\", result.shape[0])\n"
     ]
    },
    {
     "name": "stdout",
     "output_type": "stream",
     "text": [
      "Evaluating model: KNN-without description token\n",
      "          Data\n",
      "38  2023-01-18\n",
      "749 2023-11-24\n",
      "91  2023-02-02\n",
      "557 2023-08-28\n",
      "152 2023-03-02\n",
      "          Data\n",
      "83  2023-01-29\n",
      "72  2023-01-21\n",
      "277 2023-05-07\n",
      "57  2023-02-03\n",
      "539 2023-08-25\n"
     ]
    },
    {
     "name": "stderr",
     "output_type": "stream",
     "text": [
      "c:\\Users\\guilh\\Code\\ControleFinanceiro\\mvp-classifier\\.venv\\lib\\site-packages\\sklearn\\utils\\_response.py:203: UserWarning: The number of unique classes is greater than 50% of the number of samples.\n",
      "  target_type = type_of_target(classes)\n",
      "c:\\Users\\guilh\\Code\\ControleFinanceiro\\mvp-classifier\\.venv\\lib\\site-packages\\sklearn\\metrics\\_classification.py:1706: UndefinedMetricWarning: Precision is ill-defined and being set to 0.0 in labels with no predicted samples. Use `zero_division` parameter to control this behavior.\n",
      "  _warn_prf(average, modifier, f\"{metric.capitalize()} is\", result.shape[0])\n",
      "c:\\Users\\guilh\\Code\\ControleFinanceiro\\mvp-classifier\\.venv\\lib\\site-packages\\sklearn\\utils\\_response.py:203: UserWarning: The number of unique classes is greater than 50% of the number of samples.\n",
      "  target_type = type_of_target(classes)\n",
      "c:\\Users\\guilh\\Code\\ControleFinanceiro\\mvp-classifier\\.venv\\lib\\site-packages\\sklearn\\metrics\\_classification.py:1706: UndefinedMetricWarning: Precision is ill-defined and being set to 0.0 in labels with no predicted samples. Use `zero_division` parameter to control this behavior.\n",
      "  _warn_prf(average, modifier, f\"{metric.capitalize()} is\", result.shape[0])\n",
      "c:\\Users\\guilh\\Code\\ControleFinanceiro\\mvp-classifier\\.venv\\lib\\site-packages\\sklearn\\utils\\_response.py:203: UserWarning: The number of unique classes is greater than 50% of the number of samples.\n",
      "  target_type = type_of_target(classes)\n"
     ]
    },
    {
     "name": "stdout",
     "output_type": "stream",
     "text": [
      "          Data\n",
      "607 2023-09-23\n",
      "176 2023-03-18\n",
      "396 2023-06-30\n",
      "722 2023-11-11\n",
      "193 2023-03-31\n",
      "          Data\n",
      "818 2023-12-14\n",
      "196 2023-03-14\n",
      "669 2023-10-23\n",
      "382 2023-06-30\n",
      "753 2023-11-27\n"
     ]
    },
    {
     "name": "stderr",
     "output_type": "stream",
     "text": [
      "c:\\Users\\guilh\\Code\\ControleFinanceiro\\mvp-classifier\\.venv\\lib\\site-packages\\sklearn\\metrics\\_classification.py:1706: UndefinedMetricWarning: Precision is ill-defined and being set to 0.0 in labels with no predicted samples. Use `zero_division` parameter to control this behavior.\n",
      "  _warn_prf(average, modifier, f\"{metric.capitalize()} is\", result.shape[0])\n",
      "c:\\Users\\guilh\\Code\\ControleFinanceiro\\mvp-classifier\\.venv\\lib\\site-packages\\sklearn\\utils\\_response.py:203: UserWarning: The number of unique classes is greater than 50% of the number of samples.\n",
      "  target_type = type_of_target(classes)\n",
      "c:\\Users\\guilh\\Code\\ControleFinanceiro\\mvp-classifier\\.venv\\lib\\site-packages\\sklearn\\metrics\\_classification.py:1706: UndefinedMetricWarning: Precision is ill-defined and being set to 0.0 in labels with no predicted samples. Use `zero_division` parameter to control this behavior.\n",
      "  _warn_prf(average, modifier, f\"{metric.capitalize()} is\", result.shape[0])\n",
      "c:\\Users\\guilh\\Code\\ControleFinanceiro\\mvp-classifier\\.venv\\lib\\site-packages\\sklearn\\utils\\_response.py:203: UserWarning: The number of unique classes is greater than 50% of the number of samples.\n",
      "  target_type = type_of_target(classes)\n"
     ]
    },
    {
     "name": "stdout",
     "output_type": "stream",
     "text": [
      "          Data\n",
      "549 2023-07-29\n",
      "752 2023-11-24\n",
      "484 2023-08-03\n",
      "750 2023-11-24\n",
      "369 2023-06-20\n",
      "Evaluating model: Gradient boosting-with description token\n"
     ]
    },
    {
     "name": "stderr",
     "output_type": "stream",
     "text": [
      "c:\\Users\\guilh\\Code\\ControleFinanceiro\\mvp-classifier\\.venv\\lib\\site-packages\\sklearn\\metrics\\_classification.py:1706: UndefinedMetricWarning: Precision is ill-defined and being set to 0.0 in labels with no predicted samples. Use `zero_division` parameter to control this behavior.\n",
      "  _warn_prf(average, modifier, f\"{metric.capitalize()} is\", result.shape[0])\n",
      "c:\\Users\\guilh\\Code\\ControleFinanceiro\\mvp-classifier\\.venv\\lib\\site-packages\\sklearn\\utils\\_response.py:203: UserWarning: The number of unique classes is greater than 50% of the number of samples.\n",
      "  target_type = type_of_target(classes)\n"
     ]
    },
    {
     "name": "stdout",
     "output_type": "stream",
     "text": [
      "          Data\n",
      "38  2023-01-18\n",
      "749 2023-11-24\n",
      "91  2023-02-02\n",
      "557 2023-08-28\n",
      "152 2023-03-02\n"
     ]
    },
    {
     "name": "stderr",
     "output_type": "stream",
     "text": [
      "Map: 100%|██████████| 120/120 [00:00<00:00, 1731.15 examples/s]\n",
      "Map: 100%|██████████| 120/120 [00:06<00:00, 19.40 examples/s]\n",
      "c:\\Users\\guilh\\Code\\ControleFinanceiro\\mvp-classifier\\.venv\\lib\\site-packages\\sklearn\\metrics\\_classification.py:1706: UndefinedMetricWarning: Precision is ill-defined and being set to 0.0 in labels with no predicted samples. Use `zero_division` parameter to control this behavior.\n",
      "  _warn_prf(average, modifier, f\"{metric.capitalize()} is\", result.shape[0])\n",
      "c:\\Users\\guilh\\Code\\ControleFinanceiro\\mvp-classifier\\.venv\\lib\\site-packages\\sklearn\\utils\\_response.py:203: UserWarning: The number of unique classes is greater than 50% of the number of samples.\n",
      "  target_type = type_of_target(classes)\n"
     ]
    },
    {
     "name": "stdout",
     "output_type": "stream",
     "text": [
      "          Data\n",
      "83  2023-01-29\n",
      "72  2023-01-21\n",
      "277 2023-05-07\n",
      "57  2023-02-03\n",
      "539 2023-08-25\n"
     ]
    },
    {
     "name": "stderr",
     "output_type": "stream",
     "text": [
      "Map: 100%|██████████| 120/120 [00:00<00:00, 5199.34 examples/s]\n",
      "Map: 100%|██████████| 120/120 [00:03<00:00, 38.55 examples/s]\n",
      "c:\\Users\\guilh\\Code\\ControleFinanceiro\\mvp-classifier\\.venv\\lib\\site-packages\\sklearn\\metrics\\_classification.py:1706: UndefinedMetricWarning: Precision is ill-defined and being set to 0.0 in labels with no predicted samples. Use `zero_division` parameter to control this behavior.\n",
      "  _warn_prf(average, modifier, f\"{metric.capitalize()} is\", result.shape[0])\n",
      "c:\\Users\\guilh\\Code\\ControleFinanceiro\\mvp-classifier\\.venv\\lib\\site-packages\\sklearn\\utils\\_response.py:203: UserWarning: The number of unique classes is greater than 50% of the number of samples.\n",
      "  target_type = type_of_target(classes)\n"
     ]
    },
    {
     "name": "stdout",
     "output_type": "stream",
     "text": [
      "          Data\n",
      "607 2023-09-23\n",
      "176 2023-03-18\n",
      "396 2023-06-30\n",
      "722 2023-11-11\n",
      "193 2023-03-31\n"
     ]
    },
    {
     "name": "stderr",
     "output_type": "stream",
     "text": [
      "Map: 100%|██████████| 120/120 [00:00<00:00, 7596.08 examples/s]\n",
      "Map: 100%|██████████| 120/120 [00:01<00:00, 67.16 examples/s]\n",
      "c:\\Users\\guilh\\Code\\ControleFinanceiro\\mvp-classifier\\.venv\\lib\\site-packages\\sklearn\\metrics\\_classification.py:1706: UndefinedMetricWarning: Precision is ill-defined and being set to 0.0 in labels with no predicted samples. Use `zero_division` parameter to control this behavior.\n",
      "  _warn_prf(average, modifier, f\"{metric.capitalize()} is\", result.shape[0])\n",
      "c:\\Users\\guilh\\Code\\ControleFinanceiro\\mvp-classifier\\.venv\\lib\\site-packages\\sklearn\\utils\\_response.py:203: UserWarning: The number of unique classes is greater than 50% of the number of samples.\n",
      "  target_type = type_of_target(classes)\n"
     ]
    },
    {
     "name": "stdout",
     "output_type": "stream",
     "text": [
      "          Data\n",
      "818 2023-12-14\n",
      "196 2023-03-14\n",
      "669 2023-10-23\n",
      "382 2023-06-30\n",
      "753 2023-11-27\n"
     ]
    },
    {
     "name": "stderr",
     "output_type": "stream",
     "text": [
      "Map: 100%|██████████| 120/120 [00:00<00:00, 4772.27 examples/s]\n",
      "Map: 100%|██████████| 120/120 [00:06<00:00, 19.00 examples/s]\n",
      "c:\\Users\\guilh\\Code\\ControleFinanceiro\\mvp-classifier\\.venv\\lib\\site-packages\\sklearn\\metrics\\_classification.py:1706: UndefinedMetricWarning: Precision is ill-defined and being set to 0.0 in labels with no predicted samples. Use `zero_division` parameter to control this behavior.\n",
      "  _warn_prf(average, modifier, f\"{metric.capitalize()} is\", result.shape[0])\n",
      "c:\\Users\\guilh\\Code\\ControleFinanceiro\\mvp-classifier\\.venv\\lib\\site-packages\\sklearn\\utils\\_response.py:203: UserWarning: The number of unique classes is greater than 50% of the number of samples.\n",
      "  target_type = type_of_target(classes)\n"
     ]
    },
    {
     "name": "stdout",
     "output_type": "stream",
     "text": [
      "          Data\n",
      "549 2023-07-29\n",
      "752 2023-11-24\n",
      "484 2023-08-03\n",
      "750 2023-11-24\n",
      "369 2023-06-20\n"
     ]
    },
    {
     "name": "stderr",
     "output_type": "stream",
     "text": [
      "Map: 100%|██████████| 120/120 [00:00<00:00, 5234.05 examples/s]\n",
      "Map: 100%|██████████| 120/120 [00:02<00:00, 40.85 examples/s]\n",
      "c:\\Users\\guilh\\Code\\ControleFinanceiro\\mvp-classifier\\.venv\\lib\\site-packages\\sklearn\\metrics\\_classification.py:1706: UndefinedMetricWarning: Precision is ill-defined and being set to 0.0 in labels with no predicted samples. Use `zero_division` parameter to control this behavior.\n",
      "  _warn_prf(average, modifier, f\"{metric.capitalize()} is\", result.shape[0])\n"
     ]
    },
    {
     "name": "stdout",
     "output_type": "stream",
     "text": [
      "Evaluating model: Gradient boosting-without description token\n"
     ]
    },
    {
     "name": "stderr",
     "output_type": "stream",
     "text": [
      "c:\\Users\\guilh\\Code\\ControleFinanceiro\\mvp-classifier\\.venv\\lib\\site-packages\\sklearn\\utils\\_response.py:203: UserWarning: The number of unique classes is greater than 50% of the number of samples.\n",
      "  target_type = type_of_target(classes)\n",
      "c:\\Users\\guilh\\Code\\ControleFinanceiro\\mvp-classifier\\.venv\\lib\\site-packages\\sklearn\\metrics\\_classification.py:1706: UndefinedMetricWarning: Precision is ill-defined and being set to 0.0 in labels with no predicted samples. Use `zero_division` parameter to control this behavior.\n",
      "  _warn_prf(average, modifier, f\"{metric.capitalize()} is\", result.shape[0])\n"
     ]
    },
    {
     "name": "stdout",
     "output_type": "stream",
     "text": [
      "          Data\n",
      "38  2023-01-18\n",
      "749 2023-11-24\n",
      "91  2023-02-02\n",
      "557 2023-08-28\n",
      "152 2023-03-02\n"
     ]
    },
    {
     "name": "stderr",
     "output_type": "stream",
     "text": [
      "c:\\Users\\guilh\\Code\\ControleFinanceiro\\mvp-classifier\\.venv\\lib\\site-packages\\sklearn\\utils\\_response.py:203: UserWarning: The number of unique classes is greater than 50% of the number of samples.\n",
      "  target_type = type_of_target(classes)\n"
     ]
    },
    {
     "name": "stdout",
     "output_type": "stream",
     "text": [
      "          Data\n",
      "83  2023-01-29\n",
      "72  2023-01-21\n",
      "277 2023-05-07\n",
      "57  2023-02-03\n",
      "539 2023-08-25\n"
     ]
    },
    {
     "name": "stderr",
     "output_type": "stream",
     "text": [
      "c:\\Users\\guilh\\Code\\ControleFinanceiro\\mvp-classifier\\.venv\\lib\\site-packages\\sklearn\\utils\\_response.py:203: UserWarning: The number of unique classes is greater than 50% of the number of samples.\n",
      "  target_type = type_of_target(classes)\n",
      "c:\\Users\\guilh\\Code\\ControleFinanceiro\\mvp-classifier\\.venv\\lib\\site-packages\\sklearn\\metrics\\_classification.py:1706: UndefinedMetricWarning: Precision is ill-defined and being set to 0.0 in labels with no predicted samples. Use `zero_division` parameter to control this behavior.\n",
      "  _warn_prf(average, modifier, f\"{metric.capitalize()} is\", result.shape[0])\n"
     ]
    },
    {
     "name": "stdout",
     "output_type": "stream",
     "text": [
      "          Data\n",
      "607 2023-09-23\n",
      "176 2023-03-18\n",
      "396 2023-06-30\n",
      "722 2023-11-11\n",
      "193 2023-03-31\n"
     ]
    },
    {
     "name": "stderr",
     "output_type": "stream",
     "text": [
      "c:\\Users\\guilh\\Code\\ControleFinanceiro\\mvp-classifier\\.venv\\lib\\site-packages\\sklearn\\utils\\_response.py:203: UserWarning: The number of unique classes is greater than 50% of the number of samples.\n",
      "  target_type = type_of_target(classes)\n",
      "c:\\Users\\guilh\\Code\\ControleFinanceiro\\mvp-classifier\\.venv\\lib\\site-packages\\sklearn\\metrics\\_classification.py:1706: UndefinedMetricWarning: Precision is ill-defined and being set to 0.0 in labels with no predicted samples. Use `zero_division` parameter to control this behavior.\n",
      "  _warn_prf(average, modifier, f\"{metric.capitalize()} is\", result.shape[0])\n"
     ]
    },
    {
     "name": "stdout",
     "output_type": "stream",
     "text": [
      "          Data\n",
      "818 2023-12-14\n",
      "196 2023-03-14\n",
      "669 2023-10-23\n",
      "382 2023-06-30\n",
      "753 2023-11-27\n"
     ]
    },
    {
     "name": "stderr",
     "output_type": "stream",
     "text": [
      "c:\\Users\\guilh\\Code\\ControleFinanceiro\\mvp-classifier\\.venv\\lib\\site-packages\\sklearn\\utils\\_response.py:203: UserWarning: The number of unique classes is greater than 50% of the number of samples.\n",
      "  target_type = type_of_target(classes)\n"
     ]
    },
    {
     "name": "stdout",
     "output_type": "stream",
     "text": [
      "          Data\n",
      "549 2023-07-29\n",
      "752 2023-11-24\n",
      "484 2023-08-03\n",
      "750 2023-11-24\n",
      "369 2023-06-20\n",
      "Evaluating model: Random Forest Classifier-with description token\n"
     ]
    },
    {
     "name": "stderr",
     "output_type": "stream",
     "text": [
      "c:\\Users\\guilh\\Code\\ControleFinanceiro\\mvp-classifier\\.venv\\lib\\site-packages\\sklearn\\utils\\_response.py:203: UserWarning: The number of unique classes is greater than 50% of the number of samples.\n",
      "  target_type = type_of_target(classes)\n"
     ]
    },
    {
     "name": "stdout",
     "output_type": "stream",
     "text": [
      "          Data\n",
      "38  2023-01-18\n",
      "749 2023-11-24\n",
      "91  2023-02-02\n",
      "557 2023-08-28\n",
      "152 2023-03-02\n"
     ]
    },
    {
     "name": "stderr",
     "output_type": "stream",
     "text": [
      "Map: 100%|██████████| 120/120 [00:00<00:00, 4239.13 examples/s]\n",
      "Map: 100%|██████████| 120/120 [00:06<00:00, 19.34 examples/s]\n",
      "c:\\Users\\guilh\\Code\\ControleFinanceiro\\mvp-classifier\\.venv\\lib\\site-packages\\sklearn\\metrics\\_classification.py:1706: UndefinedMetricWarning: Precision is ill-defined and being set to 0.0 in labels with no predicted samples. Use `zero_division` parameter to control this behavior.\n",
      "  _warn_prf(average, modifier, f\"{metric.capitalize()} is\", result.shape[0])\n",
      "c:\\Users\\guilh\\Code\\ControleFinanceiro\\mvp-classifier\\.venv\\lib\\site-packages\\sklearn\\utils\\_response.py:203: UserWarning: The number of unique classes is greater than 50% of the number of samples.\n",
      "  target_type = type_of_target(classes)\n"
     ]
    },
    {
     "name": "stdout",
     "output_type": "stream",
     "text": [
      "          Data\n",
      "83  2023-01-29\n",
      "72  2023-01-21\n",
      "277 2023-05-07\n",
      "57  2023-02-03\n",
      "539 2023-08-25\n"
     ]
    },
    {
     "name": "stderr",
     "output_type": "stream",
     "text": [
      "Map: 100%|██████████| 120/120 [00:00<00:00, 6747.96 examples/s]\n",
      "Map: 100%|██████████| 120/120 [00:02<00:00, 42.55 examples/s]\n",
      "c:\\Users\\guilh\\Code\\ControleFinanceiro\\mvp-classifier\\.venv\\lib\\site-packages\\sklearn\\metrics\\_classification.py:1706: UndefinedMetricWarning: Precision is ill-defined and being set to 0.0 in labels with no predicted samples. Use `zero_division` parameter to control this behavior.\n",
      "  _warn_prf(average, modifier, f\"{metric.capitalize()} is\", result.shape[0])\n",
      "c:\\Users\\guilh\\Code\\ControleFinanceiro\\mvp-classifier\\.venv\\lib\\site-packages\\sklearn\\utils\\_response.py:203: UserWarning: The number of unique classes is greater than 50% of the number of samples.\n",
      "  target_type = type_of_target(classes)\n"
     ]
    },
    {
     "name": "stdout",
     "output_type": "stream",
     "text": [
      "          Data\n",
      "607 2023-09-23\n",
      "176 2023-03-18\n",
      "396 2023-06-30\n",
      "722 2023-11-11\n",
      "193 2023-03-31\n"
     ]
    },
    {
     "name": "stderr",
     "output_type": "stream",
     "text": [
      "Map: 100%|██████████| 120/120 [00:00<00:00, 6759.65 examples/s]\n",
      "Map: 100%|██████████| 120/120 [00:02<00:00, 52.89 examples/s]\n",
      "c:\\Users\\guilh\\Code\\ControleFinanceiro\\mvp-classifier\\.venv\\lib\\site-packages\\sklearn\\metrics\\_classification.py:1706: UndefinedMetricWarning: Precision is ill-defined and being set to 0.0 in labels with no predicted samples. Use `zero_division` parameter to control this behavior.\n",
      "  _warn_prf(average, modifier, f\"{metric.capitalize()} is\", result.shape[0])\n",
      "c:\\Users\\guilh\\Code\\ControleFinanceiro\\mvp-classifier\\.venv\\lib\\site-packages\\sklearn\\utils\\_response.py:203: UserWarning: The number of unique classes is greater than 50% of the number of samples.\n",
      "  target_type = type_of_target(classes)\n"
     ]
    },
    {
     "name": "stdout",
     "output_type": "stream",
     "text": [
      "          Data\n",
      "818 2023-12-14\n",
      "196 2023-03-14\n",
      "669 2023-10-23\n",
      "382 2023-06-30\n",
      "753 2023-11-27\n"
     ]
    },
    {
     "name": "stderr",
     "output_type": "stream",
     "text": [
      "Map: 100%|██████████| 120/120 [00:00<00:00, 4992.97 examples/s]\n",
      "Map: 100%|██████████| 120/120 [00:06<00:00, 19.50 examples/s]\n",
      "c:\\Users\\guilh\\Code\\ControleFinanceiro\\mvp-classifier\\.venv\\lib\\site-packages\\sklearn\\metrics\\_classification.py:1706: UndefinedMetricWarning: Precision is ill-defined and being set to 0.0 in labels with no predicted samples. Use `zero_division` parameter to control this behavior.\n",
      "  _warn_prf(average, modifier, f\"{metric.capitalize()} is\", result.shape[0])\n",
      "c:\\Users\\guilh\\Code\\ControleFinanceiro\\mvp-classifier\\.venv\\lib\\site-packages\\sklearn\\utils\\_response.py:203: UserWarning: The number of unique classes is greater than 50% of the number of samples.\n",
      "  target_type = type_of_target(classes)\n"
     ]
    },
    {
     "name": "stdout",
     "output_type": "stream",
     "text": [
      "          Data\n",
      "549 2023-07-29\n",
      "752 2023-11-24\n",
      "484 2023-08-03\n",
      "750 2023-11-24\n",
      "369 2023-06-20\n"
     ]
    },
    {
     "name": "stderr",
     "output_type": "stream",
     "text": [
      "Map: 100%|██████████| 120/120 [00:00<00:00, 5491.78 examples/s]\n",
      "Map: 100%|██████████| 120/120 [00:02<00:00, 42.38 examples/s]\n",
      "c:\\Users\\guilh\\Code\\ControleFinanceiro\\mvp-classifier\\.venv\\lib\\site-packages\\sklearn\\metrics\\_classification.py:1706: UndefinedMetricWarning: Precision is ill-defined and being set to 0.0 in labels with no predicted samples. Use `zero_division` parameter to control this behavior.\n",
      "  _warn_prf(average, modifier, f\"{metric.capitalize()} is\", result.shape[0])\n"
     ]
    },
    {
     "name": "stdout",
     "output_type": "stream",
     "text": [
      "Evaluating model: Random Forest Classifier-without description token\n"
     ]
    },
    {
     "name": "stderr",
     "output_type": "stream",
     "text": [
      "c:\\Users\\guilh\\Code\\ControleFinanceiro\\mvp-classifier\\.venv\\lib\\site-packages\\sklearn\\utils\\_response.py:203: UserWarning: The number of unique classes is greater than 50% of the number of samples.\n",
      "  target_type = type_of_target(classes)\n",
      "c:\\Users\\guilh\\Code\\ControleFinanceiro\\mvp-classifier\\.venv\\lib\\site-packages\\sklearn\\metrics\\_classification.py:1706: UndefinedMetricWarning: Precision is ill-defined and being set to 0.0 in labels with no predicted samples. Use `zero_division` parameter to control this behavior.\n",
      "  _warn_prf(average, modifier, f\"{metric.capitalize()} is\", result.shape[0])\n"
     ]
    },
    {
     "name": "stdout",
     "output_type": "stream",
     "text": [
      "          Data\n",
      "38  2023-01-18\n",
      "749 2023-11-24\n",
      "91  2023-02-02\n",
      "557 2023-08-28\n",
      "152 2023-03-02\n"
     ]
    },
    {
     "name": "stderr",
     "output_type": "stream",
     "text": [
      "c:\\Users\\guilh\\Code\\ControleFinanceiro\\mvp-classifier\\.venv\\lib\\site-packages\\sklearn\\utils\\_response.py:203: UserWarning: The number of unique classes is greater than 50% of the number of samples.\n",
      "  target_type = type_of_target(classes)\n",
      "c:\\Users\\guilh\\Code\\ControleFinanceiro\\mvp-classifier\\.venv\\lib\\site-packages\\sklearn\\metrics\\_classification.py:1706: UndefinedMetricWarning: Precision is ill-defined and being set to 0.0 in labels with no predicted samples. Use `zero_division` parameter to control this behavior.\n",
      "  _warn_prf(average, modifier, f\"{metric.capitalize()} is\", result.shape[0])\n"
     ]
    },
    {
     "name": "stdout",
     "output_type": "stream",
     "text": [
      "          Data\n",
      "83  2023-01-29\n",
      "72  2023-01-21\n",
      "277 2023-05-07\n",
      "57  2023-02-03\n",
      "539 2023-08-25\n"
     ]
    },
    {
     "name": "stderr",
     "output_type": "stream",
     "text": [
      "c:\\Users\\guilh\\Code\\ControleFinanceiro\\mvp-classifier\\.venv\\lib\\site-packages\\sklearn\\utils\\_response.py:203: UserWarning: The number of unique classes is greater than 50% of the number of samples.\n",
      "  target_type = type_of_target(classes)\n",
      "c:\\Users\\guilh\\Code\\ControleFinanceiro\\mvp-classifier\\.venv\\lib\\site-packages\\sklearn\\metrics\\_classification.py:1706: UndefinedMetricWarning: Precision is ill-defined and being set to 0.0 in labels with no predicted samples. Use `zero_division` parameter to control this behavior.\n",
      "  _warn_prf(average, modifier, f\"{metric.capitalize()} is\", result.shape[0])\n"
     ]
    },
    {
     "name": "stdout",
     "output_type": "stream",
     "text": [
      "          Data\n",
      "607 2023-09-23\n",
      "176 2023-03-18\n",
      "396 2023-06-30\n",
      "722 2023-11-11\n",
      "193 2023-03-31\n"
     ]
    },
    {
     "name": "stderr",
     "output_type": "stream",
     "text": [
      "c:\\Users\\guilh\\Code\\ControleFinanceiro\\mvp-classifier\\.venv\\lib\\site-packages\\sklearn\\utils\\_response.py:203: UserWarning: The number of unique classes is greater than 50% of the number of samples.\n",
      "  target_type = type_of_target(classes)\n",
      "c:\\Users\\guilh\\Code\\ControleFinanceiro\\mvp-classifier\\.venv\\lib\\site-packages\\sklearn\\metrics\\_classification.py:1706: UndefinedMetricWarning: Precision is ill-defined and being set to 0.0 in labels with no predicted samples. Use `zero_division` parameter to control this behavior.\n",
      "  _warn_prf(average, modifier, f\"{metric.capitalize()} is\", result.shape[0])\n"
     ]
    },
    {
     "name": "stdout",
     "output_type": "stream",
     "text": [
      "          Data\n",
      "818 2023-12-14\n",
      "196 2023-03-14\n",
      "669 2023-10-23\n",
      "382 2023-06-30\n",
      "753 2023-11-27\n"
     ]
    },
    {
     "name": "stderr",
     "output_type": "stream",
     "text": [
      "c:\\Users\\guilh\\Code\\ControleFinanceiro\\mvp-classifier\\.venv\\lib\\site-packages\\sklearn\\utils\\_response.py:203: UserWarning: The number of unique classes is greater than 50% of the number of samples.\n",
      "  target_type = type_of_target(classes)\n",
      "c:\\Users\\guilh\\Code\\ControleFinanceiro\\mvp-classifier\\.venv\\lib\\site-packages\\sklearn\\metrics\\_classification.py:1706: UndefinedMetricWarning: Precision is ill-defined and being set to 0.0 in labels with no predicted samples. Use `zero_division` parameter to control this behavior.\n",
      "  _warn_prf(average, modifier, f\"{metric.capitalize()} is\", result.shape[0])\n"
     ]
    },
    {
     "name": "stdout",
     "output_type": "stream",
     "text": [
      "          Data\n",
      "549 2023-07-29\n",
      "752 2023-11-24\n",
      "484 2023-08-03\n",
      "750 2023-11-24\n",
      "369 2023-06-20\n",
      "Evaluating model: AdaBoost Classifier-with description token\n"
     ]
    },
    {
     "name": "stderr",
     "output_type": "stream",
     "text": [
      "c:\\Users\\guilh\\Code\\ControleFinanceiro\\mvp-classifier\\.venv\\lib\\site-packages\\sklearn\\utils\\_response.py:203: UserWarning: The number of unique classes is greater than 50% of the number of samples.\n",
      "  target_type = type_of_target(classes)\n"
     ]
    },
    {
     "name": "stdout",
     "output_type": "stream",
     "text": [
      "          Data\n",
      "38  2023-01-18\n",
      "749 2023-11-24\n",
      "91  2023-02-02\n",
      "557 2023-08-28\n",
      "152 2023-03-02\n"
     ]
    },
    {
     "name": "stderr",
     "output_type": "stream",
     "text": [
      "Map: 100%|██████████| 120/120 [00:00<00:00, 5490.59 examples/s]\n",
      "Map: 100%|██████████| 120/120 [00:06<00:00, 19.65 examples/s]\n",
      "c:\\Users\\guilh\\Code\\ControleFinanceiro\\mvp-classifier\\.venv\\lib\\site-packages\\sklearn\\metrics\\_classification.py:1706: UndefinedMetricWarning: Precision is ill-defined and being set to 0.0 in labels with no predicted samples. Use `zero_division` parameter to control this behavior.\n",
      "  _warn_prf(average, modifier, f\"{metric.capitalize()} is\", result.shape[0])\n",
      "c:\\Users\\guilh\\Code\\ControleFinanceiro\\mvp-classifier\\.venv\\lib\\site-packages\\sklearn\\utils\\_response.py:203: UserWarning: The number of unique classes is greater than 50% of the number of samples.\n",
      "  target_type = type_of_target(classes)\n"
     ]
    },
    {
     "name": "stdout",
     "output_type": "stream",
     "text": [
      "          Data\n",
      "83  2023-01-29\n",
      "72  2023-01-21\n",
      "277 2023-05-07\n",
      "57  2023-02-03\n",
      "539 2023-08-25\n"
     ]
    },
    {
     "name": "stderr",
     "output_type": "stream",
     "text": [
      "Map: 100%|██████████| 120/120 [00:00<00:00, 5899.09 examples/s]\n",
      "Map: 100%|██████████| 120/120 [00:02<00:00, 43.71 examples/s]\n",
      "c:\\Users\\guilh\\Code\\ControleFinanceiro\\mvp-classifier\\.venv\\lib\\site-packages\\sklearn\\metrics\\_classification.py:1706: UndefinedMetricWarning: Precision is ill-defined and being set to 0.0 in labels with no predicted samples. Use `zero_division` parameter to control this behavior.\n",
      "  _warn_prf(average, modifier, f\"{metric.capitalize()} is\", result.shape[0])\n",
      "c:\\Users\\guilh\\Code\\ControleFinanceiro\\mvp-classifier\\.venv\\lib\\site-packages\\sklearn\\utils\\_response.py:203: UserWarning: The number of unique classes is greater than 50% of the number of samples.\n",
      "  target_type = type_of_target(classes)\n"
     ]
    },
    {
     "name": "stdout",
     "output_type": "stream",
     "text": [
      "          Data\n",
      "607 2023-09-23\n",
      "176 2023-03-18\n",
      "396 2023-06-30\n",
      "722 2023-11-11\n",
      "193 2023-03-31\n"
     ]
    },
    {
     "name": "stderr",
     "output_type": "stream",
     "text": [
      "Map: 100%|██████████| 120/120 [00:00<00:00, 7114.62 examples/s]\n",
      "Map: 100%|██████████| 120/120 [00:02<00:00, 48.13 examples/s]\n",
      "c:\\Users\\guilh\\Code\\ControleFinanceiro\\mvp-classifier\\.venv\\lib\\site-packages\\sklearn\\metrics\\_classification.py:1706: UndefinedMetricWarning: Precision is ill-defined and being set to 0.0 in labels with no predicted samples. Use `zero_division` parameter to control this behavior.\n",
      "  _warn_prf(average, modifier, f\"{metric.capitalize()} is\", result.shape[0])\n",
      "c:\\Users\\guilh\\Code\\ControleFinanceiro\\mvp-classifier\\.venv\\lib\\site-packages\\sklearn\\utils\\_response.py:203: UserWarning: The number of unique classes is greater than 50% of the number of samples.\n",
      "  target_type = type_of_target(classes)\n"
     ]
    },
    {
     "name": "stdout",
     "output_type": "stream",
     "text": [
      "          Data\n",
      "818 2023-12-14\n",
      "196 2023-03-14\n",
      "669 2023-10-23\n",
      "382 2023-06-30\n",
      "753 2023-11-27\n"
     ]
    },
    {
     "name": "stderr",
     "output_type": "stream",
     "text": [
      "Map: 100%|██████████| 120/120 [00:00<00:00, 3309.18 examples/s]\n",
      "Map: 100%|██████████| 120/120 [00:06<00:00, 19.82 examples/s]\n",
      "c:\\Users\\guilh\\Code\\ControleFinanceiro\\mvp-classifier\\.venv\\lib\\site-packages\\sklearn\\metrics\\_classification.py:1706: UndefinedMetricWarning: Precision is ill-defined and being set to 0.0 in labels with no predicted samples. Use `zero_division` parameter to control this behavior.\n",
      "  _warn_prf(average, modifier, f\"{metric.capitalize()} is\", result.shape[0])\n",
      "c:\\Users\\guilh\\Code\\ControleFinanceiro\\mvp-classifier\\.venv\\lib\\site-packages\\sklearn\\utils\\_response.py:203: UserWarning: The number of unique classes is greater than 50% of the number of samples.\n",
      "  target_type = type_of_target(classes)\n"
     ]
    },
    {
     "name": "stdout",
     "output_type": "stream",
     "text": [
      "          Data\n",
      "549 2023-07-29\n",
      "752 2023-11-24\n",
      "484 2023-08-03\n",
      "750 2023-11-24\n",
      "369 2023-06-20\n"
     ]
    },
    {
     "name": "stderr",
     "output_type": "stream",
     "text": [
      "Map: 100%|██████████| 120/120 [00:00<00:00, 6289.10 examples/s]\n",
      "Map: 100%|██████████| 120/120 [00:03<00:00, 39.86 examples/s]\n",
      "c:\\Users\\guilh\\Code\\ControleFinanceiro\\mvp-classifier\\.venv\\lib\\site-packages\\sklearn\\metrics\\_classification.py:1706: UndefinedMetricWarning: Precision is ill-defined and being set to 0.0 in labels with no predicted samples. Use `zero_division` parameter to control this behavior.\n",
      "  _warn_prf(average, modifier, f\"{metric.capitalize()} is\", result.shape[0])\n"
     ]
    },
    {
     "name": "stdout",
     "output_type": "stream",
     "text": [
      "Evaluating model: AdaBoost Classifier-without description token\n"
     ]
    },
    {
     "name": "stderr",
     "output_type": "stream",
     "text": [
      "c:\\Users\\guilh\\Code\\ControleFinanceiro\\mvp-classifier\\.venv\\lib\\site-packages\\sklearn\\utils\\_response.py:203: UserWarning: The number of unique classes is greater than 50% of the number of samples.\n",
      "  target_type = type_of_target(classes)\n",
      "c:\\Users\\guilh\\Code\\ControleFinanceiro\\mvp-classifier\\.venv\\lib\\site-packages\\sklearn\\metrics\\_classification.py:1706: UndefinedMetricWarning: Precision is ill-defined and being set to 0.0 in labels with no predicted samples. Use `zero_division` parameter to control this behavior.\n",
      "  _warn_prf(average, modifier, f\"{metric.capitalize()} is\", result.shape[0])\n"
     ]
    },
    {
     "name": "stdout",
     "output_type": "stream",
     "text": [
      "          Data\n",
      "38  2023-01-18\n",
      "749 2023-11-24\n",
      "91  2023-02-02\n",
      "557 2023-08-28\n",
      "152 2023-03-02\n"
     ]
    },
    {
     "name": "stderr",
     "output_type": "stream",
     "text": [
      "c:\\Users\\guilh\\Code\\ControleFinanceiro\\mvp-classifier\\.venv\\lib\\site-packages\\sklearn\\utils\\_response.py:203: UserWarning: The number of unique classes is greater than 50% of the number of samples.\n",
      "  target_type = type_of_target(classes)\n",
      "c:\\Users\\guilh\\Code\\ControleFinanceiro\\mvp-classifier\\.venv\\lib\\site-packages\\sklearn\\metrics\\_classification.py:1706: UndefinedMetricWarning: Precision is ill-defined and being set to 0.0 in labels with no predicted samples. Use `zero_division` parameter to control this behavior.\n",
      "  _warn_prf(average, modifier, f\"{metric.capitalize()} is\", result.shape[0])\n"
     ]
    },
    {
     "name": "stdout",
     "output_type": "stream",
     "text": [
      "          Data\n",
      "83  2023-01-29\n",
      "72  2023-01-21\n",
      "277 2023-05-07\n",
      "57  2023-02-03\n",
      "539 2023-08-25\n"
     ]
    },
    {
     "name": "stderr",
     "output_type": "stream",
     "text": [
      "c:\\Users\\guilh\\Code\\ControleFinanceiro\\mvp-classifier\\.venv\\lib\\site-packages\\sklearn\\utils\\_response.py:203: UserWarning: The number of unique classes is greater than 50% of the number of samples.\n",
      "  target_type = type_of_target(classes)\n",
      "c:\\Users\\guilh\\Code\\ControleFinanceiro\\mvp-classifier\\.venv\\lib\\site-packages\\sklearn\\metrics\\_classification.py:1706: UndefinedMetricWarning: Precision is ill-defined and being set to 0.0 in labels with no predicted samples. Use `zero_division` parameter to control this behavior.\n",
      "  _warn_prf(average, modifier, f\"{metric.capitalize()} is\", result.shape[0])\n"
     ]
    },
    {
     "name": "stdout",
     "output_type": "stream",
     "text": [
      "          Data\n",
      "607 2023-09-23\n",
      "176 2023-03-18\n",
      "396 2023-06-30\n",
      "722 2023-11-11\n",
      "193 2023-03-31\n"
     ]
    },
    {
     "name": "stderr",
     "output_type": "stream",
     "text": [
      "c:\\Users\\guilh\\Code\\ControleFinanceiro\\mvp-classifier\\.venv\\lib\\site-packages\\sklearn\\utils\\_response.py:203: UserWarning: The number of unique classes is greater than 50% of the number of samples.\n",
      "  target_type = type_of_target(classes)\n",
      "c:\\Users\\guilh\\Code\\ControleFinanceiro\\mvp-classifier\\.venv\\lib\\site-packages\\sklearn\\metrics\\_classification.py:1706: UndefinedMetricWarning: Precision is ill-defined and being set to 0.0 in labels with no predicted samples. Use `zero_division` parameter to control this behavior.\n",
      "  _warn_prf(average, modifier, f\"{metric.capitalize()} is\", result.shape[0])\n"
     ]
    },
    {
     "name": "stdout",
     "output_type": "stream",
     "text": [
      "          Data\n",
      "818 2023-12-14\n",
      "196 2023-03-14\n",
      "669 2023-10-23\n",
      "382 2023-06-30\n",
      "753 2023-11-27\n",
      "          Data\n",
      "549 2023-07-29\n",
      "752 2023-11-24\n",
      "484 2023-08-03\n",
      "750 2023-11-24\n",
      "369 2023-06-20\n"
     ]
    },
    {
     "name": "stderr",
     "output_type": "stream",
     "text": [
      "c:\\Users\\guilh\\Code\\ControleFinanceiro\\mvp-classifier\\.venv\\lib\\site-packages\\sklearn\\utils\\_response.py:203: UserWarning: The number of unique classes is greater than 50% of the number of samples.\n",
      "  target_type = type_of_target(classes)\n",
      "c:\\Users\\guilh\\Code\\ControleFinanceiro\\mvp-classifier\\.venv\\lib\\site-packages\\sklearn\\metrics\\_classification.py:1706: UndefinedMetricWarning: Precision is ill-defined and being set to 0.0 in labels with no predicted samples. Use `zero_division` parameter to control this behavior.\n",
      "  _warn_prf(average, modifier, f\"{metric.capitalize()} is\", result.shape[0])\n"
     ]
    }
   ],
   "source": [
    "cross_validation_avg_test_results = []\n",
    "\n",
    "for model_name, clf in model_pipelines.items():\n",
    "    print(f\"Evaluating model: {model_name}\")\n",
    "    try:\n",
    "        model_result = cross_validate(clf, X_train, y_train_encoded, scoring=scoring)\n",
    "        model_avg = {i:v.mean() for i, v in  model_result.items() if 'test' in i}\n",
    "        cross_validation_avg_test_results.append( {**model_avg, 'model': model_name})\n",
    "    except Exception as e:\n",
    "        print(f\"Error in model: {model_name}: {e}\")"
   ]
  },
  {
   "cell_type": "markdown",
   "id": "3ec03624",
   "metadata": {},
   "source": [
    "### Cross-validation Analysis"
   ]
  },
  {
   "cell_type": "code",
   "execution_count": 19,
   "id": "bba463c5",
   "metadata": {},
   "outputs": [],
   "source": [
    "model_crossvalidation_results = pd.DataFrame(cross_validation_avg_test_results)"
   ]
  },
  {
   "cell_type": "code",
   "execution_count": 20,
   "id": "cfeb94db",
   "metadata": {},
   "outputs": [
    {
     "data": {
      "application/vnd.microsoft.datawrangler.viewer.v0+json": {
       "columns": [
        {
         "name": "model",
         "rawType": "object",
         "type": "string"
        },
        {
         "name": "test_accuracy",
         "rawType": "float64",
         "type": "float"
        },
        {
         "name": "test_balanced_accuracy",
         "rawType": "float64",
         "type": "float"
        },
        {
         "name": "test_recall_weighted",
         "rawType": "float64",
         "type": "float"
        },
        {
         "name": "test_precision_weighted",
         "rawType": "float64",
         "type": "float"
        },
        {
         "name": "test_f1_weighted",
         "rawType": "float64",
         "type": "float"
        },
        {
         "name": "avg_score",
         "rawType": "float64",
         "type": "float"
        }
       ],
       "ref": "b6e93249-a748-4cf0-bffe-bcd8809fc1d1",
       "rows": [
        [
         "Ridge Classifier-with description token",
         "0.7083333333333334",
         "0.5300832390372416",
         "0.7083333333333334",
         "0.6950964035964036",
         "0.6876241437035896",
         "0.6658940906007802"
        ],
        [
         "Support Vector Machine Classifier-with description token",
         "0.7",
         "0.5204655131590117",
         "0.7",
         "0.6871770766270766",
         "0.6815429888440387",
         "0.6578371157260253"
        ],
        [
         "Logistic Regression-with description token",
         "0.69",
         "0.4939623664457809",
         "0.69",
         "0.6682131183631184",
         "0.6640683565481755",
         "0.6412487682714149"
        ],
        [
         "Random Forest Classifier-with description token",
         "0.6766666666666665",
         "0.5022941233909832",
         "0.6766666666666665",
         "0.6680834012800924",
         "0.6469609325422665",
         "0.634134358109335"
        ],
        [
         "Gradient boosting-with description token",
         "0.6383333333333333",
         "0.48924567168706934",
         "0.6383333333333333",
         "0.6421727224300754",
         "0.623131876563092",
         "0.6062433874693806"
        ],
        [
         "KNN-with description token",
         "0.595",
         "0.3841762499789921",
         "0.595",
         "0.5788022160859516",
         "0.5609878086394018",
         "0.5427932549408692"
        ],
        [
         "Gradient boosting-without description token",
         "0.5483333333333332",
         "0.4209731909776139",
         "0.5483333333333332",
         "0.5522228858098424",
         "0.537041417752159",
         "0.5213808322412563"
        ],
        [
         "Random Forest Classifier-without description token",
         "0.5416666666666666",
         "0.4238908226767581",
         "0.5416666666666666",
         "0.5418041880464649",
         "0.5340096442626249",
         "0.5166075976638362"
        ],
        [
         "KNN-without description token",
         "0.475",
         "0.33494690167401353",
         "0.475",
         "0.4581264244880394",
         "0.45800141779415193",
         "0.44021494879124096"
        ],
        [
         "AdaBoost Classifier-with description token",
         "0.44666666666666666",
         "0.23237063033613237",
         "0.44666666666666666",
         "0.370680735225748",
         "0.37163542064403965",
         "0.37360402390785064"
        ],
        [
         "Logistic Regression-without description token",
         "0.4216666666666667",
         "0.20045702491522924",
         "0.4216666666666667",
         "0.33025299342562286",
         "0.341243290025817",
         "0.34305732834000047"
        ],
        [
         "Support Vector Machine Classifier-without description token",
         "0.4183333333333333",
         "0.21458429198367276",
         "0.4183333333333333",
         "0.31550452351081376",
         "0.32905440946494924",
         "0.3391619783252205"
        ],
        [
         "Ridge Classifier-without description token",
         "0.41",
         "0.20286202732023165",
         "0.41",
         "0.30532899390631235",
         "0.32003076790948115",
         "0.329644357827205"
        ],
        [
         "AdaBoost Classifier-without description token",
         "0.34833333333333333",
         "0.15686669989633278",
         "0.34833333333333333",
         "0.2652611142442652",
         "0.2789319604507112",
         "0.27954528825159514"
        ]
       ],
       "shape": {
        "columns": 6,
        "rows": 14
       }
      },
      "text/html": [
       "<div>\n",
       "<style scoped>\n",
       "    .dataframe tbody tr th:only-of-type {\n",
       "        vertical-align: middle;\n",
       "    }\n",
       "\n",
       "    .dataframe tbody tr th {\n",
       "        vertical-align: top;\n",
       "    }\n",
       "\n",
       "    .dataframe thead th {\n",
       "        text-align: right;\n",
       "    }\n",
       "</style>\n",
       "<table border=\"1\" class=\"dataframe\">\n",
       "  <thead>\n",
       "    <tr style=\"text-align: right;\">\n",
       "      <th></th>\n",
       "      <th>test_accuracy</th>\n",
       "      <th>test_balanced_accuracy</th>\n",
       "      <th>test_recall_weighted</th>\n",
       "      <th>test_precision_weighted</th>\n",
       "      <th>test_f1_weighted</th>\n",
       "      <th>avg_score</th>\n",
       "    </tr>\n",
       "    <tr>\n",
       "      <th>model</th>\n",
       "      <th></th>\n",
       "      <th></th>\n",
       "      <th></th>\n",
       "      <th></th>\n",
       "      <th></th>\n",
       "      <th></th>\n",
       "    </tr>\n",
       "  </thead>\n",
       "  <tbody>\n",
       "    <tr>\n",
       "      <th>Ridge Classifier-with description token</th>\n",
       "      <td>0.708333</td>\n",
       "      <td>0.530083</td>\n",
       "      <td>0.708333</td>\n",
       "      <td>0.695096</td>\n",
       "      <td>0.687624</td>\n",
       "      <td>0.665894</td>\n",
       "    </tr>\n",
       "    <tr>\n",
       "      <th>Support Vector Machine Classifier-with description token</th>\n",
       "      <td>0.700000</td>\n",
       "      <td>0.520466</td>\n",
       "      <td>0.700000</td>\n",
       "      <td>0.687177</td>\n",
       "      <td>0.681543</td>\n",
       "      <td>0.657837</td>\n",
       "    </tr>\n",
       "    <tr>\n",
       "      <th>Logistic Regression-with description token</th>\n",
       "      <td>0.690000</td>\n",
       "      <td>0.493962</td>\n",
       "      <td>0.690000</td>\n",
       "      <td>0.668213</td>\n",
       "      <td>0.664068</td>\n",
       "      <td>0.641249</td>\n",
       "    </tr>\n",
       "    <tr>\n",
       "      <th>Random Forest Classifier-with description token</th>\n",
       "      <td>0.676667</td>\n",
       "      <td>0.502294</td>\n",
       "      <td>0.676667</td>\n",
       "      <td>0.668083</td>\n",
       "      <td>0.646961</td>\n",
       "      <td>0.634134</td>\n",
       "    </tr>\n",
       "    <tr>\n",
       "      <th>Gradient boosting-with description token</th>\n",
       "      <td>0.638333</td>\n",
       "      <td>0.489246</td>\n",
       "      <td>0.638333</td>\n",
       "      <td>0.642173</td>\n",
       "      <td>0.623132</td>\n",
       "      <td>0.606243</td>\n",
       "    </tr>\n",
       "    <tr>\n",
       "      <th>KNN-with description token</th>\n",
       "      <td>0.595000</td>\n",
       "      <td>0.384176</td>\n",
       "      <td>0.595000</td>\n",
       "      <td>0.578802</td>\n",
       "      <td>0.560988</td>\n",
       "      <td>0.542793</td>\n",
       "    </tr>\n",
       "    <tr>\n",
       "      <th>Gradient boosting-without description token</th>\n",
       "      <td>0.548333</td>\n",
       "      <td>0.420973</td>\n",
       "      <td>0.548333</td>\n",
       "      <td>0.552223</td>\n",
       "      <td>0.537041</td>\n",
       "      <td>0.521381</td>\n",
       "    </tr>\n",
       "    <tr>\n",
       "      <th>Random Forest Classifier-without description token</th>\n",
       "      <td>0.541667</td>\n",
       "      <td>0.423891</td>\n",
       "      <td>0.541667</td>\n",
       "      <td>0.541804</td>\n",
       "      <td>0.534010</td>\n",
       "      <td>0.516608</td>\n",
       "    </tr>\n",
       "    <tr>\n",
       "      <th>KNN-without description token</th>\n",
       "      <td>0.475000</td>\n",
       "      <td>0.334947</td>\n",
       "      <td>0.475000</td>\n",
       "      <td>0.458126</td>\n",
       "      <td>0.458001</td>\n",
       "      <td>0.440215</td>\n",
       "    </tr>\n",
       "    <tr>\n",
       "      <th>AdaBoost Classifier-with description token</th>\n",
       "      <td>0.446667</td>\n",
       "      <td>0.232371</td>\n",
       "      <td>0.446667</td>\n",
       "      <td>0.370681</td>\n",
       "      <td>0.371635</td>\n",
       "      <td>0.373604</td>\n",
       "    </tr>\n",
       "    <tr>\n",
       "      <th>Logistic Regression-without description token</th>\n",
       "      <td>0.421667</td>\n",
       "      <td>0.200457</td>\n",
       "      <td>0.421667</td>\n",
       "      <td>0.330253</td>\n",
       "      <td>0.341243</td>\n",
       "      <td>0.343057</td>\n",
       "    </tr>\n",
       "    <tr>\n",
       "      <th>Support Vector Machine Classifier-without description token</th>\n",
       "      <td>0.418333</td>\n",
       "      <td>0.214584</td>\n",
       "      <td>0.418333</td>\n",
       "      <td>0.315505</td>\n",
       "      <td>0.329054</td>\n",
       "      <td>0.339162</td>\n",
       "    </tr>\n",
       "    <tr>\n",
       "      <th>Ridge Classifier-without description token</th>\n",
       "      <td>0.410000</td>\n",
       "      <td>0.202862</td>\n",
       "      <td>0.410000</td>\n",
       "      <td>0.305329</td>\n",
       "      <td>0.320031</td>\n",
       "      <td>0.329644</td>\n",
       "    </tr>\n",
       "    <tr>\n",
       "      <th>AdaBoost Classifier-without description token</th>\n",
       "      <td>0.348333</td>\n",
       "      <td>0.156867</td>\n",
       "      <td>0.348333</td>\n",
       "      <td>0.265261</td>\n",
       "      <td>0.278932</td>\n",
       "      <td>0.279545</td>\n",
       "    </tr>\n",
       "  </tbody>\n",
       "</table>\n",
       "</div>"
      ],
      "text/plain": [
       "                                                    test_accuracy  \\\n",
       "model                                                               \n",
       "Ridge Classifier-with description token                  0.708333   \n",
       "Support Vector Machine Classifier-with descript...       0.700000   \n",
       "Logistic Regression-with description token               0.690000   \n",
       "Random Forest Classifier-with description token          0.676667   \n",
       "Gradient boosting-with description token                 0.638333   \n",
       "KNN-with description token                               0.595000   \n",
       "Gradient boosting-without description token              0.548333   \n",
       "Random Forest Classifier-without description token       0.541667   \n",
       "KNN-without description token                            0.475000   \n",
       "AdaBoost Classifier-with description token               0.446667   \n",
       "Logistic Regression-without description token            0.421667   \n",
       "Support Vector Machine Classifier-without descr...       0.418333   \n",
       "Ridge Classifier-without description token               0.410000   \n",
       "AdaBoost Classifier-without description token            0.348333   \n",
       "\n",
       "                                                    test_balanced_accuracy  \\\n",
       "model                                                                        \n",
       "Ridge Classifier-with description token                           0.530083   \n",
       "Support Vector Machine Classifier-with descript...                0.520466   \n",
       "Logistic Regression-with description token                        0.493962   \n",
       "Random Forest Classifier-with description token                   0.502294   \n",
       "Gradient boosting-with description token                          0.489246   \n",
       "KNN-with description token                                        0.384176   \n",
       "Gradient boosting-without description token                       0.420973   \n",
       "Random Forest Classifier-without description token                0.423891   \n",
       "KNN-without description token                                     0.334947   \n",
       "AdaBoost Classifier-with description token                        0.232371   \n",
       "Logistic Regression-without description token                     0.200457   \n",
       "Support Vector Machine Classifier-without descr...                0.214584   \n",
       "Ridge Classifier-without description token                        0.202862   \n",
       "AdaBoost Classifier-without description token                     0.156867   \n",
       "\n",
       "                                                    test_recall_weighted  \\\n",
       "model                                                                      \n",
       "Ridge Classifier-with description token                         0.708333   \n",
       "Support Vector Machine Classifier-with descript...              0.700000   \n",
       "Logistic Regression-with description token                      0.690000   \n",
       "Random Forest Classifier-with description token                 0.676667   \n",
       "Gradient boosting-with description token                        0.638333   \n",
       "KNN-with description token                                      0.595000   \n",
       "Gradient boosting-without description token                     0.548333   \n",
       "Random Forest Classifier-without description token              0.541667   \n",
       "KNN-without description token                                   0.475000   \n",
       "AdaBoost Classifier-with description token                      0.446667   \n",
       "Logistic Regression-without description token                   0.421667   \n",
       "Support Vector Machine Classifier-without descr...              0.418333   \n",
       "Ridge Classifier-without description token                      0.410000   \n",
       "AdaBoost Classifier-without description token                   0.348333   \n",
       "\n",
       "                                                    test_precision_weighted  \\\n",
       "model                                                                         \n",
       "Ridge Classifier-with description token                            0.695096   \n",
       "Support Vector Machine Classifier-with descript...                 0.687177   \n",
       "Logistic Regression-with description token                         0.668213   \n",
       "Random Forest Classifier-with description token                    0.668083   \n",
       "Gradient boosting-with description token                           0.642173   \n",
       "KNN-with description token                                         0.578802   \n",
       "Gradient boosting-without description token                        0.552223   \n",
       "Random Forest Classifier-without description token                 0.541804   \n",
       "KNN-without description token                                      0.458126   \n",
       "AdaBoost Classifier-with description token                         0.370681   \n",
       "Logistic Regression-without description token                      0.330253   \n",
       "Support Vector Machine Classifier-without descr...                 0.315505   \n",
       "Ridge Classifier-without description token                         0.305329   \n",
       "AdaBoost Classifier-without description token                      0.265261   \n",
       "\n",
       "                                                    test_f1_weighted  \\\n",
       "model                                                                  \n",
       "Ridge Classifier-with description token                     0.687624   \n",
       "Support Vector Machine Classifier-with descript...          0.681543   \n",
       "Logistic Regression-with description token                  0.664068   \n",
       "Random Forest Classifier-with description token             0.646961   \n",
       "Gradient boosting-with description token                    0.623132   \n",
       "KNN-with description token                                  0.560988   \n",
       "Gradient boosting-without description token                 0.537041   \n",
       "Random Forest Classifier-without description token          0.534010   \n",
       "KNN-without description token                               0.458001   \n",
       "AdaBoost Classifier-with description token                  0.371635   \n",
       "Logistic Regression-without description token               0.341243   \n",
       "Support Vector Machine Classifier-without descr...          0.329054   \n",
       "Ridge Classifier-without description token                  0.320031   \n",
       "AdaBoost Classifier-without description token               0.278932   \n",
       "\n",
       "                                                    avg_score  \n",
       "model                                                          \n",
       "Ridge Classifier-with description token              0.665894  \n",
       "Support Vector Machine Classifier-with descript...   0.657837  \n",
       "Logistic Regression-with description token           0.641249  \n",
       "Random Forest Classifier-with description token      0.634134  \n",
       "Gradient boosting-with description token             0.606243  \n",
       "KNN-with description token                           0.542793  \n",
       "Gradient boosting-without description token          0.521381  \n",
       "Random Forest Classifier-without description token   0.516608  \n",
       "KNN-without description token                        0.440215  \n",
       "AdaBoost Classifier-with description token           0.373604  \n",
       "Logistic Regression-without description token        0.343057  \n",
       "Support Vector Machine Classifier-without descr...   0.339162  \n",
       "Ridge Classifier-without description token           0.329644  \n",
       "AdaBoost Classifier-without description token        0.279545  "
      ]
     },
     "execution_count": 20,
     "metadata": {},
     "output_type": "execute_result"
    }
   ],
   "source": [
    "model_crossvalidation_results['avg_score'] = model_crossvalidation_results[[i for i in model_crossvalidation_results.columns if 'test' in i]].mean(axis=1)\n",
    "model_crossvalidation_results = model_crossvalidation_results.sort_values(by='avg_score', ascending=False)\n",
    "model_crossvalidation_results.set_index('model', inplace=True)\n",
    "model_crossvalidation_results"
   ]
  },
  {
   "cell_type": "code",
   "execution_count": 21,
   "id": "2d2cde5e",
   "metadata": {},
   "outputs": [
    {
     "data": {
      "text/plain": [
       "Text(0.5, 1.0, 'Model Cross-Validation Results')"
      ]
     },
     "execution_count": 21,
     "metadata": {},
     "output_type": "execute_result"
    },
    {
     "data": {
      "image/png": "[encoded data removed]",
      "text/plain": [
       "<Figure size 640x480 with 1 Axes>"
      ]
     },
     "metadata": {},
     "output_type": "display_data"
    }
   ],
   "source": [
    "sns.barplot(data=model_crossvalidation_results, x='avg_score', y=model_crossvalidation_results.index, orient='h')\n",
    "plt.title('Model Cross-Validation Results')"
   ]
  },
  {
   "cell_type": "markdown",
   "id": "1637624c",
   "metadata": {},
   "source": [
    "## Select the best models for hyperparameter tunning"
   ]
  },
  {
   "cell_type": "code",
   "execution_count": 25,
   "id": "f83f5090",
   "metadata": {},
   "outputs": [
    {
     "name": "stdout",
     "output_type": "stream",
     "text": [
      "Best models were: ['Ridge Classifier', 'Logistic Regression', 'Random Forest Classifier']\n"
     ]
    }
   ],
   "source": [
    "best_models = model_crossvalidation_results.index[:3].to_list()\n",
    "print(f\"Best models were: {best_models}\")"
   ]
  },
  {
   "cell_type": "markdown",
   "id": "0e1b5b4b",
   "metadata": {},
   "source": [
    "## Hyper-parameters selection"
   ]
  },
  {
   "cell_type": "markdown",
   "id": "fb07e42c",
   "metadata": {},
   "source": [
    "### Setting parameters for gridsearch"
   ]
  },
  {
   "cell_type": "code",
   "execution_count": null,
   "id": "c5c08c82",
   "metadata": {},
   "outputs": [],
   "source": [
    "param_grid = {\n",
    "                \"Ridge Classifier\" :{'alpha': np.linspace(0.1, 1, num = 3), \n",
    "                                    'class_weight': ['balanced', None]},\n",
    "                \"Logistic Regression\" :{\n",
    "                                        'solver' : ['lbfgs', 'liblinear', 'sag'],\n",
    "                                        'C': [10, 1.0, 0.1]},\n",
    "                \"Random Forest Classifier\" :{\n",
    "                                            # 'criterion': ['gini', 'entropy'],\n",
    "                                            # 'max_depth': [int(x) for x in np.linspace(10, 110, num = 11)],\n",
    "                                            # 'min_samples_leaf': [1, 2, 4],\n",
    "                                            'min_samples_split': [2, 5, 10],\n",
    "                                            'max_features': [None, 'sqrt', 0.3],\n",
    "                                            # 'n_estimators':[int(x) for x in np.linspace(start = 40, stop = 150, num = 20)]\n",
    "                                            },\n",
    "            }"
   ]
  },
  {
   "cell_type": "markdown",
   "id": "8ea30f1d",
   "metadata": {},
   "source": [
    "### Tunning"
   ]
  },
  {
   "cell_type": "code",
   "execution_count": null,
   "id": "5d4aed13",
   "metadata": {},
   "outputs": [],
   "source": [
    "hyper_param_tunning_results = {}\n",
    "#preprocess data for the hyper parameter tuning\n",
    "X_train_processed =  data_transformer.fit(X_train).transform(X_train)\n",
    "for model_name, params in param_grid.items():\n",
    "    print(f\"Running grid search for model: {model_name}\")\n",
    "    model =  model_candidates[model_name]\n",
    "    grid = param_grid[model_name]\n",
    "    \n",
    "    # Perform grid search\n",
    "    grid_search = GridSearchCV(estimator=model, cv=2, param_grid=grid, scoring='f1_weighted', verbose=0, n_jobs=-1)\n",
    "    grid_result = grid_search.fit(X_train_processed, y_train)\n",
    "    hyper_param_tunning_results[model_name] = grid_result"
   ]
  },
  {
   "cell_type": "markdown",
   "id": "c5b2bbfc",
   "metadata": {},
   "source": [
    "### Hyperparameter tunning analysis"
   ]
  },
  {
   "cell_type": "code",
   "execution_count": null,
   "id": "3da75d71",
   "metadata": {},
   "outputs": [],
   "source": [
    "hyperparameter_tunning_scores = {estimator:grid_search.best_score_ for estimator,grid_search in hyper_param_tunning_results.items()}\n",
    "\n",
    "best_estimator = sorted(hyperparameter_tunning_scores.items(), key=lambda item: item[1], reverse=True)[0]"
   ]
  },
  {
   "cell_type": "code",
   "execution_count": 38,
   "id": "5b213d83",
   "metadata": {},
   "outputs": [
    {
     "name": "stdout",
     "output_type": "stream",
     "text": [
      "best estimator is Ridge Classifier with score 0.6566580372496947 and parameters {'alpha': np.float64(0.55), 'class_weight': None}\n"
     ]
    }
   ],
   "source": [
    "print(f'best estimator is {best_estimator[0]} with score {best_estimator[1]} and parameters {hyper_param_tunning_results[best_estimator[0]].best_params_}')"
   ]
  },
  {
   "cell_type": "code",
   "execution_count": 29,
   "id": "bc4570ef",
   "metadata": {},
   "outputs": [
    {
     "data": {
      "text/plain": [
       "<Axes: >"
      ]
     },
     "execution_count": 29,
     "metadata": {},
     "output_type": "execute_result"
    },
    {
     "data": {
      "image/png": "[encoded data removed]",
      "text/plain": [
       "<Figure size 640x480 with 1 Axes>"
      ]
     },
     "metadata": {},
     "output_type": "display_data"
    }
   ],
   "source": [
    "sns.barplot({estimator:grid_search.best_score_ for estimator,grid_search in hyper_param_tunning_results.items()})"
   ]
  },
  {
   "cell_type": "markdown",
   "id": "838a0e36",
   "metadata": {},
   "source": [
    "### Re-run cross-validation with best parameters"
   ]
  },
  {
   "cell_type": "code",
   "execution_count": null,
   "id": "81dd94eb",
   "metadata": {},
   "outputs": [],
   "source": [
    "hyper_parameter_scores = []\n",
    "model_names = []\n",
    "# Parâmetros e partições da validação cruzada\n",
    "scoring = 'f1_weighted'\n",
    "splits = 3\n",
    "kfold = StratifiedKFold(n_splits=splits, shuffle=True, random_state=random_state) # validação cruzada com estratificação\n",
    "\n",
    "for model_name, clf in hyper_param_tunning_results.items():\n",
    "    print(f\"Evaluating model: {model_name}\")\n",
    "    model = clf.best_estimator_\n",
    "    try:\n",
    "        model_result = cross_val_score(clf, X_train_processed, y_train_encoded, scoring=scoring, verbose=0 )\n",
    "        hyper_parameter_scores.append(model_result)\n",
    "        model_names.append(model_name)\n",
    "    except Exception as e:\n",
    "        print(f\"Error in model: {model_name}: {e}\")"
   ]
  },
  {
   "cell_type": "code",
   "execution_count": 52,
   "id": "8d71ea36",
   "metadata": {},
   "outputs": [
    {
     "data": {
      "image/png": "[encoded data removed]",
      "text/plain": [
       "<Figure size 1500x1000 with 1 Axes>"
      ]
     },
     "metadata": {},
     "output_type": "display_data"
    }
   ],
   "source": [
    "# Boxplot de comparação dos modelos\n",
    "fig = plt.figure(figsize=(15,10))\n",
    "fig.suptitle('Model Benchmark', fontsize=16)\n",
    "ax = fig.add_subplot(111)\n",
    "plt.boxplot(hyper_parameter_scores)\n",
    "ax.set_xticklabels(model_names)\n",
    "plt.show()"
   ]
  },
  {
   "cell_type": "markdown",
   "id": "23b0f852",
   "metadata": {},
   "source": [
    "## Test Model"
   ]
  },
  {
   "cell_type": "code",
   "execution_count": null,
   "id": "cc81fefe",
   "metadata": {},
   "outputs": [
    {
     "name": "stdout",
     "output_type": "stream",
     "text": [
      "          Data\n",
      "38  2023-01-18\n",
      "749 2023-11-24\n",
      "91  2023-02-02\n",
      "557 2023-08-28\n",
      "152 2023-03-02\n"
     ]
    },
    {
     "name": "stderr",
     "output_type": "stream",
     "text": [
      "Map: 100%|██████████| 600/600 [00:00<00:00, 19415.83 examples/s]\n",
      "Map: 100%|██████████| 600/600 [00:08<00:00, 68.39 examples/s]\n"
     ]
    },
    {
     "name": "stdout",
     "output_type": "stream",
     "text": [
      "          Data\n",
      "134 2022-12-11\n",
      "206 2023-04-01\n",
      "714 2023-11-07\n",
      "720 2023-11-10\n",
      "69  2023-01-19\n"
     ]
    },
    {
     "name": "stderr",
     "output_type": "stream",
     "text": [
      "Map: 100%|██████████| 258/258 [00:00<00:00, 8207.22 examples/s]\n",
      "Map: 100%|██████████| 258/258 [00:05<00:00, 45.60 examples/s]\n"
     ]
    }
   ],
   "source": [
    "X_test_processed =  data_transformer.fit(X_train).transform(X_test)"
   ]
  },
  {
   "cell_type": "code",
   "execution_count": null,
   "id": "44e1d18c",
   "metadata": {},
   "outputs": [
    {
     "name": "stdout",
     "output_type": "stream",
     "text": [
      "Evaluating model: Ridge Classifier\n",
      "Evaluating model: Logistic Regression\n",
      "Evaluating model: Random Forest Classifier\n"
     ]
    }
   ],
   "source": [
    "model_names = []\n",
    "\n",
    "metrics = [('balanced_accuracy_score', balanced_accuracy_score), ('confusion_matrix', confusion_matrix)]\n",
    "test_scores = { metric_name: [] for metric_name, _ in metrics }\n",
    "\n",
    "for model_name, clf in hyper_param_tunning_results.items():\n",
    "    print(f\"Evaluating model: {model_name}\")\n",
    "    model = clf.best_estimator_\n",
    "    model_names.append(model_name)\n",
    "    try:\n",
    "        predictions = model.predict(X_test_processed, random_state=random_state)\n",
    "        predictions_encoded = y_enconder.transform(predictions)\n",
    "\n",
    "        for metric_name, metric in metrics:\n",
    "            if metric == roc_auc_score:\n",
    "                model_result = metric(y_test_encoded, predictions_encoded, average='weighted')\n",
    "            else:\n",
    "                model_result = metric(y_test_encoded, predictions_encoded)\n",
    "            test_scores[metric_name].append(model_result) \n",
    "    except Exception as e:\n",
    "        print(f\"Error in model: {model_name}: {e}\")"
   ]
  },
  {
   "cell_type": "code",
   "execution_count": 97,
   "id": "de40e136",
   "metadata": {},
   "outputs": [
    {
     "name": "stderr",
     "output_type": "stream",
     "text": [
      "C:\\Users\\guilh\\AppData\\Local\\Temp\\ipykernel_29092\\1286417807.py:5: UserWarning: set_ticklabels() should only be used with a fixed number of ticks, i.e. after set_ticks() or using a FixedLocator.\n",
      "  ax.set_xticklabels(model_names)\n"
     ]
    },
    {
     "data": {
      "text/plain": [
       "[Text(0, 0, 'Ridge Classifier'),\n",
       " Text(1, 0, 'Logistic Regression'),\n",
       " Text(2, 0, 'Random Forest Classifier')]"
      ]
     },
     "execution_count": 97,
     "metadata": {},
     "output_type": "execute_result"
    },
    {
     "data": {
      "image/png": "[encoded data removed]",
      "text/plain": [
       "<Figure size 1500x1000 with 1 Axes>"
      ]
     },
     "metadata": {},
     "output_type": "display_data"
    }
   ],
   "source": [
    "fig = plt.figure(figsize=(15,10))\n",
    "fig.suptitle('Balanced Accuracy Score', fontsize=16)\n",
    "ax = fig.add_subplot(111)\n",
    "sns.barplot(test_scores['balanced_accuracy_score'])\n",
    "ax.set_xticklabels(model_names)"
   ]
  },
  {
   "cell_type": "code",
   "execution_count": null,
   "id": "97ce7a83",
   "metadata": {},
   "outputs": [
    {
     "data": {
      "image/png": "[encoded data removed]",
      "text/plain": [
       "<Figure size 640x480 with 2 Axes>"
      ]
     },
     "metadata": {},
     "output_type": "display_data"
    },
    {
     "data": {
      "image/png": "[encoded data removed]",
      "text/plain": [
       "<Figure size 640x480 with 2 Axes>"
      ]
     },
     "metadata": {},
     "output_type": "display_data"
    },
    {
     "data": {
      "image/png": "[encoded data removed]",
      "text/plain": [
       "<Figure size 640x480 with 2 Axes>"
      ]
     },
     "metadata": {},
     "output_type": "display_data"
    }
   ],
   "source": [
    "nrows=len(model_names)\n",
    "ncols=1 \n",
    "for i, model_name in enumerate(model_names):\n",
    "    data = test_scores['confusion_matrix'][i]\n",
    "    model = hyper_param_tunning_results[model_name].best_estimator_\n",
    "    try:\n",
    "        ax = fig.add_subplot(nrows,ncols,i+1)\n",
    "        disp = ConfusionMatrixDisplay.from_estimator(\n",
    "            model,\n",
    "            X_test_processed,\n",
    "            y_test,\n",
    "            display_labels=y_enconder.classes_,\n",
    "            cmap=plt.cm.Blues,\n",
    "        )\n",
    "        \n",
    "        disp.ax_.set_title(model_name)\n",
    "        disp.ax_.tick_params(axis='x', labelrotation=90)\n",
    "    except:\n",
    "        print('Rrror ploting confusion matrix for model: ', model_name)"
   ]
  },
  {
   "cell_type": "markdown",
   "id": "e5c9d124",
   "metadata": {},
   "source": [
    "## Save model"
   ]
  },
  {
   "cell_type": "code",
   "execution_count": null,
   "id": "120058a8",
   "metadata": {},
   "outputs": [],
   "source": [
    "def save_data_pkl(file_path, obj):\n",
    "    with open(file_path, \"wb\") as f:\n",
    "        print(f'Saving the \"{file_path}\"')\n",
    "        pickle.dump(obj, f)"
   ]
  },
  {
   "cell_type": "code",
   "execution_count": null,
   "id": "369db2f1",
   "metadata": {},
   "outputs": [
    {
     "name": "stdout",
     "output_type": "stream",
     "text": [
      "Saving the \"Ridge Classifier\" model to classification_model.pkl\n"
     ]
    }
   ],
   "source": [
    "print(f'Saving the \"{best_estimator[0]}\" model to classification_model.pkl')\n",
    "save_data_pkl(\"classification_model.pkl\", hyper_param_tunning_results[best_estimator[0]].best_estimator_)"
   ]
  },
  {
   "cell_type": "markdown",
   "id": "b4714fad",
   "metadata": {},
   "source": [
    "### Save data for testing the model"
   ]
  },
  {
   "cell_type": "code",
   "execution_count": 171,
   "id": "41a14472",
   "metadata": {},
   "outputs": [],
   "source": [
    "np.random.seed(test_dataset_seed)\n",
    "model = hyper_param_tunning_results['Ridge Classifier'].best_estimator_\n",
    "predictions = model.predict(X_test_processed)\n",
    "predictions_encoded = y_enconder.transform(predictions)"
   ]
  },
  {
   "cell_type": "code",
   "execution_count": null,
   "id": "d3096980",
   "metadata": {},
   "outputs": [
    {
     "name": "stdout",
     "output_type": "stream",
     "text": [
      "Saving the \"X_test_preprocessed\" data to pkl\n",
      "Saving the \"X_test_preprocessed.pkl\"\n"
     ]
    }
   ],
   "source": [
    "save_data_pkl(\"X_test_preprocessed.pkl\", X_test_processed)   "
   ]
  },
  {
   "cell_type": "code",
   "execution_count": 172,
   "id": "cb535de3",
   "metadata": {},
   "outputs": [
    {
     "data": {
      "text/plain": [
       "np.float64(-1245.1475847264246)"
      ]
     },
     "execution_count": 172,
     "metadata": {},
     "output_type": "execute_result"
    }
   ],
   "source": [
    "X_test_processed.sum()"
   ]
  },
  {
   "cell_type": "code",
   "execution_count": 158,
   "id": "27946fac",
   "metadata": {},
   "outputs": [
    {
     "name": "stdout",
     "output_type": "stream",
     "text": [
      "Saving the \"y_predictions_seed_1.pkl\"\n"
     ]
    }
   ],
   "source": [
    "save_data_pkl(f\"y_predictions_seed_{test_dataset_seed}.pkl\", predictions)   "
   ]
  },
  {
   "cell_type": "code",
   "execution_count": 161,
   "id": "9a520df9",
   "metadata": {},
   "outputs": [
    {
     "name": "stdout",
     "output_type": "stream",
     "text": [
      "Saving the \"model_result_seed_1.pkl\"\n"
     ]
    }
   ],
   "source": [
    "save_data_pkl(f\"model_result_seed_{test_dataset_seed}.pkl\", model_result)   "
   ]
  },
  {
   "cell_type": "code",
   "execution_count": null,
   "id": "f0570100",
   "metadata": {},
   "outputs": [
    {
     "name": "stdout",
     "output_type": "stream",
     "text": [
      "Saving the \"y_enconder_seed_1.pkl\"\n"
     ]
    }
   ],
   "source": [
    "save_data_pkl(f\"y_enconder.pkl\", y_enconder)   "
   ]
  },
  {
   "cell_type": "code",
   "execution_count": 173,
   "id": "3cc9b8a2",
   "metadata": {},
   "outputs": [
    {
     "data": {
      "text/plain": [
       "0.53166746230656"
      ]
     },
     "execution_count": 173,
     "metadata": {},
     "output_type": "execute_result"
    }
   ],
   "source": [
    "balanced_accuracy_score(y_test_encoded, predictions_encoded)"
   ]
  },
  {
   "cell_type": "code",
   "execution_count": null,
   "id": "5194d9fa",
   "metadata": {},
   "outputs": [
    {
     "name": "stdout",
     "output_type": "stream",
     "text": [
      "Saving the \"balanced_accuracy_score_seed_1.pkl\"\n"
     ]
    }
   ],
   "source": [
    "metric_name, metric = metrics[0]\n",
    "model_result = balanced_accuracy_score(y_test_encoded, predictions_encoded)\n",
    "save_data_pkl(f\"{metric_name}_seed_{test_dataset_seed}.pkl\", test_scores[metric_name][0])   "
   ]
  },
  {
   "cell_type": "code",
   "execution_count": 175,
   "id": "4305cacc",
   "metadata": {},
   "outputs": [
    {
     "name": "stdout",
     "output_type": "stream",
     "text": [
      "Saving the \"X_test_raw.pkl\"\n"
     ]
    }
   ],
   "source": [
    "save_data_pkl(f\"X_test_raw.pkl\", X_test)   "
   ]
  },
  {
   "cell_type": "code",
   "execution_count": 176,
   "id": "1981d9a5",
   "metadata": {},
   "outputs": [
    {
     "name": "stdout",
     "output_type": "stream",
     "text": [
      "          Data\n",
      "134 2022-12-11\n",
      "206 2023-04-01\n",
      "714 2023-11-07\n",
      "720 2023-11-10\n",
      "69  2023-01-19\n"
     ]
    },
    {
     "name": "stderr",
     "output_type": "stream",
     "text": [
      "Map: 100%|██████████| 258/258 [00:00<00:00, 5080.35 examples/s]\n",
      "Map: 100%|██████████| 258/258 [00:05<00:00, 43.89 examples/s]\n"
     ]
    },
    {
     "data": {
      "text/plain": [
       "array([[-0.17824334,  0.67572463,  0.73715414, ...,  0.        ,\n",
       "         0.        ,  0.        ],\n",
       "       [-0.3444607 ,  0.24253563,  0.9701425 , ...,  0.        ,\n",
       "         0.        ,  0.        ],\n",
       "       [-0.22377174,  0.53687549,  0.84366149, ...,  0.        ,\n",
       "         0.        ,  0.        ],\n",
       "       ...,\n",
       "       [-0.10325312,  0.8       ,  0.6       , ...,  0.        ,\n",
       "         0.        ,  0.        ],\n",
       "       [-0.12472425,  0.70710678,  0.70710678, ...,  0.        ,\n",
       "         0.        ,  0.        ],\n",
       "       [-0.08314475,  0.9701425 ,  0.24253563, ...,  0.        ,\n",
       "         0.        ,  0.        ]], shape=(258, 779))"
      ]
     },
     "execution_count": 176,
     "metadata": {},
     "output_type": "execute_result"
    }
   ],
   "source": [
    "preprocessor.transform(X_test)"
   ]
  }
 ],
 "metadata": {
  "kernelspec": {
   "display_name": ".venv",
   "language": "python",
   "name": "python3"
  },
  "language_info": {
   "codemirror_mode": {
    "name": "ipython",
    "version": 3
   },
   "file_extension": ".py",
   "mimetype": "text/x-python",
   "name": "python",
   "nbconvert_exporter": "python",
   "pygments_lexer": "ipython3",
   "version": "3.10.13"
  }
 },
 "nbformat": 4,
 "nbformat_minor": 5
}
